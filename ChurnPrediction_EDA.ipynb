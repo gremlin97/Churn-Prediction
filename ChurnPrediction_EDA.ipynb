{
 "cells": [
  {
   "cell_type": "markdown",
   "metadata": {
    "application/vnd.databricks.v1+cell": {
     "cellMetadata": {
      "byteLimit": 2048000,
      "rowLimit": 10000
     },
     "inputWidgets": {},
     "nuid": "f80aed74-5ec8-42fe-8924-8c1f6928a89a",
     "showTitle": false,
     "title": ""
    }
   },
   "source": [
    "##Data Import"
   ]
  },
  {
   "cell_type": "code",
   "execution_count": null,
   "metadata": {
    "application/vnd.databricks.v1+cell": {
     "cellMetadata": {
      "byteLimit": 2048000,
      "rowLimit": 10000
     },
     "inputWidgets": {},
     "nuid": "74942e96-a216-47ea-bd31-8361d8a0a405",
     "showTitle": false,
     "title": ""
    }
   },
   "outputs": [
    {
     "name": "stdout",
     "output_type": "stream",
     "text": [
      "Python interpreter will be restarted.\n",
      "Requirement already satisfied: mlflow in /local_disk0/.ephemeral_nfs/envs/pythonEnv-178cf2a9-d388-434e-9079-c64acd37bbd2/lib/python3.9/site-packages (2.12.2)\n",
      "Requirement already satisfied: docker<8,>=4.0.0 in /local_disk0/.ephemeral_nfs/envs/pythonEnv-178cf2a9-d388-434e-9079-c64acd37bbd2/lib/python3.9/site-packages (from mlflow) (7.0.0)\n",
      "Requirement already satisfied: gitpython<4,>=3.1.9 in /local_disk0/.ephemeral_nfs/envs/pythonEnv-178cf2a9-d388-434e-9079-c64acd37bbd2/lib/python3.9/site-packages (from mlflow) (3.1.43)\n",
      "Requirement already satisfied: graphene<4 in /local_disk0/.ephemeral_nfs/envs/pythonEnv-178cf2a9-d388-434e-9079-c64acd37bbd2/lib/python3.9/site-packages (from mlflow) (3.3)\n",
      "Requirement already satisfied: pyarrow<16,>=4.0.0 in /databricks/python3/lib/python3.9/site-packages (from mlflow) (7.0.0)\n",
      "Requirement already satisfied: pyyaml<7,>=5.1 in /local_disk0/.ephemeral_nfs/envs/pythonEnv-178cf2a9-d388-434e-9079-c64acd37bbd2/lib/python3.9/site-packages (from mlflow) (6.0.1)\n",
      "Requirement already satisfied: cloudpickle<4 in /local_disk0/.ephemeral_nfs/envs/pythonEnv-178cf2a9-d388-434e-9079-c64acd37bbd2/lib/python3.9/site-packages (from mlflow) (3.0.0)\n",
      "Requirement already satisfied: pytz<2025 in /databricks/python3/lib/python3.9/site-packages (from mlflow) (2021.3)\n",
      "Requirement already satisfied: protobuf<5,>=3.12.0 in /databricks/python3/lib/python3.9/site-packages (from mlflow) (3.19.4)\n",
      "Requirement already satisfied: requests<3,>=2.17.3 in /databricks/python3/lib/python3.9/site-packages (from mlflow) (2.27.1)\n",
      "Requirement already satisfied: numpy<2 in /databricks/python3/lib/python3.9/site-packages (from mlflow) (1.21.5)\n",
      "Requirement already satisfied: alembic!=1.10.0,<2 in /local_disk0/.ephemeral_nfs/envs/pythonEnv-178cf2a9-d388-434e-9079-c64acd37bbd2/lib/python3.9/site-packages (from mlflow) (1.13.1)\n",
      "Requirement already satisfied: Jinja2<4,>=2.11 in /local_disk0/.ephemeral_nfs/envs/pythonEnv-178cf2a9-d388-434e-9079-c64acd37bbd2/lib/python3.9/site-packages (from mlflow) (3.1.4)\n",
      "Requirement already satisfied: scipy<2 in /databricks/python3/lib/python3.9/site-packages (from mlflow) (1.7.3)\n",
      "Requirement already satisfied: matplotlib<4 in /databricks/python3/lib/python3.9/site-packages (from mlflow) (3.5.1)\n",
      "Requirement already satisfied: scikit-learn<2 in /databricks/python3/lib/python3.9/site-packages (from mlflow) (1.0.2)\n",
      "Requirement already satisfied: importlib-metadata!=4.7.0,<8,>=3.7.0 in /local_disk0/.ephemeral_nfs/envs/pythonEnv-178cf2a9-d388-434e-9079-c64acd37bbd2/lib/python3.9/site-packages (from mlflow) (7.1.0)\n",
      "Requirement already satisfied: entrypoints<1 in /databricks/python3/lib/python3.9/site-packages (from mlflow) (0.4)\n",
      "Requirement already satisfied: markdown<4,>=3.3 in /local_disk0/.ephemeral_nfs/envs/pythonEnv-178cf2a9-d388-434e-9079-c64acd37bbd2/lib/python3.9/site-packages (from mlflow) (3.6)\n",
      "Requirement already satisfied: pandas<3 in /databricks/python3/lib/python3.9/site-packages (from mlflow) (1.4.2)\n",
      "Requirement already satisfied: querystring-parser<2 in /local_disk0/.ephemeral_nfs/envs/pythonEnv-178cf2a9-d388-434e-9079-c64acd37bbd2/lib/python3.9/site-packages (from mlflow) (1.2.4)\n",
      "Requirement already satisfied: packaging<25 in /databricks/python3/lib/python3.9/site-packages (from mlflow) (21.3)\n",
      "Requirement already satisfied: gunicorn<23 in /local_disk0/.ephemeral_nfs/envs/pythonEnv-178cf2a9-d388-434e-9079-c64acd37bbd2/lib/python3.9/site-packages (from mlflow) (22.0.0)\n",
      "Requirement already satisfied: Flask<4 in /local_disk0/.ephemeral_nfs/envs/pythonEnv-178cf2a9-d388-434e-9079-c64acd37bbd2/lib/python3.9/site-packages (from mlflow) (3.0.3)\n",
      "Requirement already satisfied: sqlalchemy<3,>=1.4.0 in /local_disk0/.ephemeral_nfs/envs/pythonEnv-178cf2a9-d388-434e-9079-c64acd37bbd2/lib/python3.9/site-packages (from mlflow) (2.0.30)\n",
      "Requirement already satisfied: sqlparse<1,>=0.4.0 in /local_disk0/.ephemeral_nfs/envs/pythonEnv-178cf2a9-d388-434e-9079-c64acd37bbd2/lib/python3.9/site-packages (from mlflow) (0.5.0)\n",
      "Requirement already satisfied: click<9,>=7.0 in /local_disk0/.ephemeral_nfs/envs/pythonEnv-178cf2a9-d388-434e-9079-c64acd37bbd2/lib/python3.9/site-packages (from mlflow) (8.1.7)\n",
      "Requirement already satisfied: Mako in /local_disk0/.ephemeral_nfs/envs/pythonEnv-178cf2a9-d388-434e-9079-c64acd37bbd2/lib/python3.9/site-packages (from alembic!=1.10.0,<2->mlflow) (1.3.5)\n",
      "Requirement already satisfied: typing-extensions>=4 in /local_disk0/.ephemeral_nfs/envs/pythonEnv-178cf2a9-d388-434e-9079-c64acd37bbd2/lib/python3.9/site-packages (from alembic!=1.10.0,<2->mlflow) (4.11.0)\n",
      "Requirement already satisfied: urllib3>=1.26.0 in /databricks/python3/lib/python3.9/site-packages (from docker<8,>=4.0.0->mlflow) (1.26.9)\n",
      "Requirement already satisfied: Werkzeug>=3.0.0 in /local_disk0/.ephemeral_nfs/envs/pythonEnv-178cf2a9-d388-434e-9079-c64acd37bbd2/lib/python3.9/site-packages (from Flask<4->mlflow) (3.0.3)\n",
      "Requirement already satisfied: blinker>=1.6.2 in /local_disk0/.ephemeral_nfs/envs/pythonEnv-178cf2a9-d388-434e-9079-c64acd37bbd2/lib/python3.9/site-packages (from Flask<4->mlflow) (1.8.2)\n",
      "Requirement already satisfied: itsdangerous>=2.1.2 in /local_disk0/.ephemeral_nfs/envs/pythonEnv-178cf2a9-d388-434e-9079-c64acd37bbd2/lib/python3.9/site-packages (from Flask<4->mlflow) (2.2.0)\n",
      "Requirement already satisfied: gitdb<5,>=4.0.1 in /local_disk0/.ephemeral_nfs/envs/pythonEnv-178cf2a9-d388-434e-9079-c64acd37bbd2/lib/python3.9/site-packages (from gitpython<4,>=3.1.9->mlflow) (4.0.11)\n",
      "Requirement already satisfied: smmap<6,>=3.0.1 in /local_disk0/.ephemeral_nfs/envs/pythonEnv-178cf2a9-d388-434e-9079-c64acd37bbd2/lib/python3.9/site-packages (from gitdb<5,>=4.0.1->gitpython<4,>=3.1.9->mlflow) (5.0.1)\n",
      "Requirement already satisfied: aniso8601<10,>=8 in /local_disk0/.ephemeral_nfs/envs/pythonEnv-178cf2a9-d388-434e-9079-c64acd37bbd2/lib/python3.9/site-packages (from graphene<4->mlflow) (9.0.1)\n",
      "Requirement already satisfied: graphql-relay<3.3,>=3.1 in /local_disk0/.ephemeral_nfs/envs/pythonEnv-178cf2a9-d388-434e-9079-c64acd37bbd2/lib/python3.9/site-packages (from graphene<4->mlflow) (3.2.0)\n",
      "Requirement already satisfied: graphql-core<3.3,>=3.1 in /local_disk0/.ephemeral_nfs/envs/pythonEnv-178cf2a9-d388-434e-9079-c64acd37bbd2/lib/python3.9/site-packages (from graphene<4->mlflow) (3.2.3)\n",
      "Requirement already satisfied: zipp>=0.5 in /local_disk0/.ephemeral_nfs/envs/pythonEnv-178cf2a9-d388-434e-9079-c64acd37bbd2/lib/python3.9/site-packages (from importlib-metadata!=4.7.0,<8,>=3.7.0->mlflow) (3.18.2)\n",
      "Requirement already satisfied: MarkupSafe>=2.0 in /local_disk0/.ephemeral_nfs/envs/pythonEnv-178cf2a9-d388-434e-9079-c64acd37bbd2/lib/python3.9/site-packages (from Jinja2<4,>=2.11->mlflow) (2.1.5)\n",
      "Requirement already satisfied: python-dateutil>=2.7 in /databricks/python3/lib/python3.9/site-packages (from matplotlib<4->mlflow) (2.8.2)\n",
      "Requirement already satisfied: fonttools>=4.22.0 in /databricks/python3/lib/python3.9/site-packages (from matplotlib<4->mlflow) (4.25.0)\n",
      "Requirement already satisfied: kiwisolver>=1.0.1 in /databricks/python3/lib/python3.9/site-packages (from matplotlib<4->mlflow) (1.3.2)\n",
      "Requirement already satisfied: pyparsing>=2.2.1 in /databricks/python3/lib/python3.9/site-packages (from matplotlib<4->mlflow) (3.0.4)\n",
      "Requirement already satisfied: cycler>=0.10 in /databricks/python3/lib/python3.9/site-packages (from matplotlib<4->mlflow) (0.11.0)\n",
      "Requirement already satisfied: pillow>=6.2.0 in /databricks/python3/lib/python3.9/site-packages (from matplotlib<4->mlflow) (9.0.1)\n",
      "Requirement already satisfied: six>=1.5 in /databricks/python3/lib/python3.9/site-packages (from python-dateutil>=2.7->matplotlib<4->mlflow) (1.16.0)\n",
      "Requirement already satisfied: idna<4,>=2.5 in /databricks/python3/lib/python3.9/site-packages (from requests<3,>=2.17.3->mlflow) (3.3)\n",
      "Requirement already satisfied: charset-normalizer~=2.0.0 in /databricks/python3/lib/python3.9/site-packages (from requests<3,>=2.17.3->mlflow) (2.0.4)\n",
      "Requirement already satisfied: certifi>=2017.4.17 in /databricks/python3/lib/python3.9/site-packages (from requests<3,>=2.17.3->mlflow) (2021.10.8)\n",
      "Requirement already satisfied: threadpoolctl>=2.0.0 in /databricks/python3/lib/python3.9/site-packages (from scikit-learn<2->mlflow) (2.2.0)\n",
      "Requirement already satisfied: joblib>=0.11 in /databricks/python3/lib/python3.9/site-packages (from scikit-learn<2->mlflow) (1.1.1)\n",
      "Requirement already satisfied: greenlet!=0.4.17 in /local_disk0/.ephemeral_nfs/envs/pythonEnv-178cf2a9-d388-434e-9079-c64acd37bbd2/lib/python3.9/site-packages (from sqlalchemy<3,>=1.4.0->mlflow) (3.0.3)\n",
      "Python interpreter will be restarted.\n"
     ]
    }
   ],
   "source": [
    "%pip install mlflow "
   ]
  },
  {
   "cell_type": "code",
   "execution_count": null,
   "metadata": {
    "application/vnd.databricks.v1+cell": {
     "cellMetadata": {
      "byteLimit": 2048000,
      "rowLimit": 10000
     },
     "inputWidgets": {},
     "nuid": "7fd806bc-91a2-4177-92bb-8cdc347784a5",
     "showTitle": false,
     "title": ""
    }
   },
   "outputs": [],
   "source": [
    "import pyspark\n",
    "import mlflow\n",
    "from pyspark.sql.functions import isnull, when, count, col\n",
    "from pyspark.ml.feature import OneHotEncoder, StringIndexer, VectorAssembler\n",
    "from pyspark.sql import SparkSession\n",
    "from pyspark.ml import Pipeline\n",
    "from pyspark.ml.stat import Correlation\n",
    "import seaborn as sns\n",
    "import matplotlib.pyplot as plt\n",
    "\n",
    "spark = SparkSession.builder.appName('Churn').getOrCreate()"
   ]
  },
  {
   "cell_type": "code",
   "execution_count": null,
   "metadata": {
    "application/vnd.databricks.v1+cell": {
     "cellMetadata": {
      "byteLimit": 2048000,
      "rowLimit": 10000
     },
     "inputWidgets": {},
     "nuid": "72519dd1-c506-4cbe-a865-8b0ffaaae2ec",
     "showTitle": false,
     "title": ""
    }
   },
   "outputs": [
    {
     "data": {
      "text/html": [
       "\n",
       "            <div>\n",
       "                <p><b>SparkSession - hive</b></p>\n",
       "                \n",
       "        <div>\n",
       "            <p><b>SparkContext</b></p>\n",
       "\n",
       "            <p><a href=\"/?o=2971589841049409#setting/sparkui/0518-211820-haz8zezf/driver-7040625827317190059\">Spark UI</a></p>\n",
       "\n",
       "            <dl>\n",
       "              <dt>Version</dt>\n",
       "                <dd><code>v3.3.2</code></dd>\n",
       "              <dt>Master</dt>\n",
       "                <dd><code>local[8]</code></dd>\n",
       "              <dt>AppName</dt>\n",
       "                <dd><code>Databricks Shell</code></dd>\n",
       "            </dl>\n",
       "        </div>\n",
       "        \n",
       "            </div>\n",
       "        "
      ]
     },
     "metadata": {
      "application/vnd.databricks.v1+output": {
       "addedWidgets": {},
       "arguments": {},
       "data": "\n            <div>\n                <p><b>SparkSession - hive</b></p>\n                \n        <div>\n            <p><b>SparkContext</b></p>\n\n            <p><a href=\"/?o=2971589841049409#setting/sparkui/0518-211820-haz8zezf/driver-7040625827317190059\">Spark UI</a></p>\n\n            <dl>\n              <dt>Version</dt>\n                <dd><code>v3.3.2</code></dd>\n              <dt>Master</dt>\n                <dd><code>local[8]</code></dd>\n              <dt>AppName</dt>\n                <dd><code>Databricks Shell</code></dd>\n            </dl>\n        </div>\n        \n            </div>\n        ",
       "datasetInfos": [],
       "metadata": {},
       "removedWidgets": [],
       "textData": null,
       "type": "htmlSandbox"
      }
     },
     "output_type": "display_data"
    }
   ],
   "source": [
    "spark"
   ]
  },
  {
   "cell_type": "code",
   "execution_count": null,
   "metadata": {
    "application/vnd.databricks.v1+cell": {
     "cellMetadata": {
      "byteLimit": 2048000,
      "rowLimit": 10000
     },
     "inputWidgets": {},
     "nuid": "7e2ecc74-f860-40de-bc4c-56cf18979443",
     "showTitle": false,
     "title": ""
    }
   },
   "outputs": [],
   "source": [
    "df = spark.read.csv('/FileStore/tables/train-1.csv', header=True, inferSchema=True)"
   ]
  },
  {
   "cell_type": "markdown",
   "metadata": {
    "application/vnd.databricks.v1+cell": {
     "cellMetadata": {
      "byteLimit": 2048000,
      "rowLimit": 10000
     },
     "inputWidgets": {},
     "nuid": "91c94cfa-7776-49dd-8465-f9420efd5a82",
     "showTitle": false,
     "title": ""
    }
   },
   "source": [
    "##Data Exploration"
   ]
  },
  {
   "cell_type": "code",
   "execution_count": null,
   "metadata": {
    "application/vnd.databricks.v1+cell": {
     "cellMetadata": {
      "byteLimit": 2048000,
      "rowLimit": 10000
     },
     "inputWidgets": {},
     "nuid": "1d2210fb-dea0-4487-be5d-fcc23a1077e0",
     "showTitle": false,
     "title": ""
    }
   },
   "outputs": [
    {
     "name": "stdout",
     "output_type": "stream",
     "text": [
      "+---+----------+--------------+-----------+---------+------+----+------+---------+-------------+---------+--------------+---------------+------+\n",
      "| id|CustomerId|       Surname|CreditScore|Geography|Gender| Age|Tenure|  Balance|NumOfProducts|HasCrCard|IsActiveMember|EstimatedSalary|Exited|\n",
      "+---+----------+--------------+-----------+---------+------+----+------+---------+-------------+---------+--------------+---------------+------+\n",
      "|  0|  15674932|Okwudilichukwu|        668|   France|  Male|33.0|     3|      0.0|            2|      1.0|           0.0|      181449.97|     0|\n",
      "|  1|  15749177| Okwudiliolisa|        627|   France|  Male|33.0|     1|      0.0|            2|      1.0|           1.0|        49503.5|     0|\n",
      "|  2|  15694510|         Hsueh|        678|   France|  Male|40.0|    10|      0.0|            2|      1.0|           0.0|      184866.69|     0|\n",
      "|  3|  15741417|           Kao|        581|   France|  Male|34.0|     2|148882.54|            1|      1.0|           1.0|       84560.88|     0|\n",
      "|  4|  15766172|     Chiemenam|        716|    Spain|  Male|33.0|     5|      0.0|            2|      1.0|           1.0|       15068.83|     0|\n",
      "+---+----------+--------------+-----------+---------+------+----+------+---------+-------------+---------+--------------+---------------+------+\n",
      "only showing top 5 rows\n",
      "\n"
     ]
    }
   ],
   "source": [
    "df.show(5) # Show dataset top 5 rows"
   ]
  },
  {
   "cell_type": "code",
   "execution_count": null,
   "metadata": {
    "application/vnd.databricks.v1+cell": {
     "cellMetadata": {
      "byteLimit": 2048000,
      "rowLimit": 10000
     },
     "inputWidgets": {},
     "nuid": "dac085f4-2b07-4144-8ea0-368b95518c40",
     "showTitle": false,
     "title": ""
    }
   },
   "outputs": [
    {
     "name": "stdout",
     "output_type": "stream",
     "text": [
      "Out[5]: pyspark.sql.dataframe.DataFrame"
     ]
    }
   ],
   "source": [
    "type(df) #Check type of dataframe"
   ]
  },
  {
   "cell_type": "code",
   "execution_count": null,
   "metadata": {
    "application/vnd.databricks.v1+cell": {
     "cellMetadata": {
      "byteLimit": 2048000,
      "rowLimit": 10000
     },
     "inputWidgets": {},
     "nuid": "af241536-1f08-4770-af07-874a01ddbacd",
     "showTitle": false,
     "title": ""
    }
   },
   "outputs": [
    {
     "name": "stdout",
     "output_type": "stream",
     "text": [
      "Out[6]: [Row(id=0, CustomerId=15674932, Surname='Okwudilichukwu', CreditScore=668, Geography='France', Gender='Male', Age=33.0, Tenure=3, Balance=0.0, NumOfProducts=2, HasCrCard=1.0, IsActiveMember=0.0, EstimatedSalary=181449.97, Exited=0),\n",
      " Row(id=1, CustomerId=15749177, Surname='Okwudiliolisa', CreditScore=627, Geography='France', Gender='Male', Age=33.0, Tenure=1, Balance=0.0, NumOfProducts=2, HasCrCard=1.0, IsActiveMember=1.0, EstimatedSalary=49503.5, Exited=0)]"
     ]
    }
   ],
   "source": [
    "df.head(2) # Get top 2 records (Return: List format)"
   ]
  },
  {
   "cell_type": "code",
   "execution_count": null,
   "metadata": {
    "application/vnd.databricks.v1+cell": {
     "cellMetadata": {
      "byteLimit": 2048000,
      "rowLimit": 10000
     },
     "inputWidgets": {},
     "nuid": "58ba71d5-8345-4896-90f8-e563329602d9",
     "showTitle": false,
     "title": ""
    }
   },
   "outputs": [
    {
     "name": "stdout",
     "output_type": "stream",
     "text": [
      "Out[7]: [Row(id=165032, CustomerId=15689614, Surname='Hsiung', CreditScore=554, Geography='Spain', Gender='Female', Age=30.0, Tenure=7, Balance=161533.0, NumOfProducts=1, HasCrCard=0.0, IsActiveMember=1.0, EstimatedSalary=71173.03, Exited=0),\n",
      " Row(id=165033, CustomerId=15732798, Surname='Ulyanov', CreditScore=850, Geography='France', Gender='Male', Age=31.0, Tenure=1, Balance=0.0, NumOfProducts=1, HasCrCard=1.0, IsActiveMember=0.0, EstimatedSalary=61581.79, Exited=1)]"
     ]
    }
   ],
   "source": [
    "df.tail(2) # Get Bottom 2 records"
   ]
  },
  {
   "cell_type": "code",
   "execution_count": null,
   "metadata": {
    "application/vnd.databricks.v1+cell": {
     "cellMetadata": {
      "byteLimit": 2048000,
      "rowLimit": 10000
     },
     "inputWidgets": {},
     "nuid": "d68ab323-4c06-4ff2-b64e-fdc0a048f586",
     "showTitle": false,
     "title": ""
    }
   },
   "outputs": [
    {
     "name": "stdout",
     "output_type": "stream",
     "text": [
      "root\n",
      " |-- id: integer (nullable = true)\n",
      " |-- CustomerId: integer (nullable = true)\n",
      " |-- Surname: string (nullable = true)\n",
      " |-- CreditScore: integer (nullable = true)\n",
      " |-- Geography: string (nullable = true)\n",
      " |-- Gender: string (nullable = true)\n",
      " |-- Age: double (nullable = true)\n",
      " |-- Tenure: integer (nullable = true)\n",
      " |-- Balance: double (nullable = true)\n",
      " |-- NumOfProducts: integer (nullable = true)\n",
      " |-- HasCrCard: double (nullable = true)\n",
      " |-- IsActiveMember: double (nullable = true)\n",
      " |-- EstimatedSalary: double (nullable = true)\n",
      " |-- Exited: integer (nullable = true)\n",
      "\n"
     ]
    }
   ],
   "source": [
    "df.printSchema() #Check datatypes of columns"
   ]
  },
  {
   "cell_type": "code",
   "execution_count": null,
   "metadata": {
    "application/vnd.databricks.v1+cell": {
     "cellMetadata": {
      "byteLimit": 2048000,
      "rowLimit": 10000
     },
     "inputWidgets": {},
     "nuid": "8988734a-ccb4-4220-aea1-8e475823b240",
     "showTitle": false,
     "title": ""
    }
   },
   "outputs": [
    {
     "name": "stdout",
     "output_type": "stream",
     "text": [
      "Out[9]: ['id',\n",
      " 'CustomerId',\n",
      " 'Surname',\n",
      " 'CreditScore',\n",
      " 'Geography',\n",
      " 'Gender',\n",
      " 'Age',\n",
      " 'Tenure',\n",
      " 'Balance',\n",
      " 'NumOfProducts',\n",
      " 'HasCrCard',\n",
      " 'IsActiveMember',\n",
      " 'EstimatedSalary',\n",
      " 'Exited']"
     ]
    }
   ],
   "source": [
    "df.columns #Check columns in the dataset"
   ]
  },
  {
   "cell_type": "code",
   "execution_count": null,
   "metadata": {
    "application/vnd.databricks.v1+cell": {
     "cellMetadata": {
      "byteLimit": 2048000,
      "rowLimit": 10000
     },
     "inputWidgets": {},
     "nuid": "92af8b0a-e6e5-4ed8-8fea-f5fb0eed3597",
     "showTitle": false,
     "title": ""
    }
   },
   "outputs": [
    {
     "name": "stdout",
     "output_type": "stream",
     "text": [
      "+-----------+\n",
      "|CreditScore|\n",
      "+-----------+\n",
      "|        668|\n",
      "|        627|\n",
      "|        678|\n",
      "|        581|\n",
      "|        716|\n",
      "+-----------+\n",
      "only showing top 5 rows\n",
      "\n"
     ]
    }
   ],
   "source": [
    "# Select and show a single column\n",
    "df.select('CreditScore').show(5)"
   ]
  },
  {
   "cell_type": "code",
   "execution_count": null,
   "metadata": {
    "application/vnd.databricks.v1+cell": {
     "cellMetadata": {
      "byteLimit": 2048000,
      "rowLimit": 10000
     },
     "inputWidgets": {},
     "nuid": "925e4fa5-ed4b-4dc0-90b4-978bd11c4f49",
     "showTitle": false,
     "title": ""
    }
   },
   "outputs": [
    {
     "name": "stdout",
     "output_type": "stream",
     "text": [
      "+------+----+------+\n",
      "|Gender| Age|Tenure|\n",
      "+------+----+------+\n",
      "|  Male|33.0|     3|\n",
      "|  Male|33.0|     1|\n",
      "|  Male|40.0|    10|\n",
      "|  Male|34.0|     2|\n",
      "|  Male|33.0|     5|\n",
      "+------+----+------+\n",
      "only showing top 5 rows\n",
      "\n"
     ]
    }
   ],
   "source": [
    "# Select and show multiple columns\n",
    "df.select(['Gender','Age','Tenure']).show(5)"
   ]
  },
  {
   "cell_type": "code",
   "execution_count": null,
   "metadata": {
    "application/vnd.databricks.v1+cell": {
     "cellMetadata": {
      "byteLimit": 2048000,
      "rowLimit": 10000
     },
     "inputWidgets": {},
     "nuid": "36b3aeeb-da82-40d3-9248-f5a18748ab84",
     "showTitle": false,
     "title": ""
    }
   },
   "outputs": [
    {
     "name": "stdout",
     "output_type": "stream",
     "text": [
      "Out[12]: [('id', 'int'),\n",
      " ('CustomerId', 'int'),\n",
      " ('Surname', 'string'),\n",
      " ('CreditScore', 'int'),\n",
      " ('Geography', 'string'),\n",
      " ('Gender', 'string'),\n",
      " ('Age', 'double'),\n",
      " ('Tenure', 'int'),\n",
      " ('Balance', 'double'),\n",
      " ('NumOfProducts', 'int'),\n",
      " ('HasCrCard', 'double'),\n",
      " ('IsActiveMember', 'double'),\n",
      " ('EstimatedSalary', 'double'),\n",
      " ('Exited', 'int')]"
     ]
    }
   ],
   "source": [
    "df.dtypes #Check datatypes with dtypes"
   ]
  },
  {
   "cell_type": "code",
   "execution_count": null,
   "metadata": {
    "application/vnd.databricks.v1+cell": {
     "cellMetadata": {
      "byteLimit": 2048000,
      "rowLimit": 10000
     },
     "inputWidgets": {},
     "nuid": "2c826715-6a49-4e51-9a0e-623a177a67f5",
     "showTitle": false,
     "title": ""
    }
   },
   "outputs": [],
   "source": [
    "# Get dataset statistics\n",
    "stats = df.describe()\n",
    "stats = stats.toPandas()"
   ]
  },
  {
   "cell_type": "code",
   "execution_count": null,
   "metadata": {
    "application/vnd.databricks.v1+cell": {
     "cellMetadata": {
      "byteLimit": 2048000,
      "rowLimit": 10000
     },
     "inputWidgets": {},
     "nuid": "2ea303c7-ce9e-4846-897b-d9d610b0e70e",
     "showTitle": false,
     "title": ""
    }
   },
   "outputs": [
    {
     "name": "stdout",
     "output_type": "stream",
     "text": [
      "<class 'pandas.core.frame.DataFrame'>\n"
     ]
    }
   ],
   "source": [
    "print(type(stats)) # Converted stats dataframe to pandas dataframe to display it better"
   ]
  },
  {
   "cell_type": "code",
   "execution_count": null,
   "metadata": {
    "application/vnd.databricks.v1+cell": {
     "cellMetadata": {
      "byteLimit": 2048000,
      "rowLimit": 10000
     },
     "inputWidgets": {},
     "nuid": "03da8a6c-be63-4cb9-b51a-d40963c8c49e",
     "showTitle": false,
     "title": ""
    }
   },
   "outputs": [
    {
     "data": {
      "text/html": [
       "<div>\n",
       "<style scoped>\n",
       "    .dataframe tbody tr th:only-of-type {\n",
       "        vertical-align: middle;\n",
       "    }\n",
       "\n",
       "    .dataframe tbody tr th {\n",
       "        vertical-align: top;\n",
       "    }\n",
       "\n",
       "    .dataframe thead th {\n",
       "        text-align: right;\n",
       "    }\n",
       "</style>\n",
       "<table border=\"1\" class=\"dataframe\">\n",
       "  <thead>\n",
       "    <tr style=\"text-align: right;\">\n",
       "      <th></th>\n",
       "      <th>summary</th>\n",
       "      <th>id</th>\n",
       "      <th>CustomerId</th>\n",
       "      <th>Surname</th>\n",
       "      <th>CreditScore</th>\n",
       "      <th>Geography</th>\n",
       "      <th>Gender</th>\n",
       "      <th>Age</th>\n",
       "      <th>Tenure</th>\n",
       "      <th>Balance</th>\n",
       "      <th>NumOfProducts</th>\n",
       "      <th>HasCrCard</th>\n",
       "      <th>IsActiveMember</th>\n",
       "      <th>EstimatedSalary</th>\n",
       "      <th>Exited</th>\n",
       "    </tr>\n",
       "  </thead>\n",
       "  <tbody>\n",
       "    <tr>\n",
       "      <th>0</th>\n",
       "      <td>count</td>\n",
       "      <td>165034</td>\n",
       "      <td>165034</td>\n",
       "      <td>165034</td>\n",
       "      <td>165034</td>\n",
       "      <td>165034</td>\n",
       "      <td>165034</td>\n",
       "      <td>165034</td>\n",
       "      <td>165034</td>\n",
       "      <td>165034</td>\n",
       "      <td>165034</td>\n",
       "      <td>165034</td>\n",
       "      <td>165034</td>\n",
       "      <td>165034</td>\n",
       "      <td>165034</td>\n",
       "    </tr>\n",
       "    <tr>\n",
       "      <th>1</th>\n",
       "      <td>mean</td>\n",
       "      <td>82516.5</td>\n",
       "      <td>1.5692005019026382E7</td>\n",
       "      <td>None</td>\n",
       "      <td>656.454373038283</td>\n",
       "      <td>None</td>\n",
       "      <td>None</td>\n",
       "      <td>38.12588787764945</td>\n",
       "      <td>5.020353381727402</td>\n",
       "      <td>55478.086689349235</td>\n",
       "      <td>1.5544554455445545</td>\n",
       "      <td>0.7539537307463916</td>\n",
       "      <td>0.49777015645260975</td>\n",
       "      <td>112574.82273434362</td>\n",
       "      <td>0.21159882206090866</td>\n",
       "    </tr>\n",
       "    <tr>\n",
       "      <th>2</th>\n",
       "      <td>stddev</td>\n",
       "      <td>47641.356500069</td>\n",
       "      <td>71397.81679067112</td>\n",
       "      <td>None</td>\n",
       "      <td>80.1033404871783</td>\n",
       "      <td>None</td>\n",
       "      <td>None</td>\n",
       "      <td>8.867204591410792</td>\n",
       "      <td>2.8061585665860913</td>\n",
       "      <td>62817.66327783688</td>\n",
       "      <td>0.5471536788441764</td>\n",
       "      <td>0.4307071240449495</td>\n",
       "      <td>0.49999654260421705</td>\n",
       "      <td>50292.865584904175</td>\n",
       "      <td>0.4084431067117287</td>\n",
       "    </tr>\n",
       "    <tr>\n",
       "      <th>3</th>\n",
       "      <td>min</td>\n",
       "      <td>0</td>\n",
       "      <td>15565701</td>\n",
       "      <td>Abazu</td>\n",
       "      <td>350</td>\n",
       "      <td>France</td>\n",
       "      <td>Female</td>\n",
       "      <td>18.0</td>\n",
       "      <td>0</td>\n",
       "      <td>0.0</td>\n",
       "      <td>1</td>\n",
       "      <td>0.0</td>\n",
       "      <td>0.0</td>\n",
       "      <td>11.58</td>\n",
       "      <td>0</td>\n",
       "    </tr>\n",
       "    <tr>\n",
       "      <th>4</th>\n",
       "      <td>max</td>\n",
       "      <td>165033</td>\n",
       "      <td>15815690</td>\n",
       "      <td>Zuyeva</td>\n",
       "      <td>850</td>\n",
       "      <td>Spain</td>\n",
       "      <td>Male</td>\n",
       "      <td>92.0</td>\n",
       "      <td>10</td>\n",
       "      <td>250898.09</td>\n",
       "      <td>4</td>\n",
       "      <td>1.0</td>\n",
       "      <td>1.0</td>\n",
       "      <td>199992.48</td>\n",
       "      <td>1</td>\n",
       "    </tr>\n",
       "  </tbody>\n",
       "</table>\n",
       "</div>"
      ]
     },
     "metadata": {
      "application/vnd.databricks.v1+output": {
       "addedWidgets": {},
       "arguments": {},
       "data": "<div>\n<style scoped>\n    .dataframe tbody tr th:only-of-type {\n        vertical-align: middle;\n    }\n\n    .dataframe tbody tr th {\n        vertical-align: top;\n    }\n\n    .dataframe thead th {\n        text-align: right;\n    }\n</style>\n<table border=\"1\" class=\"dataframe\">\n  <thead>\n    <tr style=\"text-align: right;\">\n      <th></th>\n      <th>summary</th>\n      <th>id</th>\n      <th>CustomerId</th>\n      <th>Surname</th>\n      <th>CreditScore</th>\n      <th>Geography</th>\n      <th>Gender</th>\n      <th>Age</th>\n      <th>Tenure</th>\n      <th>Balance</th>\n      <th>NumOfProducts</th>\n      <th>HasCrCard</th>\n      <th>IsActiveMember</th>\n      <th>EstimatedSalary</th>\n      <th>Exited</th>\n    </tr>\n  </thead>\n  <tbody>\n    <tr>\n      <th>0</th>\n      <td>count</td>\n      <td>165034</td>\n      <td>165034</td>\n      <td>165034</td>\n      <td>165034</td>\n      <td>165034</td>\n      <td>165034</td>\n      <td>165034</td>\n      <td>165034</td>\n      <td>165034</td>\n      <td>165034</td>\n      <td>165034</td>\n      <td>165034</td>\n      <td>165034</td>\n      <td>165034</td>\n    </tr>\n    <tr>\n      <th>1</th>\n      <td>mean</td>\n      <td>82516.5</td>\n      <td>1.5692005019026382E7</td>\n      <td>None</td>\n      <td>656.454373038283</td>\n      <td>None</td>\n      <td>None</td>\n      <td>38.12588787764945</td>\n      <td>5.020353381727402</td>\n      <td>55478.086689349235</td>\n      <td>1.5544554455445545</td>\n      <td>0.7539537307463916</td>\n      <td>0.49777015645260975</td>\n      <td>112574.82273434362</td>\n      <td>0.21159882206090866</td>\n    </tr>\n    <tr>\n      <th>2</th>\n      <td>stddev</td>\n      <td>47641.356500069</td>\n      <td>71397.81679067112</td>\n      <td>None</td>\n      <td>80.1033404871783</td>\n      <td>None</td>\n      <td>None</td>\n      <td>8.867204591410792</td>\n      <td>2.8061585665860913</td>\n      <td>62817.66327783688</td>\n      <td>0.5471536788441764</td>\n      <td>0.4307071240449495</td>\n      <td>0.49999654260421705</td>\n      <td>50292.865584904175</td>\n      <td>0.4084431067117287</td>\n    </tr>\n    <tr>\n      <th>3</th>\n      <td>min</td>\n      <td>0</td>\n      <td>15565701</td>\n      <td>Abazu</td>\n      <td>350</td>\n      <td>France</td>\n      <td>Female</td>\n      <td>18.0</td>\n      <td>0</td>\n      <td>0.0</td>\n      <td>1</td>\n      <td>0.0</td>\n      <td>0.0</td>\n      <td>11.58</td>\n      <td>0</td>\n    </tr>\n    <tr>\n      <th>4</th>\n      <td>max</td>\n      <td>165033</td>\n      <td>15815690</td>\n      <td>Zuyeva</td>\n      <td>850</td>\n      <td>Spain</td>\n      <td>Male</td>\n      <td>92.0</td>\n      <td>10</td>\n      <td>250898.09</td>\n      <td>4</td>\n      <td>1.0</td>\n      <td>1.0</td>\n      <td>199992.48</td>\n      <td>1</td>\n    </tr>\n  </tbody>\n</table>\n</div>",
       "datasetInfos": [],
       "metadata": {},
       "removedWidgets": [],
       "textData": null,
       "type": "htmlSandbox"
      }
     },
     "output_type": "display_data"
    }
   ],
   "source": [
    "stats"
   ]
  },
  {
   "cell_type": "markdown",
   "metadata": {
    "application/vnd.databricks.v1+cell": {
     "cellMetadata": {
      "byteLimit": 2048000,
      "rowLimit": 10000
     },
     "inputWidgets": {},
     "nuid": "d39d2fa6-70ad-4343-9227-7f4c276484d2",
     "showTitle": false,
     "title": ""
    }
   },
   "source": [
    "### Data Description\n",
    "\n",
    "* **Customer ID**: A unique identifier for each customer\n",
    "* **Surname**: The customer's surname or last name\n",
    "* **Credit Score**: A numerical value representing the customer's credit score\n",
    "* **Geography**: The country where the customer resides\n",
    "* **Gender**: The customer's gender\n",
    "* **Age**: The customer's age.\n",
    "* **Tenure**: The number of years the customer has been with the bank\n",
    "* **Balance**: The customer's account balance\n",
    "* **NumOfProducts**: The number of bank products the customer uses (e.g., savings account, credit card)\n",
    "* **HasCrCard**: Whether the customer has a credit card\n",
    "* **IsActiveMember**: Whether the customer is an active member\n",
    "* **EstimatedSalary**: The estimated salary of the customer\n",
    "* **Exited**: Whether the customer has churned (Target Variable)"
   ]
  },
  {
   "cell_type": "markdown",
   "metadata": {
    "application/vnd.databricks.v1+cell": {
     "cellMetadata": {
      "byteLimit": 2048000,
      "rowLimit": 10000
     },
     "inputWidgets": {},
     "nuid": "0d16ce59-f9a9-494b-a105-1b1386b58eab",
     "showTitle": false,
     "title": ""
    }
   },
   "source": [
    "##EDA"
   ]
  },
  {
   "cell_type": "code",
   "execution_count": null,
   "metadata": {
    "application/vnd.databricks.v1+cell": {
     "cellMetadata": {
      "byteLimit": 2048000,
      "rowLimit": 10000
     },
     "inputWidgets": {},
     "nuid": "d4d53a96-948a-4383-b49e-8e24bf442bfa",
     "showTitle": false,
     "title": ""
    }
   },
   "outputs": [
    {
     "name": "stdout",
     "output_type": "stream",
     "text": [
      "+---+----------+--------------+-----------+---------+------+----+------+---------+-------------+---------+--------------+---------------+-------+\n",
      "| id|CustomerId|       Surname|CreditScore|Geography|Gender| Age|Tenure|  Balance|NumOfProducts|HasCrCard|IsActiveMember|EstimatedSalary|Churned|\n",
      "+---+----------+--------------+-----------+---------+------+----+------+---------+-------------+---------+--------------+---------------+-------+\n",
      "|  0|  15674932|Okwudilichukwu|        668|   France|  Male|33.0|     3|      0.0|            2|      1.0|           0.0|      181449.97|      0|\n",
      "|  1|  15749177| Okwudiliolisa|        627|   France|  Male|33.0|     1|      0.0|            2|      1.0|           1.0|        49503.5|      0|\n",
      "|  2|  15694510|         Hsueh|        678|   France|  Male|40.0|    10|      0.0|            2|      1.0|           0.0|      184866.69|      0|\n",
      "|  3|  15741417|           Kao|        581|   France|  Male|34.0|     2|148882.54|            1|      1.0|           1.0|       84560.88|      0|\n",
      "|  4|  15766172|     Chiemenam|        716|    Spain|  Male|33.0|     5|      0.0|            2|      1.0|           1.0|       15068.83|      0|\n",
      "+---+----------+--------------+-----------+---------+------+----+------+---------+-------------+---------+--------------+---------------+-------+\n",
      "only showing top 5 rows\n",
      "\n"
     ]
    }
   ],
   "source": [
    "# Lets rename exited, our target Exited to Churned\n",
    "df = df.withColumnRenamed('Exited','Churned')\n",
    "df.show(5)"
   ]
  },
  {
   "cell_type": "code",
   "execution_count": null,
   "metadata": {
    "application/vnd.databricks.v1+cell": {
     "cellMetadata": {
      "byteLimit": 2048000,
      "rowLimit": 10000
     },
     "inputWidgets": {},
     "nuid": "0ee1ec35-d82f-43ca-aa40-ee714b6d3478",
     "showTitle": false,
     "title": ""
    }
   },
   "outputs": [
    {
     "name": "stdout",
     "output_type": "stream",
     "text": [
      "+-------+\n",
      "|Churned|\n",
      "+-------+\n",
      "|      1|\n",
      "|      0|\n",
      "+-------+\n",
      "\n"
     ]
    }
   ],
   "source": [
    "# Checking target variable values\n",
    "df.select('Churned').distinct().show()"
   ]
  },
  {
   "cell_type": "code",
   "execution_count": null,
   "metadata": {
    "application/vnd.databricks.v1+cell": {
     "cellMetadata": {
      "byteLimit": 2048000,
      "rowLimit": 10000
     },
     "inputWidgets": {},
     "nuid": "03ad904e-5062-473c-a698-d91e2629daaf",
     "showTitle": false,
     "title": ""
    }
   },
   "outputs": [
    {
     "name": "stdout",
     "output_type": "stream",
     "text": [
      "+---+----------+-------+-----------+---------+------+---+------+-------+-------------+---------+--------------+---------------+-------+\n",
      "| id|CustomerId|Surname|CreditScore|Geography|Gender|Age|Tenure|Balance|NumOfProducts|HasCrCard|IsActiveMember|EstimatedSalary|Churned|\n",
      "+---+----------+-------+-----------+---------+------+---+------+-------+-------------+---------+--------------+---------------+-------+\n",
      "|  0|         0|      0|          0|        0|     0|  0|     0|      0|            0|        0|             0|              0|      0|\n",
      "+---+----------+-------+-----------+---------+------+---+------+-------+-------------+---------+--------------+---------------+-------+\n",
      "\n"
     ]
    }
   ],
   "source": [
    "# Lets check for null columns\n",
    "df.select([count(when(isnull(c),c)).alias(c) for c in df.columns]).show()"
   ]
  },
  {
   "cell_type": "code",
   "execution_count": null,
   "metadata": {
    "application/vnd.databricks.v1+cell": {
     "cellMetadata": {
      "byteLimit": 2048000,
      "rowLimit": 10000
     },
     "inputWidgets": {},
     "nuid": "f2eaa67b-621b-4507-b78c-9dd014aaa478",
     "showTitle": false,
     "title": ""
    }
   },
   "outputs": [
    {
     "name": "stdout",
     "output_type": "stream",
     "text": [
      "No duplicates found\n"
     ]
    }
   ],
   "source": [
    "# Lets check for duplicates\n",
    "if df.count()>df.dropDuplicates([c for c in df.columns]).count():\n",
    "    raise ValueError(\"Data has duplicates\")\n",
    "else:\n",
    "    print('No duplicates found')"
   ]
  },
  {
   "cell_type": "code",
   "execution_count": null,
   "metadata": {
    "application/vnd.databricks.v1+cell": {
     "cellMetadata": {
      "byteLimit": 2048000,
      "rowLimit": 10000
     },
     "inputWidgets": {},
     "nuid": "4b96224e-bd09-4738-823f-5da9d52daae0",
     "showTitle": false,
     "title": ""
    }
   },
   "outputs": [
    {
     "name": "stdout",
     "output_type": "stream",
     "text": [
      "root\n",
      " |-- id: integer (nullable = true)\n",
      " |-- CustomerId: integer (nullable = true)\n",
      " |-- Surname: string (nullable = true)\n",
      " |-- CreditScore: integer (nullable = true)\n",
      " |-- Geography: string (nullable = true)\n",
      " |-- Gender: string (nullable = true)\n",
      " |-- Age: double (nullable = true)\n",
      " |-- Tenure: integer (nullable = true)\n",
      " |-- Balance: double (nullable = true)\n",
      " |-- NumOfProducts: integer (nullable = true)\n",
      " |-- HasCrCard: double (nullable = true)\n",
      " |-- IsActiveMember: double (nullable = true)\n",
      " |-- EstimatedSalary: double (nullable = true)\n",
      " |-- Churned: integer (nullable = true)\n",
      "\n"
     ]
    }
   ],
   "source": [
    "# Data has no duplicates and null values hence no need to impute or drop them\n",
    "# Lets check and drop irrelevant columns\n",
    "df.printSchema()"
   ]
  },
  {
   "cell_type": "code",
   "execution_count": null,
   "metadata": {
    "application/vnd.databricks.v1+cell": {
     "cellMetadata": {
      "byteLimit": 2048000,
      "rowLimit": 10000
     },
     "inputWidgets": {},
     "nuid": "dbfb7f23-403f-43e0-87d5-ba7151d578e7",
     "showTitle": false,
     "title": ""
    }
   },
   "outputs": [],
   "source": [
    "# Lets drop id, CustomerId and Surname as they are irrelevant features that dont add any value\n",
    "df = df.drop('id','CustomerId','Surname')"
   ]
  },
  {
   "cell_type": "code",
   "execution_count": null,
   "metadata": {
    "application/vnd.databricks.v1+cell": {
     "cellMetadata": {
      "byteLimit": 2048000,
      "rowLimit": 10000
     },
     "inputWidgets": {},
     "nuid": "056a7829-0adc-4382-a598-2a4ac4ae2c2e",
     "showTitle": false,
     "title": ""
    }
   },
   "outputs": [
    {
     "name": "stdout",
     "output_type": "stream",
     "text": [
      "+-----------+---------+------+----+------+---------+-------------+---------+--------------+---------------+-------+\n",
      "|CreditScore|Geography|Gender| Age|Tenure|  Balance|NumOfProducts|HasCrCard|IsActiveMember|EstimatedSalary|Churned|\n",
      "+-----------+---------+------+----+------+---------+-------------+---------+--------------+---------------+-------+\n",
      "|        668|   France|  Male|33.0|     3|      0.0|            2|      1.0|           0.0|      181449.97|      0|\n",
      "|        627|   France|  Male|33.0|     1|      0.0|            2|      1.0|           1.0|        49503.5|      0|\n",
      "|        678|   France|  Male|40.0|    10|      0.0|            2|      1.0|           0.0|      184866.69|      0|\n",
      "|        581|   France|  Male|34.0|     2|148882.54|            1|      1.0|           1.0|       84560.88|      0|\n",
      "|        716|    Spain|  Male|33.0|     5|      0.0|            2|      1.0|           1.0|       15068.83|      0|\n",
      "+-----------+---------+------+----+------+---------+-------------+---------+--------------+---------------+-------+\n",
      "only showing top 5 rows\n",
      "\n"
     ]
    }
   ],
   "source": [
    "df.show(5)"
   ]
  },
  {
   "cell_type": "code",
   "execution_count": null,
   "metadata": {
    "application/vnd.databricks.v1+cell": {
     "cellMetadata": {
      "byteLimit": 2048000,
      "rowLimit": 10000
     },
     "inputWidgets": {},
     "nuid": "8494d63f-92b2-4e45-b652-85ca795d305b",
     "showTitle": false,
     "title": ""
    }
   },
   "outputs": [
    {
     "name": "stdout",
     "output_type": "stream",
     "text": [
      "root\n",
      " |-- CreditScore: integer (nullable = true)\n",
      " |-- Geography: string (nullable = true)\n",
      " |-- Gender: string (nullable = true)\n",
      " |-- Age: double (nullable = true)\n",
      " |-- Tenure: integer (nullable = true)\n",
      " |-- Balance: double (nullable = true)\n",
      " |-- NumOfProducts: integer (nullable = true)\n",
      " |-- HasCrCard: double (nullable = true)\n",
      " |-- IsActiveMember: double (nullable = true)\n",
      " |-- EstimatedSalary: double (nullable = true)\n",
      " |-- Churned: integer (nullable = true)\n",
      "\n"
     ]
    }
   ],
   "source": [
    "df.printSchema()"
   ]
  },
  {
   "cell_type": "code",
   "execution_count": null,
   "metadata": {
    "application/vnd.databricks.v1+cell": {
     "cellMetadata": {
      "byteLimit": 2048000,
      "rowLimit": 10000
     },
     "inputWidgets": {},
     "nuid": "ecf3870f-b1e7-4964-b6ee-4395c634914a",
     "showTitle": false,
     "title": ""
    }
   },
   "outputs": [
    {
     "name": "stdout",
     "output_type": "stream",
     "text": [
      "+---------+\n",
      "|Geography|\n",
      "+---------+\n",
      "|  Germany|\n",
      "|   France|\n",
      "|    Spain|\n",
      "+---------+\n",
      "\n"
     ]
    }
   ],
   "source": [
    "# Lets encode the string features Geography, and Gender through one-hot encoding\n",
    "# Lets first check the distinct values before encoding them\n",
    "df.select('Geography').distinct().show()"
   ]
  },
  {
   "cell_type": "code",
   "execution_count": null,
   "metadata": {
    "application/vnd.databricks.v1+cell": {
     "cellMetadata": {
      "byteLimit": 2048000,
      "rowLimit": 10000
     },
     "inputWidgets": {},
     "nuid": "b21653ae-daec-4589-966f-2e0a1f50e282",
     "showTitle": false,
     "title": ""
    }
   },
   "outputs": [
    {
     "name": "stdout",
     "output_type": "stream",
     "text": [
      "+------+\n",
      "|Gender|\n",
      "+------+\n",
      "|Female|\n",
      "|  Male|\n",
      "+------+\n",
      "\n"
     ]
    }
   ],
   "source": [
    "# Same for gender\n",
    "df.select('Gender').distinct().show()"
   ]
  },
  {
   "cell_type": "markdown",
   "metadata": {
    "application/vnd.databricks.v1+cell": {
     "cellMetadata": {
      "byteLimit": 2048000,
      "rowLimit": 10000
     },
     "inputWidgets": {},
     "nuid": "256e4736-31c6-4e70-b71f-871ed994c7c7",
     "showTitle": false,
     "title": ""
    }
   },
   "source": [
    "##Feature Engineering"
   ]
  },
  {
   "cell_type": "code",
   "execution_count": null,
   "metadata": {
    "application/vnd.databricks.v1+cell": {
     "cellMetadata": {
      "byteLimit": 2048000,
      "rowLimit": 10000
     },
     "inputWidgets": {},
     "nuid": "7afec996-6ef0-401a-92b8-1503ef925338",
     "showTitle": false,
     "title": ""
    }
   },
   "outputs": [
    {
     "name": "stdout",
     "output_type": "stream",
     "text": [
      "+-----------+---------+------+----+------+---------+-------------+---------+--------------+---------------+-------+------------+---------+-------------+-------------+\n",
      "|CreditScore|Geography|Gender| Age|Tenure|  Balance|NumOfProducts|HasCrCard|IsActiveMember|EstimatedSalary|Churned|Geography_se|Gender_se|Geography_ohe|   Gender_ohe|\n",
      "+-----------+---------+------+----+------+---------+-------------+---------+--------------+---------------+-------+------------+---------+-------------+-------------+\n",
      "|        668|   France|  Male|33.0|     3|      0.0|            2|      1.0|           0.0|      181449.97|      0|         0.0|      0.0|(2,[0],[1.0])|(1,[0],[1.0])|\n",
      "|        627|   France|  Male|33.0|     1|      0.0|            2|      1.0|           1.0|        49503.5|      0|         0.0|      0.0|(2,[0],[1.0])|(1,[0],[1.0])|\n",
      "|        678|   France|  Male|40.0|    10|      0.0|            2|      1.0|           0.0|      184866.69|      0|         0.0|      0.0|(2,[0],[1.0])|(1,[0],[1.0])|\n",
      "|        581|   France|  Male|34.0|     2|148882.54|            1|      1.0|           1.0|       84560.88|      0|         0.0|      0.0|(2,[0],[1.0])|(1,[0],[1.0])|\n",
      "|        716|    Spain|  Male|33.0|     5|      0.0|            2|      1.0|           1.0|       15068.83|      0|         1.0|      0.0|(2,[1],[1.0])|(1,[0],[1.0])|\n",
      "+-----------+---------+------+----+------+---------+-------------+---------+--------------+---------------+-------+------------+---------+-------------+-------------+\n",
      "only showing top 5 rows\n",
      "\n"
     ]
    }
   ],
   "source": [
    "# Lets use one-hot-encoding (Not ordinal as there is no ordered relation between the feature values)\n",
    "# However the columns are made up of strings hence we need to encode them with the string indexer then follow up with a ohe\n",
    "se = StringIndexer(inputCols = ['Geography','Gender'], outputCols = ['Geography_se', 'Gender_se'])\n",
    "ohe = OneHotEncoder(inputCols = ['Geography_se','Gender_se'], outputCols = ['Geography_ohe', 'Gender_ohe'])\n",
    "encode_pipe = Pipeline(stages = [se, ohe])\n",
    "df = encode_pipe.fit(df).transform(df)\n",
    "df.show(5)"
   ]
  },
  {
   "cell_type": "code",
   "execution_count": null,
   "metadata": {
    "application/vnd.databricks.v1+cell": {
     "cellMetadata": {
      "byteLimit": 2048000,
      "rowLimit": 10000
     },
     "inputWidgets": {},
     "nuid": "daf5b1e5-8539-46ae-a1f0-b85a9d357c33",
     "showTitle": false,
     "title": ""
    }
   },
   "outputs": [],
   "source": [
    "# We will not normalize the data as we will make use of a gradient boosted tree. For GBT branching is done on basis of actual values, hence we dont require\n",
    "# any data normalization\n",
    "# We need to use the vector assembler to create the feature set and traget variable\n",
    "feature_assembler = VectorAssembler(inputCols = ['CreditScore', 'Geography_ohe', 'Gender_ohe', 'Age', 'Tenure', 'Balance', 'NumOfProducts', 'HasCrCard', 'IsActiveMember', 'EstimatedSalary'], outputCol = 'IndependentFeatures')\n",
    "df = feature_assembler.transform(df)"
   ]
  },
  {
   "cell_type": "code",
   "execution_count": null,
   "metadata": {
    "application/vnd.databricks.v1+cell": {
     "cellMetadata": {
      "byteLimit": 2048000,
      "rowLimit": 10000
     },
     "inputWidgets": {},
     "nuid": "aef66c90-63f7-4f62-8bf1-07d975dca29e",
     "showTitle": false,
     "title": ""
    }
   },
   "outputs": [
    {
     "name": "stdout",
     "output_type": "stream",
     "text": [
      "+-----------+---------+------+----+------+---------+-------------+---------+--------------+---------------+-------+------------+---------+-------------+-------------+--------------------+\n",
      "|CreditScore|Geography|Gender| Age|Tenure|  Balance|NumOfProducts|HasCrCard|IsActiveMember|EstimatedSalary|Churned|Geography_se|Gender_se|Geography_ohe|   Gender_ohe| IndependentFeatures|\n",
      "+-----------+---------+------+----+------+---------+-------------+---------+--------------+---------------+-------+------------+---------+-------------+-------------+--------------------+\n",
      "|        668|   France|  Male|33.0|     3|      0.0|            2|      1.0|           0.0|      181449.97|      0|         0.0|      0.0|(2,[0],[1.0])|(1,[0],[1.0])|[668.0,1.0,0.0,1....|\n",
      "|        627|   France|  Male|33.0|     1|      0.0|            2|      1.0|           1.0|        49503.5|      0|         0.0|      0.0|(2,[0],[1.0])|(1,[0],[1.0])|[627.0,1.0,0.0,1....|\n",
      "|        678|   France|  Male|40.0|    10|      0.0|            2|      1.0|           0.0|      184866.69|      0|         0.0|      0.0|(2,[0],[1.0])|(1,[0],[1.0])|[678.0,1.0,0.0,1....|\n",
      "|        581|   France|  Male|34.0|     2|148882.54|            1|      1.0|           1.0|       84560.88|      0|         0.0|      0.0|(2,[0],[1.0])|(1,[0],[1.0])|[581.0,1.0,0.0,1....|\n",
      "|        716|    Spain|  Male|33.0|     5|      0.0|            2|      1.0|           1.0|       15068.83|      0|         1.0|      0.0|(2,[1],[1.0])|(1,[0],[1.0])|[716.0,0.0,1.0,1....|\n",
      "+-----------+---------+------+----+------+---------+-------------+---------+--------------+---------------+-------+------------+---------+-------------+-------------+--------------------+\n",
      "only showing top 5 rows\n",
      "\n"
     ]
    }
   ],
   "source": [
    "df.show(5)"
   ]
  },
  {
   "cell_type": "code",
   "execution_count": null,
   "metadata": {
    "application/vnd.databricks.v1+cell": {
     "cellMetadata": {
      "byteLimit": 2048000,
      "rowLimit": 10000
     },
     "inputWidgets": {},
     "nuid": "cc620f36-b09b-4dd0-8652-227bf27257f1",
     "showTitle": false,
     "title": ""
    }
   },
   "outputs": [
    {
     "name": "stdout",
     "output_type": "stream",
     "text": [
      "root\n",
      " |-- CreditScore: integer (nullable = true)\n",
      " |-- Geography: string (nullable = true)\n",
      " |-- Gender: string (nullable = true)\n",
      " |-- Age: double (nullable = true)\n",
      " |-- Tenure: integer (nullable = true)\n",
      " |-- Balance: double (nullable = true)\n",
      " |-- NumOfProducts: integer (nullable = true)\n",
      " |-- HasCrCard: double (nullable = true)\n",
      " |-- IsActiveMember: double (nullable = true)\n",
      " |-- EstimatedSalary: double (nullable = true)\n",
      " |-- Churned: integer (nullable = true)\n",
      " |-- Geography_se: double (nullable = false)\n",
      " |-- Gender_se: double (nullable = false)\n",
      " |-- Geography_ohe: vector (nullable = true)\n",
      " |-- Gender_ohe: vector (nullable = true)\n",
      " |-- IndependentFeatures: vector (nullable = true)\n",
      "\n"
     ]
    }
   ],
   "source": [
    "df.printSchema()"
   ]
  },
  {
   "cell_type": "code",
   "execution_count": null,
   "metadata": {
    "application/vnd.databricks.v1+cell": {
     "cellMetadata": {
      "byteLimit": 2048000,
      "rowLimit": 10000
     },
     "inputWidgets": {},
     "nuid": "28de9eb0-20a7-41d5-a7a8-8b5675504839",
     "showTitle": false,
     "title": ""
    }
   },
   "outputs": [
    {
     "data": {
      "image/png": "[encoded data removed]"
     },
     "metadata": {
      "application/vnd.databricks.v1+output": {
       "addedWidgets": {},
       "arguments": {},
       "data": "data:image/png;base64,iVBORw0KGgoAAAANSUhEUgAAAuAAAAMDCAYAAADjeaCRAAAAOXRFWHRTb2Z0d2FyZQBNYXRwbG90bGliIHZlcnNpb24zLjUuMSwgaHR0cHM6Ly9tYXRwbG90bGliLm9yZy/YYfK9AAAACXBIWXMAAAsTAAALEwEAmpwYAAEAAElEQVR4nOzdd3gUVdvH8e/ZTQIBAklooah0lRogIE0JKC0KoiJiBR5sNBUEREQQBMQGvgKiKDZsYHl8RLGggg2QXgXpnUBISAgkEMie949d4iYkgLC7ifj7XFcu2Jkzs+feaXfuPTMx1lpERERERCQwHPndARERERGRfxMl4CIiIiIiAaQEXEREREQkgJSAi4iIiIgEkBJwEREREZEAUgIuIiIiIhJASsBFRAo4Y0xvY8x+Y8wRY0zJ/O7PKcaYp4wx713A8uuMMbG+65GIyD+DEnARKZCMMduNMdflmNbDGPOrj9ZvjTHVfLEufzLGBAMTgLbW2mLW2sT87tP5MMa8bYwZ4z3NWlvLWjs/n7okIpJvlICLiBRsZYHCwDp/vokxJiiXaU5/vqeIyL+VEnAR+ccyxpQ3xnxqjEkwxmwzxjzkNa+xMWahMSbZGLPPGDPZGBPimfezp9kqz7CO24wxscaY3caYIcaYA55lOhtj4owxG40xScaYYeeyfs98a4x5yBiz1Rhz0BjzvDEm13OuMaaQMeYlY8xez89Lnmk1gD89zZKNMT/msXwLY8wCT192GWN6eKaXMMa86/l8dhhjhp/qg+fbhN+MMRONMYnAU54q9VRjzBxjzFGg1Zk+41z68bExJt4Yk2KM+dkYU8sz/X7gTmCI5/Oe7Zme9S1HXp+BZ96pbfOo17bpmVc/REQKOiXgIvKP5EkkZwOrgArAtcAjxph2niaZwACgFNDUM78PgLX2Gk+bep5hHTM9r6NwV5srACOA14G7gIbA1cCTxpjKZ1u/l5uAGKABcCPwnzzCeQJoAkQD9YDGwHBr7UaglqdNuLW2dS6fw2XA18AkoLRnHSs9sycBJYAqQEvgHsA7cb0K2Iq7yj7WM+0Oz//DgAWc+TPO6WugOlAGWA68D2Ctneb5/3Oez7vjuX4GXvOjPLFUAHoBU4wxEXn0Q0SkQFMCLiIF2eeeqm6yMSYZeMVrXiOgtLV2tLU2w1q7FXfC3A3AWrvMWrvIWnvSWrsdeA13EnomJ4Cx1toTwEe4k+v/s9amWmvXAX/gTg7Pdf3PWmuTrLU7gZeA2/N43zuB0dbaA9baBGAUcPdZ+nrKHcD31toPrbUnrLWJ1tqVnuEj3YDHPf3fDryYY717rbWTPDGke6b9z1r7m7XWBdThDJ9xTtbaNz3vdRx4CqhnjClxjnGc7TM44Zl/wlo7BzgCXH6O6xYRKVBOG/MnIlKAdLbWfn/qhWdoxb2el5cB5T2J+SlO4BdP2xq4b16MAYrgPt8tO8v7JVprMz3/P5WQ7veanw4U+xvr3+X1/x1A+Tzet7xn/rm0zekSYEsu00sBwbmst0Ie/ctt2hk/Y2+ehH8scCvuSrzLqx8pZ4zA7WyfQaK19qTX6zQ820JE5J9GFXAR+afaBWyz1oZ7/YRZa+M886cCG4Dq1triwDDA+PD9z2X9l3j9/1Jgbx7r2os72T2XtjntAqrmMv0g7qpxzvXu8Xptc1nOe9rZPmNvd+AeZnMd7qEilTzTT30mub2Xtwv5DERE/lGUgIvIP9ViINUY85gxJtQY4zTG1DbGNPLMDwMOA0eMMVcAvXMsvx/32Ojzdbb1Aww2xkQYYy4BHgZm5tIG4ENguDGmtDGmFO7x5+f6fO33geuMMV2NMUHGmJLGmGhPJX8WMNYYE+YZKz7wb6wXzv4ZewsDjgOJuL8RGJdj/tk+7wv5DERE/lGUgIvIP5InwbwB901723BXfN/AXX0FGIS7KpuKe9xyzuT3KeAdz/jyrufRhbOtH+B/uIelrAS+Aqbnsa4xwFJgNbAG9w2MY/Jom41nfHkc8CiQ5Hmvep7Z/YGjuG+0/BX4AHjzXNbrWffZPmNv7+IeNrIH91j5RTnmTwdqej7vz3NZ/rw/AxGRfxpj7dm+FRQRkb/LGGNxD0/ZnN99ERGRgkUVcBERERGRAFICLiIiIiL/SsaYNz1/4GttHvONMeZlY8xmY8xqY0wDX7yvEnARET+w1hoNPxERKfDeBtqfYX4H3H9grDpwP+4nYF0wJeAiIiIi8q9krf0Z9w3sebkReNe6LQLCjTHlLvR9lYCLiIiIiOSuAtn/QNlusv9Bs/Oiv4SZz04c3HpRPobmoZih+d0Fn3Od9e+I/DO5zt7kHyfIp39vp+C4GKNyXJRRwYmL8MgKvkhrdhfjtgJ4bfvH+X5wFYQcJ6R01QdwDx05ZZq1dlp+9ecUJeAiIiIiclHyJNsXknDvIftfNa5I9r8ofF6UgIuIiIiI77ky87sHvvAF0M8Y8xFwFZBird13oStVAi4iIiIi/0rGmA+BWKCUMWY3MBIIBrDWvgrMwf3XhjcDaUBPX7yvEnARERER+Vey1t5+lvkW6Ovr91UCLiIiIiK+Zy/OG1x94eK8pVlEREREpIBSBVxEREREfM+lCnheVAEXEREREQkgJeAiIiIiIgGkISgiIiIi4nNWN2HmSRVwEREREZEAUgVcRERERHxPN2HmSRVwEREREZEAUgIuIiIiIhJAGoIiIiIiIr6nmzDzpAq4iIiIiEgAKQEXEREREQkgDUEREREREd9zZeZ3DwosVcBFRERERAJIFXARERER8T3dhJknVcBFRERERAJICbiIiIiISABpCIqIiIiI+J7+FH2eVAEXEREREQkgVcBFRERExOesbsLMkyrgIiIiIiIBpARcRERERCSACsQQFGNMFPAS0AhIBvYDj1hrN57Hut4GvrTWfmKMeQOYYK39wxgzzFo7zqvdE8AdQCbgAh6w1v5+obEURMPHTeDn3xYTGRHO5++9mt/dOaOaLevRdURPjNPBbzN/4Lup/8s2PygkiO4T+nFp7SocTU7ljX4vkbQ7AYB2fTrTrGtrbKaLmaPeYv3PqwAY8+tkjh05hsvlwnUyk/GdHg9ILLeN7EntVg3ISD/O24OmsGvdttPaXFq7Cj1e6Etw4RDWzlvOzFFvAVCkRDHumzyAkhVLk7g7gdf7TiDt8FEa39iCdg92xhjDsaPpfDD8dXav30FQoWAGzRxNUKEgnE4ny79exOyJs/wSV7eRPanjieutQVPYmUdcPV/oS0jhENbMW85HXnE94BXXa564QsOK0GtifyIrlMLpdPLt61+w4OP5ANwy9E7qtGoAwJeTPmXplwsuOAZ/7Gd5rfPyprW4+Ym7CQoOYufabcwYMhVX5l9fy15WtyqDPxvD9P4vseJr/5yCarasx62evi04Q7yXeOKdniPepp54Z3niLVOlHL0mD8havtQlZfhy4izmvTnHL/3Py5Ut69FlRA8cTgcLZv7I3FziuntC36zt+Ga//yNpdwJFw4vRa+pALqtblUWfzOfjkW9lLdNx0G00vvkaipQoxqO1ugcslkCeLwCu7XU9LW67Fmste/7cyTuDX+Hk8RN+i88f2+rhj0ZQvHQEJ45nADD57rEcSTzstxhO8ce2Klu1PD2e78sltSrzvxc+ZO7rs7PWFeht5VO6CTNP+V4BN8YY4L/AfGttVWttQ+BxoKxXm/P6RcFae6+19g/Py2Fe62sK3AA0sNbWBa4Ddp1nCBfUx0DoHNeGVyeMye9unJVxGLqN7sXkHuMY3WYAjTo1J6pahWxtmnVtTVrKUUbGPsSP07/ipqF3AhBVrQIxHZvxdNuBTOo+ltuf7oVxmKzlJt4+inFxQwKWfNeOrU+ZyuV4MrY/7w17jTvH3pdruzvG3MeMx1/lydj+lKlcjlqx0QC0792ZDQvWMKLVQ2xYsIb2fToDcHDXAV68bSSj2z/KV5M+4a5nHgDg5PETTLxjFGM6DObpuMHUahlN5frV/RbXE7H9mXGGuO7yxPWEJ67anrg69O7M+gVrGN7qIdYvWEMHT1yt7m7Hvs27Gd1hMM93e4quT3THGRxEnVYNuLRWFUbHDWZc52G0u68jhYuFXlAM/tjP8lqnMYZ7XuzL9P7/x9PtBpG4O4Emt7TM1pebht7J+l9WXVBMZ4v3Nk/fnm4zgJgzxPtULvE27NiMMW0HMrn7WLp54j2wdR/PxA3hmbghjL/hMTKOZbDq28V+iyGvuLqO/g+v9HiGMW0G0jCXuJp2bU16ylFGxT7MvOlzuHHoHQCcOH6CL1+cyX/HzThtvWt+WM7zNz4RkBhOCfT5IrxsJK17xDGu41BGt3sUh8NBo47N/Rafv7YVwDuPTGJ83GOMj3ssIMm3v7ZVWvIRPnrqzWyJNwR+W0ng5HsCDrQCTlhrs0qz1tpVgNMY84sx5gvgD2OM0xjzvDFmiTFmtTHmAXAn8MaYycaYP40x3wNlTq3HGDPfGBNjjBkPhBpjVhpj3gfKAQettcc973fQWrvXs0wjY8wCY8wqY8xiY0yYMaawMeYtY8waY8wKY0wrT9sexpgvjDE/Aj8YY4oaY970LLfCGHNjYD7CM4uJrkOJ4mH53Y2zqhRdjYQd8RzcdYDME5ksnb2Aem0bZWtTr20Miz6dD8DyOYu4olltz/RGLJ29gJMZJ0ncnUDCjngqRVcLdAhe/WzEos9+AmDbik2EhhWleOnwbG2Klw4nNCyUbSs2AbDos5+IbtvYvXybRiz8ZD4ACz+ZT7027ulbl28k7fBR93qXbyI8qmTW+o6nHQPAGeTEGeTEWuvzuKK94tq6YhNFwopSIkdcJUqHUzgslK25xBWdI65oT1wWS6Gi7sS6cJHCHE0+gutkJuWqV2Tj4j9wZbrISD/O7g07qd0y+oJi8Md+ltc6i0YUI/PESQ5s2wfAhl9XU7/DVVnv06pHB1Z8/TupfkwcTvUt0dO3ZbnEW9cr3hVzFnG5V7zLznJcXdG8Dgd3xJO056DfYshNpehqHNyxPyuu5bMXUDeXuH7/1L2/eseVkX6crUv/5EQuVcTtKzZxOCHZ7/33lh/nC4fTQXDhEBxOByGhhUjen+S3+Py1rfKDv7ZVauJhdqzeQubJk6e9ZyC3lc9ZV/7/FFAFIQGvDSzLY14D4GFrbQ2gF5BirW2Ee6jKfcaYysBNwOVATeAeoFnOlVhrhwLp1tpoa+2dwHfAJcaYjcaYV4wxLQGMMSHATM971sNdGU8H+rpXY+sAtwPvGGMKe/Wxi7W2JfAE8KO1tjHuXyyeN8YUvaBP518kvGwkh/YmZr0+tC+R8LKRebZxZbpIT02jaERYLssmZS1rLTw04wkenz2eFrdfG4BI3P1M8upPcnwiEVHZY4mIiuTQvtzjLV66RFYScDghmeKlS5z2Hs1va826+SuyXhuHg+FznueFZdNZ/+tqtq/c7MuQ3H3OEdeh+ETCc8QVnktcEV5xpXjiSvGK68d3vqFctQo8v3gaI799kY9GvYW1lt3rt1O7ZTQhhUMoFhHG5U1rEVGuJBfCH/tZXus8kpSKw+nk0jpVAKgf14SIcqUAKFE2gnrtGvPze99dUDxnk1vfSpxjvCVyLJvsdVyd0rBjc5Z+8ZsfI8hdzr6544rIs413XAVNoM8XyfuTmPv6bJ5ZMJXnFr9Oemoa639Z7euwsvhzW931fG+GznmW9v1v9m2n8xCIbeUt0NtKAqcgJOBnsthae2pwVVvgHmPMSuB3oCRQHbgG+NBam+mpYv94tpVaa48ADYH7gQRgpjGmB+5Efp+1domn3WFr7UmgBfCeZ9oGYAdQw7O6udbaU7+OtgWGevo4HygMXJrz/Y0x9xtjlhpjlr7x7ofn/mnIeXmhy5M8c8NQJvcYR8t72lGt8ZX53aW/LWc1u0bTWjS/rTWfjX/vrzYuF2PiBjO06QNUqleN8jUuCXQ3/7ZTcdW6Jppdf2xncOP7GR03mDtG96JwsVD++GU1a+atYOhnY7nv5UfYunwjrn/YmMLpD73ErU9257HPx3H8SHpW/28d0YPPx7/vl28qAsUZ7KTudQ1ZPmdRfndFvJztfFGkeFHqtWnEE1f3ZchV91OoSCGu6nx1fnT1grz98CTGtR/MxFtHUrXRFTS++Zr87tLfdrbj/2LZVnK6gjBueR3QJY95R73+b4D+1tpvvRsYY+LO502ttZm4k+T5xpg1QHfyrsSfSc4+3mKt/fMs7z0NmAZw4uDWf+7V18eS9ycRUf6v6mZEuZKnfdV2qk1yfBIOp4PQsCIcPZSay7KRWcum7D8EuL/iW/ntEirVq8bmxet93v/Yu9vR4vbrANi+ajOR5UuyxTMvPKokh+Kzx3IoPilbNdc73sMJKRQvHe6pkISTevCvIQoVrriUe8Y/yMs9xnE0+chp/Ug/nMafC9dRq2U0ezde0K0NWXFd44lrmyeurD5HubeFt+Rc4jrkFVeJ0uGkJCRTwiuu5re24pup/wXIGsoRVbUC21dtZs6Uz5gz5TMA7v2/h9m/dd8FxeOv/SyvdW5bvokXu44E4Mqr61KmcnnAffNlr0kPA1A0oji1Y+vjynSx6rslFxTfucSbco7xpuRYNtwrXoBasfXZtXYbqQdTfNrnc5Gzb+64DuXaJmdcBUF+ni+uaFGHg7sOcCTJ3W7FN79TpeHl/P75L36J1V/b6tQ6jh89xtIvfuOyelVZ/NnPPu9/oLZVbgK9rXzOlZnfPSiwCkIF/EegkDHm/lMTjDF1gZy/4n0L9DbGBHva1PAM7/gZuM0zRrwc7qEfuTnhtezlxhjvO9SicVe1/wTKGWMaedqFeW6u/AW489T74q5q55Zkfwv099xYijGm/jl+BgLsWLWFMpXKUbJiaZzBTmI6NmP13KXZ2qyeu4wmt8QC0CCuCX8uWOeZvpSYjs0ICgmiZMXSlKlUju0rNxMSWohCRd2jhUJCC3Hl1XXZu3GnX/o/f8a3jIkbzJi4waz8bglNbnbfbFe5fnXSU9NOG1d6OCGZ9NT0rJslm9zcMiv5Wv39Upp2ccfZtEssq+a6p0eUL8WDrw7mzQGTssYVAxSLLE5o8SIABBcK4coWdYnfssdncY2OG8zoHHFV8cSVkiOulIRkjqWmU8UrrpWeuFbliGulJ66kvQe5onkdAMJKlaBslfIc3Lkf43BQNLwY4E4kKl5xKX9c4A2L/tjPzrTOsJLFAfdTHto+eCO/vO8ecvLk1f0Y3sL9s+LrRXz45Bs+T75zi7fhWeKtnyPehrnEe0pMp+YsmR344Sfgjqt0paisuBrkEteauUu5ynPTa/24Jmz0xFUQ5Of5ImnvQarUr05w4RDAPY4/fvNuv8Xqj23lcDqyhqg4gpzUbt2AfT4oOOQmENsqL4HeVhI4piB8/WmMKY/7MYQNgWPAduBz4EZr7Q2eNg5gDNARd6U5AegMHAYmAW2AncAJ4E3PYwjnA4OstUuNMc8CnYDlwATPMuHASWAzcL+19qAn+Z4EhOIe/32dp81UIMbz/4HW2nmeYSsx1tp+nj6GeuJohvuXm22n+p+XQFTAB48cz5IVq0lOPkzJyHD69LqbWzq28+t7PhQz9LyWqxVbn1tHdHc/qmrWPL6Z8l9uGNCVnWu2sPr7ZQQVCqbHhH5cUqsyaclHmN7/JQ7uOgBA+7430axrK1wnXXz89Nusm7+SUpeU4YFpgwBwOJ0s+d+vfDPlv+fVNxd/b1PdProXtVpGk5GewTuDp7BjzVYAhs95njFxgwG4rE4Vunse17d2/ko+GjkdgKLhxbh/ykAiypciaU8C0/pOJC3lCHePf5D6Ha7KuuHNdTKTcZ2GUuGKS+nxYj8cDgfGYVj21UK+evmTc4zr77nDK663veIaMed5RnvF1fPUI7jmr+RDr7gemDKQyPKlSNyTwGueuEqUiaDnC30pUSYCY+DrqZ/z++e/EFQomCe/fA6AY0fSeO+J19n1x/az9jEIc8b5vt7P8lonwM2P30XtaxvgMA5+fv87fszlUX33vNCHNT8sO+tjCM8c1Znj7eLp20KveHes2cIar3gresWb6BVvU694//DEGxJaiDELXmHENf04lpp+nj0Dx3lHBTVjo+kyojvG6WDRrPl8O+W/XD/gVnau2ZoV1z0T+nFJrUocTT7CW/3/LyuuUb9OonCxIgQFB5F2+ChT7h5L/OY93Dj0TmJubE6JshGk7D/Ewpk/MuelczuWvJ34m0dWIM8XAB0HdCXmhmZknsxk17rtzBg6lZMZp98A6C34Amp2vt5WSXsO8sisp3AGOXE4HWz4bQ2fPf0u1vX3L6kFYVsVLx3OsC/GU7hYKNZajh89xlNtBnDsSPp5bSuA17Z/fP4Hl48cXz8v35PMQle2yvfPITcFIgH/N7tYh6CcbwJekP3dBPyf4p81ovrcnC0B/6e6GKO6kAS8IPu7Sd0/wYUk4AXZxbitQAn4KQU1Ab84jyYRERERkQKqINyEKSIiIiIXm3/YU6sCSRVwEREREZEAUgIuIiIiIhJAGoIiIiIiIr5XgP8UfH5TBVxEREREJIBUARcRERER39NNmHlSBVxEREREJICUgIuIiIiIBJCGoIiIiIiIz1mbmd9dKLBUARcRERERCSBVwEVERETE9/QYwjypAi4iIiIiEkBKwEVEREREAkhDUERERETE9/Qc8DypAi4iIiIiEkCqgIuIiIiI7+kmzDypAi4iIiIiEkBKwEVEREREAkhDUERERETE91z6S5h5UQVcRERERCSAVAEXEREREd/TTZh5UgVcRERERCSAlICLiIiIiASQhqCIiIiIiO/pL2HmSRVwEREREZEAUgVcRERERHxPN2HmSRVwEREREZEAUgU8nz0UMzS/u+AXLy8dn99d8LnHYobldxf8IsI687sLPrfTZOR3F/zimcsP5HcXfK7H+mL53QW/iHKE5ncXfO4YJ/O7C35RlIvvHCgFnxJwEREREfE93YSZJw1BEREREREJICXgIiIiIiIBpCEoIiIiIuJ7GoKSJ1XARUREREQCSBVwEREREfE5azPzuwsFlirgIiIiIiIBpARcRERERCSANARFRERERHxPN2HmSRVwEREREZEAUgVcRERERHzPqgKeF1XARUREREQCSAm4iIiIiEgAaQiKiIiIiPiebsLMkyrgIiIiIiIBpAq4iIiIiPiebsLMkyrgIiIiIiIBpARcRERERCSANARFRERERHxPN2HmSRVwEREREZEAUgVcRERERHxPN2HmSRVwEREREZEAUgIuIiIiIhJAGoIiIiIiIr6nmzDzpAq4iIiIiEgAqQIuIiIiIr6nCnieVAEXERERkX8lY0x7Y8yfxpjNxpihucy/1Bgzzxizwhiz2hgT54v3VQX8H6pmy3p0HdET43Tw28wf+G7q/7LNDwoJovuEflxauwpHk1N5o99LJO1OAKBdn84069oam+li5qi3WP/zKgDG/DqZY0eO4XK5cJ3MZHynxwMe17kaPm4CP/+2mMiIcD5/79X87s4ZXdGyHp1HdMfhdLBo5o/8OPWLbPOdIUHcMaEvl9SuzNHkI7zb7/84tDuBS+tV5dZn7gPAGMO3L33Cmm+XAFC4eBFuG/8AUZdXBAsfDXmVHcs3BTSuqi3r0m7k3RingxUfzWfB1NmnxXXjhN6Uq1OJ9ENH+LTfJFJ2H8QR5OSGZ++lXO3KOIIcrP70V357xf2ZXNWrPfW7tcJay4ENu/hi8DQyj5/weyzdRvakTqsGZKQf561BU9i5bttpbS6tXYWeL/QlpHAIa+Yt56NRbwFQpEQxHpg8gJIVS5O4O4HX+k4g7fBRajSpSd9pj5G4+wAAy7/5nS9f/oSyVcrzwOQBWestdUkZ/jdxJj+8OcfvcQIExzSm6IP9MU4Hx77+ivRZH+TaLqTFNRR/8mmS+93PyU1/gtNJsQFDCKpWA5xOjn//Lekz3w9In8/k/lEPENMqhuPpx3np0YlsWbvltDZV61RjwIsDCCkcwtJ5S5k28jUAKl9Zmb7j+lK4aCgHdu/n+YeeJ/1IOmHhYTz+6jCq16vODx9/z6sjAnuOuX3kf6jTqj4Z6Rm8OWhyrvvjZdn2xxV8OOpNABrGNaXTI10pV60CY298nB1r3J9HzRZ1ueWxO3EGB5F54iQfj5vBhoVrAxrXnSP/Q71WDchIz+D1QZPYkUtclWpX4d4X+hFSOIRV85bzvieu2x6/h+jrYsjMOMmBnfG8MXgyaYfTcAYH0XPcA1SqUxVrLe+PepMNi9YFJJ6aLetxq+c6vOAM1+FLPNfh6Tmuw0091+FZXtfh1r2up9ltrcFa9vy5ixmDX+FkAM6B/1bGGCcwBWgD7AaWGGO+sNb+4dVsODDLWjvVGFMTmANUutD39mkF3BhT1hjzgTFmqzFmmTFmoTHmJl++x4UyxvQwxkzO735cCOMwdBvdi8k9xjG6zQAadWpOVLUK2do069qatJSjjIx9iB+nf8VNQ+8EIKpaBWI6NuPptgOZ1H0stz/dC+MwWctNvH0U4+KGFOjkG6BzXBtenTAmv7txVsZhuHn0f5jWYzzPtnmUBp2aUzbHtrqqayvSU44wLvYRfpr+FTcMvQOAfX/uYmLHYbwYN5TX7nmGLmPvxeF0H7I3jezOhp9W8uy1j/JChyHs37wn4HG1f7oHH3R/jqnXDaF2p6aUqp49rujbYjmWcpQpLR/l9+lfc+3Q2wGoef1VBIUE81q7obx+/XAa3NGaEhVLEVY2gkY92/HGDcN5re1QHE4HtTo29XsstWPrU6ZyOZ6I7c+MYa9x59j7cm1315j7mPH4qzwR258ylctROzYagA69O7N+wRqGt3qI9QvW0KFP56xlNi9Zz+i4wYyOG8yXL38CwP6te7OmPX3DY2Qcy2DFt4v9Haabw0Gxvo9wePgQDt3XnUKtrsV56WWnNTOhoYR27sKJ9X8lMoWuaYUJDib5wZ4k97uPwnEdcZSNCky/8xDTKobylcpz/zX3MXnoJPqM7Ztru75j+zDpsZe5/5r7KF+pPA1jGwLQ/7mHeHv82/Rr25eF3yzklgduASDjeAbvvTiDN8dOD1gsp9Tx7I/DYvvz7rBXuWvs/bm2u2vMfbz7+KsMy9of6wOw98+dvPLg82xavD5b+9RDqbzcazxPtX+U6Y9OptfE/n6PxVvd2AZEVS7HkNh+vDVsKt3ziKv7mPt56/GpDIntR1TlctT1xLXu11U80fYRhncYSPy2vdzQ52YAYrtdB8Dw9gN57q5R3P5Ed4wxua7bl4zDcJvnOvx0mwHEnOE6/FQu1+GGHZsxpu1AJncfSzfPdbhE2Qhie3Tg2Y5DGdNuEA6Hg5iOzfwei19ZV/7/nFljYLO1dqu1NgP4CLgxZxRAcc//SwB7ffHR+CwBN+49/nPgZ2ttFWttQ6AbUNFX75HLezr9te6CrFJ0NRJ2xHNw1wEyT2SydPYC6rVtlK1NvbYxLPp0PgDL5yziima1PdMbsXT2Ak5mnCRxdwIJO+KpFF0t0CFcsJjoOpQoHpbf3TirS6OrcXBHPEmebbVi9gJqt43J1qZ22xiWfPozAKvn/E71ZrUAOHEsA1em++QRXCgYrAWgcFgoVRpfye8z5wGQeSKTY4fTAhUSAOWjq3Jo+36SdyXgOpHJutmLuLxNw2xtLm/TkFWeuP6Ys5jKzd1xWWsJLlII43QQXDiEzBMnOZ6aDoDD6SSocAjG6SAotBBH9h/yeyzRbRux6LOfANi6YhNFwopSonR4tjYlSodTOCyUrSvc3zIs+uwnots2di/fphELP5kPwMJP5hPdpvE5v/eVzWuTsCOepD0HLzyQcxB0+ZVk7t2DK34fnDzJ8fk/EtK0xWntinTvRdqsDyAjI2uatRZTOBQcTkxIITh5Ept2NCD9zstVbZvw46c/AvDnij8pWrwoEWUisrWJKBNBaLEi/LniTwB+/PRHmrRz/2JXoXIF1v7urgKv+GUFzeKaA3A8/Th/LPmDjGOBrzxGt23Ews/mA6f2xyJ57I9FsvbHhZ/Np77nGrBvyx72bz09P9i1bhspB9zH096NuwgpHEJQSOC+BG/QthG/eY6zLWc8zoqwxRPXb5/9RAPPcbb2l1VZ58MtKzYSEVUSgPLVK/LHAvc2TE08zNHDR6lct6rf4zl1HU70nNuX5XIdrut1HV4xZxGXe12Hl+VxHXZ6zosOp4OQ0BBSAnAO/JerAOzyer3bM83bU8BdxpjduKvfPvnt1ZcV8NZAhrU267s6a+0Oa+0kY4zTGPO8MWaJZ/zMA+BO2j3T1xpj1hhjbvNMdxhjXjHGbDDGzDXGzDHGdPHM226MedYYsxy41Rhzn2e9q4wxnxpjinjavW2MedUYs9QYs9EYc4NXX8sbY74xxmwyxjznaf8fY8xLpxp41jsxt0CNMUWNMV953nOtV78bGmN+8lT/vzXGlPPh55slvGwkh/YmZr0+tC+R8LKRebZxZbpIT02jaERYLssmZS1rLTw04wkenz2eFrdf64+u/+uUKBtJstfnnbwviRI5tpV3G1emi2Op6RSNcP9ycWl0NYZ89zyDv32eT4ZPx5XpIvKSMhxNPEy3F3oz8Ktn6Dr+fkJCCwUuKKB4VCSH9/0V1+F9SYRFZU98wqIiOLw3CQCb6eJYahqhEcVYP2cxJ9KOM2DJFB5a+H8snPYVx1KOkrr/EIumfcXDC19mwJIpHE9NY+sva/weS0TZSJK8j4n4RMKjchxPUZEc2pf9mIvwbMfipUuQkpAMQEpCMsVLl8hqV6VBDUZ8/TwPvT2M8tVPr0U06ticxV/85stwzshRshSuhANZr10HE3CUKpWtjbNadRyly3Bi8aJs0zN+mY89lk7kh58R+d4s0j6ZiU1NDUS381QyqiQH9yVkvU6MP0hJT2Lm3SYxPjHXNjs37qRJ2yYAtLi+BaXKZf8s8kN42ZI59sckwnPEFB5VMsf+mER42extzqRhhybsWLuNkxknL7zD5yiibCSJe//6RTMpPjEric5qkyOuJK/jzNvVt17LmvkrANi1fgf1r4vB4XRQqmIZKtWpSmQAtmNu1+Gc5/a8rsMlciyb7LkOp+w/xPevz2bMgqk8s3ga6alprP9ltd9judgZY+735IKnfnL/+iVvtwNvW2srAnHADGPMBefPvkzAawHL85jXC0ix1jYCGgH3GWMqAzcD0UA94DrgeU/SejPu8TU1gbuBnN9DJ1prG1hrPwI+s9Y2stbWA9Z73uuUSri/XrgeeNUYU9gzPRq4DagD3GaMuQSYBXQ0xgR72vQE3swjnvbAXmttPWttbeAbz3KTgC6e6v+bwNg8li+QXujyJM/cMJTJPcbR8p52VGt8ZX536V9v58rNPNd2MBM7DePa3jcSVCgYh9NJhdqVWfDeXCZc/zgZ6cdp3TvnN2YFV/noqrhcLl5q3I9JLQbQ9L44wi8pTeHiRajRtiGTWjzCS437ERJaiDo3Nc/v7v5t1vNNxc612xjavA+jOwzmx7e/ps+0IdnaOYODqHddDEvnLMyPbubOGIrd35ej0145bVbQ5VdiXS6S7riZpHu6EXpLVxxRfqkxBMz/DX6JuHuu56Wv/o/QYqGcPBG4hDS/lK9ekVuG3sWMYa/ld1fOS8e+t+DKzGTB5+5v136e9QOH4hN5avZz3DmyJ5uX/YnrH/rkjdDiRanbphEjru7L41c9QKEihWnc+er87taFcbny/cdaO81aG+P1M82rh3uAS7xeV/RM89YLd46ItXYhUBi44N/y/Pb9kzFmCtACyAB2AHVPVbFxj6Gp7pn/obU2E9hvjPkJd4LeAvjYWusC4o0x83KsfqbX/2sbY8YA4UAx4FuvebM869hkjNkKXOGZ/oO1NsXTzz+Ay6y1u4wxPwI3GGPWA8HW2rzKb2uAF40xzwJfWmt/McbUBmoDcz3jz5zAvjw+m/uB+wGuiWxIzbAqebxN7pL3JxFR/q/KQUS5kiTvT8q1TXJ8Eg6ng9CwIhw9lJrLspFZy576qis18TArv11CpXrV2JxjHKH8PSn7kwj3+rzDy0WSkmNbnWqT4tlWhcNCOXooe2XxwJa9HE87RlSNS0iJTyQlPomdKzcDsGrO71zbu5P/g/FyOD6J4uX+iqt4uUhS47N/VZoaf4ji5SNJjU/COB0UDitC+qEj1L6xGVvmr8Z1MpO0xMPsWraR8nWrYK0leVcCaUnu2Dd8s4SKDauz5r++rxDH3t2Oa253jx3dtmozkd7HRJT7uPGWHJ9ERLnsx9whz3Y8nJBCidLhpCQkU6J0OKkHDwNw7Eh6Vvu181fgHHMvxSLCOOLZtrVjo9m5dhupB1N8Hl9eXIkHcZQuk/XaUao0roN/VSVNaBGclSpT4rmX3PMjIwkbNY7UkcMo1Oo6TixdDJmZ2JRkTv6xlqAaV5ARn+tpzm+uv+d62t3eHoBNqzdSqlzprHklo0plq3YDJMYnZquKe7fZvWU3I+56EoDylcvTqHX2IQSB0uru9lzt+dZx+6otOfbHSJJzxJQcn5hjf4wkeX/2NrmJiIqkz2tDeHPgJBJ27vdR7/N27d3tael1nJUsX4pTt4pHRpXkUI64DuWIK9LrOANo0aUV0dc25Nk7nsqa5sp08cHTb2e9Hv7pWOJzGYLja7ldh3Oe2/O6DqfkWDbccx2+okUdEncd4IjnHLjym9+p0rAGiz//xe/x/IstAap7isJ7cA+dviNHm53AtcDbxpgrcSfgCVwgX1bA1wENTr2w1vbF3eHSgAH6W2ujPT+VrbXfXcB7eQ88fBvoZ62tA4zC/cFkdSPHcqdeH/ealslfv4i8AfTAXf1+K683t9ZuxB3rGmCMMWYE7hjXecVYx1rbNo/ls34b+7vJN8COVVsoU6kcJSuWxhnsJKZjM1bPXZqtzeq5y2hySywADeKa8OeCdZ7pS4np2IygkCBKVixNmUrl2L5yMyGhhShU1P3RhYQW4sqr67J3486/3TfJbteqLZSuFEWkZ1vV79iMtXOXZWuzbu4yGt1yDQB1465is2dbRVYsnXXTZUSFUpSpWp5DuxNITUgheW8ipau4q481mtdm/6bA3oS5d9VWIitHEX5JaRzBTmp1bMLGHHFt/H459Txx1YxrzHZPXIf3HKRSs5oABIcWokL96hzcspeUvYlUrF+NoMIhAFRqXouDm/1zIZ0/49usGyFXfreEJje3BKBK/eqkp6ZlDSk5JSUhmWOp6VSpXx2AJje3ZOV37ifSrPp+KU27xALQtEssK+e6pxf3Gt9aqV41jHFkJd8AjTu1YPHsX/0SX15O/rkBZ4WK7psng4IoFNuajEV//YJj046S1PVGDnXvxqHu3Ti5/g9SRw7j5KY/cSXsJzjac4ovVJigK2qSuWtHQPsP8NW7X/FQh/481KE/C79dROtbWgNwef3LSUs9yqED2X8RPHTgEOlH0ri8/uUAtL6lNb9/5x5eU6Kke7iQMYZuD3Xj6/e+DmAkf5k345us/XHFd4tpenMscLb9MS1rf2x6c2zW/piX0OJFeOitYXz27PtsXvanP8I4zQ8zvmFE3CBGxA1i+XeLae45zqqeJa6qnria39yS5Z646rSMJu6BG3np3vFkHPvr3oSQwiFZQ/BqtaiL66SLvZt3+z22nNfhhme5DtfPcR1umMt1+NDeg1SqX51gzznw8uZ1iA/wDfY+l983YJ7lJkxr7UmgH+7i7Xrchdt1xpjRxphTla1HcY/cWAV8CPSwp77qvADGB+twr8hd9l2Ee5zMVM+0S4GfgXG4x83caq09YYypgfs3jXbAA555kcBS4CrgaqA70Al3Ar8euN9a+4kxZjsQY6096HmPg7iHqhzCPTh+j7W2hzHmbaAMcANQGfgJqIb7t5sYa20/z/JfAi9Ya+d7Xi/3vGdda22udz8YY8oDSdbaY56x5fcCXYE/gLuttQs9Q1JqWGvP+Dyk3pW6ntcGqBVbn1s9j7ZbMGse30z5LzcM6MrONVtY/f0yggoF02NCPy6pVZm05CNM7/8SB3e5x36273sTzbq2wnXSxcdPv826+SspdUkZHpg2CHDfCLfkf7/yzZT/nk/XAHh56fjzXvZcDB45niUrVpOcfJiSkeH06XU3t3Rs59f3fCxm2Hktd2VsNDd6ttXiWfP4fsrntB9wK7vWbGWdZ1vdMaEvFWtVIi35CO/2f5mkXQdoeNPVXNu7E5knM7Euy3cvf8ra79wn+PI1L+O28ffjDA4icdcBPhr0KumHz++GuAh7fvcyV2tVj7Yj3I8hXDXrJ36d/D9aDryFfau3sfH75TgLBdN5Ym+ial1GevJRPus3ieRdCQQXKUSnFx6gdPUKYAyrPv6Jha99BUDLAbdQ84YmuDIziV+3gy8fe53M8xinutNknL2RlztG96JWy2gy0jN4e/AUdqzZCsCIOc8zOm4wAJfVcT/2LbhwCGvnr+TDke4nZBQNL8YDUwYSWb4UiXsSeK3vRNJSjtDqnvbE3tWWzMxMThzLYNbT77Bl+UbA/UvuswumMuyafqSnnvsNtM9cfuDsjc4iuNFVFHuwPzgcHPtuDukfvkeRe/7DyY0byFi0IFvbEs+9xNHXp7ofQ1g4lLBHh+K87DLAcPy7r0n/5KML7k+P9cUuaPkHn+5Nw9iG7scQDprI5tXub4Ze/noSD3Vw3ytVre6pxxAWYtm8pVmPFez0n05cf4/79qAF3yzgnfFvZ613+m9vUiSsCEHBQRw9fJQn7xrOrk27OFdRjtDzjumO0fdSu2W0+7GYg1/JepRg9v2xKv/J2h9X8IFnf6zfrjG3P9WLsMjipB8+ys7123npnjFc3+8W4vrcxP7tf31jMfHup0lNPHzO/TpxWk3r77l79L3UbVmf4+nHeWPwFLZ74ho95wVGxLmvP5XqVOU+z2MIV89fwYyRbwDw3PzJBIUEcyTZ/UvslhUbeeeJaZSqWJpB7zyJtZZD8UlMf+wVEvf8veJkUc7vHFgrtj5dPOf2hV7X4R1rtrDG6zpc0es6nOh1HW7qdR3+Y/5KAK4fcCsNb2iG62Qmu9Zt5/2hr573WP1Xts/y/+NgziL9f8/5Jsm8AKE3Dsn3zyE3PkvAATzjtyfiTqITcFeqXwU+BsYAHXFXihOAzsBh4DmgA+7q9Bhr7UzP4PZXgFjcd6ca4Flr7dxcEvDewBDPOn8HwrwS8GNADO7Hxwy01n5pjOnBmRPwoUC0tbbbGeJsBzwPuIATQG9r7VJjTDTwMu4hNkHAS9ba18/0mZ1vAl7Q+TsBzw/nm4AXdOebgBdkfzcB/6fwRQJe0FxoAl5QXUgCXlBdaAJeUJ1vAl7QKQF3K6gJuE/HgFtr9+GuMOdmmOcnp8GeH+/1uIwxg6y1R4wxJYHFuId7YK2tlKPtVGBqHu/5vbX2wRzt38Y9bOXU6xtyLNMC9y8RebLWfkv2seanpq8ErjnTsiIiIiL/Cv/QG2IDoSD/JcwvjTHhQAjwtLU23p9v5nmvxcAqa+0P/nwvEREREfn3KrAJuLU29gKX7/E32ycDNbynearvuSXj11prz37LuYiIiMi/1dn/EuW/VoFNwAsCT5Idnd/9EBEREZGLhy8fQygiIiIiImehCriIiIiI+J5uwsyTKuAiIiIiIgGkCriIiIiI+J4q4HlSBVxEREREJICUgIuIiIiIBJCGoIiIiIiI79l8/0v0BZYq4CIiIiIiAaQKuIiIiIj4nm7CzJMq4CIiIiIiAaQEXEREREQkgDQERURERER8T0NQ8qQKuIiIiIhIAKkCLiIiIiK+Z1UBz4sq4CIiIiIiAaQEXEREREQkgDQERURERER8Tzdh5kkVcBERERGRAFICLiIiIiISQBqCIiIiIiK+Z21+96DAUgVcRERERCSAVAEXEREREd/TTZh5UgVcRERERCSAlICLiIiIiASQhqDkMxcX5w0Kj8UMy+8u+NyzS8fldxf84qmY4fndBTlHT/0Zld9d8LmSjpP53QW/MJj87oLPuS7WPyt+8W2qgkNDUPKkCriIiIiISACpAi4iIiIivnexfmviA6qAi4iIiIgEkBJwEREREZEA0hAUEREREfE567o4HzThC6qAi4iIiIgEkCrgIiIiIuJ7egxhnlQBFxEREREJICXgIiIiIiIBpCEoIiIiIuJ7eg54nlQBFxEREREJIFXARURERMT39BjCPKkCLiIiIiISQErARUREREQCSENQRERERMT39BzwPKkCLiIiIiISQErARUREREQCSENQRERERMT3NAQlT6qAi4iIiIgEkCrgIiIiIuJ7Vs8Bz4sq4CIiIiIiAaQEXEREREQkgDQERURERER8Tzdh5kkVcBERERGRAFIFXERERER8z6WbMPOiCriIiIiISAApARcRERERCSANQfmHuW1kT2q3akBG+nHeHjSFXeu2ndbm0tpV6PFCX4ILh7B23nJmjnoLgCIlinHf5AGUrFiaxN0JvN53AmmHj9L4xha0e7AzxhiOHU3ng+Gvs3v9DoIKBTNo5miCCgXhdDpZ/vUiZk+c5df4rmhZj84juuNwOlg080d+nPpFtvnOkCDumNCXS2pX5mjyEd7t938c2p3ApfWqcusz9wFgjOHblz5hzbdLAChcvAi3jX+AqMsrgoWPhrzKjuWb/BrH+Ro+bgI//7aYyIhwPn/v1fzuzhlVb1mX60fcg8PpYOnMefw8dXa2+c6QILpM6E2F2pVJSz7CR/1eJnn3QQDKXnEJncfdS6FioViXi6k3PsnJ4yfo/s5jhJUJx+F0smPJBr548i1sAL7C7DayJ3U8x9Vbg6awM4/jqucLfQkpHMKaecv5yOu4esDruHrNc1yFhhWh18T+RFYohdPp5NvXv2DBx/MBuGXoXdRt3QDjMPzxy+qsdfnLlS3r0WVEDxxOBwtm/sjcqf/LNj8oJIi7J/Tl0tpVOJqcypv9/o+k3QkUDS9Gr6kDuaxuVRZ9Mp+PR/7Vz4c/GkHx0hGcOJ4BwOS7x3Ik8bBf48jNnSP/Q71WDchIz+D1QZPYkcu2q1S7Cve+0I+QwiGsmrec90e9CcBtj99D9HUxZGac5MDOeN4YPJm0w2kAXHLFZfQY9wChxYrgcrkYdeNjnDh+wm9x+GMfBKjRpCbdRvTEGeQk9VAqL9w2Mmt9xuFg+OzxJMcnManXeL/FdsrdT/WiXqsGHE8/zrRBk9mxdutpbSrVrsL9L/bP2lYznpoOwC2P3k6DNo2wLsvhxBSmPTqJ5AOHsparXLcaI//7DFP6T2DJnIV+i6Fmy3rcOqInxulgwcwf+C6XY6n7hH5c4jmWpvd7iaTdCQC069OZpl1bYzNdzBr1Fut/XkWZKuXoNXlA1vKlLinDlxNnMe/NOVSseRm3j72PoEIhuE5m8tGTb7Bj1Ra/xeYXVjdh5qVAVsCNMWWNMR8YY7YaY5YZYxYaY27ywXpjjTFf+qKP+aF2bH3KVC7Hk7H9eW/Ya9w59r5c290x5j5mPP4qT8b2p0zlctSKjQagfe/ObFiwhhGtHmLDgjW079MZgIO7DvDibSMZ3f5Rvpr0CXc98wAAJ4+fYOIdoxjTYTBPxw2mVstoKtev7rf4jMNw8+j/MK3HeJ5t8ygNOjWnbLUK2dpc1bUV6SlHGBf7CD9N/4obht4BwL4/dzGx4zBejBvKa/c8Q5ex9+Jwunfvm0Z2Z8NPK3n22kd5ocMQ9m/e47cYLlTnuDa8OmFMfnfjrIzD0HF0T97p8Rz/12YwdTs1o3SObRXTNZZjKUeZEDuQ36Z/TbuhtwPgcDroOrEv/3tiOi+3HcIb3caQeeIkAB/1fZnJHR7n5bZDKBJZnNrXN/F7LKeOqydi+zPjDMfVXZ7j6gnPcVXbc1x16N2Z9QvWMLzVQ6xfsIYOnuOq1d3t2Ld5N6M7DOb5bk/R9YnuOIODqNqgBtViLuep9oMY2fZRKtWrRo0mNf0Wn3EYuo7+D6/0eIYxbQbSsFNzonJsq6ZdW5OecpRRsQ8zb/ocbvQcVyeOn+DLF2fy33Ezcl33O49MYnzcY4yPeyxfku+6sQ2IqlyOIbH9eGvYVLqPvT/Xdt3H3M9bj09lSGw/oiqXo25sfQDW/bqKJ9o+wvAOA4nftpcb+twMuPfRByY+zNtPvMawto/wTLcRnDyR6bc4/LUPhhYvwp1P38fke59lZNuBvNbnxWzru65nHPsCdD6s16oBZSuXY1DLvrz5+Kv0HJP7tuox9gGmD53KoJZ9Keu1rb567XOeaD+Q4XGPsvKHpXR+uGvWMsbhoNvjd7P2l5V+jcE4DLeN7sXkHuN4us0AYnI5lpp1bU1aylGein2IH6d/xU1D7wQgqloFGnZsxpi2A5ncfSzdnu6FcRgObN3HM3FDeCZuCONveIyMYxms+nYxADcNvYuv/u8TnokbwpcTZnHT43f5NT4JrAKXgBtjDPA58LO1toq1tiHQDaiYD30pUN8Q1GvbiEWf/QTAthWbCA0rSvHS4dnaFC8dTmhYKNtWuCu8iz77iei2jd3Lt2nEwk/mA7Dwk/nUa+OevnX5xqxqybblmwiPKpm1vuNpxwBwBjlxBjmxfvyrVpdGV+PgjniSdh0g80QmK2YvoHbbmGxtareNYcmnPwOwes7vVG9WC4ATxzJwZbp/0w4uFJz117cKh4VSpfGV/D5zHgCZJzI55qlwFUQx0XUoUTwsv7txVhWjq5G0Yz+HPNtq9eyFXNm2YbY2V7aNYfmnvwCwbs7vVG1WG4BqV9clfsNO4tfvBCA9+UhWlfv4kXQAHEFOgoKDAvJX1KK9jqutKzZRJKwoJXIcVyVKh1M4LJStuRxX0TmOq2jPcWWxFCoaCkDhIoU5mnwE18lMLBBcKISg4CCCQ4JwBjk5nJDit/gqRVfj4I79JHq21fLZC6jbtlG2NnXbxvD7p+7PYMWcRVzu2VYZ6cfZuvRPv1Z+L0SDto34zbPttpxx2xVhi2fb/fbZTzTwbLu1v6zKOm9sWbGRCM+5r/bV0ezasJ1d63cAcDT5CNaPj1Pz1z54VacWrPjmd5L2ur95SvX6JSkiKpI6rRvw60c/+C0ubw3aNObXT9193LJiI0WKF6VEmYhsbUqUiSC0WChbVmwE4NdP59Ow7VUAHPOcGwAKFSmc7dzQtkccS75eyOGD/juOwH0sJeyIzzqWls1eQL1cjqVFnji9j6V6bRuxbPYCTmacJHF3Agk74qkUXS3bslc0r+O+Bu5xby+LJbSY+xwSWrwIKfsP8Y/jsvn/U0AVqATTozWQYa3N+v7dWrsDmGSMcQLjgVigEDDFWvuaMSYWeAo4CNQGlgF3WWutMaY98BKQBvx6ap3GmKLAJE/7YOApa+3/jDE9gJuBYoATaJmzg8aYcsBMoDjuz7C3tfYXY0xbYJSnb1uAntbaI774UADCy0aStDcx63VyfCIRUZEcTkjOmhYRFcmhfX+1ObQvkfCykQAUL10iq+3hhGSKly5x2ns0v6016+avyHptHA6e+PJZSl8WxU8zvmH7ys2+Cuc0JcpGkuwd374kLstxgvJu48p0cSw1naIRYRw9lMql0dXo9twDRFQozQcDp+DKdBF5SRmOJh6m2wu9KX/lpexes43PR71DRvpxv8Xxb1C8bAQpXtvq8L4kLsmxrbzbuLdVGkUiwihVJQprLT3eHUrRyDBWz17IL6/99cVUj3eHUrFeVTbOX8naOb/7PZaIHMfVofhEwqMiSfE6rsJzOa4ivI6rU21TvI6rH9/5hn5vPMbzi6dRuGgo0/pNxFrL1uUb2bBwLS8smQYY5r37DfFb/FeFLFE2kkN7s/c954Xfu40r00V6alrWcXUmdz3fG5fLxcqvf+ebSZ/5vvNnEVE2kkRPcgmQFJ9IRFTJbNsuIqpktm2X5LXtvF1967Us/vI3AKKqlMNaGPTuk4RFFuf32b8y57X/nbaML+Pwxz5Ytkp5nEFOBn30FIWLhvLDW1+x8DN3AeO2ET355Jn3KFyssN/i8hYRFZn1iwC4t1Vk2UhSvIaRRJaNJCk+x7aK+mtbdRl8By1ujiU9NY1x3Ua411s2kph2VzGu2wiqPJ99v/a18FyPpep5tvE+lkqUjWT7ir+GPibvS8q6Np/SsGNzln7xW9brT0a9Q793n+DmYXdjHA5euGW4P8KSfFLgKuBALWB5HvN6ASnW2kZAI+A+Y0xlz7z6wCNATaAK0NwYUxh4HegINASivNb1BPCjtbYx0Ap43pOUAzQAulhrT0u+Pe4AvrXWRgP1gJXGmFLAcOA6a20DYCkw8O8EHmg5q9k1mtai+W2t+Wz8e3+1cbkYEzeYoU0foFK9apSvcUmgu3nOdq7czHNtBzOx0zCu7X0jQYWCcTidVKhdmQXvzWXC9Y+TkX6c1r1vzO+u/qs5nE4ua3Q5sx6ewrQuo6jZrhFVPN9kALx9z3jGN+6DMyQ42/R/ilPHVa1rotn1x3YGN76f0XGDuWN0LwoXC6X0ZVGUq1aRIU0eZEiTB7iiWW2qN7oin3v997398CTGtR/MxFtHUrXRFTS++Zr87tJ569j3FlyZmSz43J2cOp1OajS6glcffomxXZ6gYburqNmsTj738tyd2gcdTieX1anCyz2f4aV7xnB9/y7uYR2tG3A4MYWduYzBLsg+ef4DHml6Pws+/5k23TsAcNfI//DR+Bl+/XY2EJzBTupe15DlcxZlTbv6rrZ88vQ7PNGsD588/Q53PftgPvZQfK0gVsCzMcZMAVoAGcAOoK4xpotndgmgumfeYmvtbs8yK4FKwBFgm7V2k2f6e8CpgWdtgU7GmEGe14WBSz3/n2utTTpDt5YAbxpjgoHPrbUrjTEtcSf/v7lH0RAC5HoniDHm/lP9uDqyAVeGVcnzjWLvbkeL268DYPuqzUSWL8mpWzDCo0pyKD57Nw/FJxFR7q8hJBHlSpK8393mcEIKxUuHe6rf4aQe/OvryApXXMo94x/k5R7jOJp8etE+/XAafy5cR62W0ezduOsMH835S9mfRHj5v/oeXi6SlP1JubZJiU/C4XRQOCz0tCrdgS17OZ52jKgal5ASn0hKfBI7PZX7VXN+59renfzS/3+Tw/sPUcJrWxXPZVudanM4a1sVIe1QKinxSWxfvIE0z3bbOG8l5WtXZuuCdVnLnjx+gvVzl1GzTQxbfl3r8/7H3t2OazzH1TbPcXVKRFRJknMcV8m5HFeHvI6rEqXDSUlIpoTXcdX81lZ8M/W/ACTsiOfgrgNEVa1AjatqsnXFxqzhXWvnr6BKgxpsWrLB53GC+5iJKJ+97zm/yj7VJtmzrULDipy1+n1qHcePHmPpF79xWb2qLPZUV/3p2rvb09Jr25UsX4pTdcXIqJIc8qqggrua7L3tIr22HUCLLq2IvrYhz97xVNa0pPhE/lz8B0c8n8Gqecu5rHYV/liwxmdxBGIfPBSfyNHkVDLSj5ORfpxNi9dT8crLuLR2FaKvi6FOq/oEFwqhcLFQek3sz/QBk3wWH8B197QntlsbALau3kxk+VJZ8yKjSpKU45yRtD+JyKgc2yr+9Evxgs9/ZtDbw/ls4kwq161K30nuWldYZBj1WjXEdTKTZd8t9mksAMm5HktJubbJeSzlPA7Dy0VmXZsBasXWZ9fabaR6DaNpcktLPvbcaLv8q4XcOf4Bn8fkb/4cuvVPVxAr4OtwV6ABsNb2Ba4FSgMG6G+tjfb8VLbWfudp6j2mIJOz/3JhgFu81nWptXa9Z97RMy1orf0ZuAbYA7xtjLnHs765Xuuraa3tlcfy06y1MdbamDMl3wDzZ3zLmLjBjIkbzMrvltDkZndRvnL96qSnpmUbfgLuoSXpqelZN0s2ubklq75zPw1k9fdLadolFoCmXWJZNdc9PaJ8KR58dTBvDpjEgW37stZVLLI4ocWLAO4xq1e2qOvXr8p3rdpC6UpRRFYsjTPYSf2OzVg7d1m2NuvmLqPRLe5KW924q9jsSdoiK5bOuukyokIpylQtz6HdCaQmpJC8N5HSVcoBUKN5bfZvKrg3Yf5T7Fm1hZKVoojwbKu6HZuyIce2Wj93GQ1uuRqAWnFXZSXYm35aTdTllxBcOASH00Glq64kYdNuQooUIswz7tXhdHB562gStuz1S//nz/iW0XGDGZ3juKriOa5SchxXKQnJHEtNp4rXcbXSc1ytynFcrfQcV0l7D3JFc3fVNKxUCcpWKc/BnftJ2nuQGlfVxOF04AxyUuOqmn69EW6H57gq6dlWDTo2Y/XcpdnarJm7lKtucX8G9eOasNHrl6HcOJwOika471VwBDmp3boB+/z0i3lOP8z4hhFxgxgRN4jl3y2muWfbVT3jtkujqmfbNb+5Jcs9265Oy2jiHriRl+4dT8axjKxl1vy0koqXX0aIZx+94qpa7N3k2/gCsQ+u/G4J1WKuwOF0EFI4hMrR1di3eQ//fe4DhjR9kMdb9GVa/4n8uWCtz5NvgO/f/YbhcY8yPO5Rln23mBa3uPtYtX4N0lLTsg0/AUg5cIj0I+lUrV8DgBa3xLJ8rjuRLlupXFa7Bm0bs9dzLRrYojcDWzzIwBYPsmTOQt5+cppfkm9wH0tlKpXLOpYa5nIsrZ67jCaeOOvHNeFPz7G0eu5SGnZsRlBIECUrlqZMpXLZhnTGdGrOktm/ZVtXyoEkqntu0L68WW0Stsf7JS7JHwWxAv4jMM4Y09taO9UzrYjn32+B3saYH621J4wxNXAnwXnZAFQyxlS11m4Bbvea9y3Q3xjT3zNWvL61dkXuq8nOGHMZsNta+7oxphDuXxjGAlOMMdWstZs9w1kqWGs3nnPkZ7F23nLqtKrPmJ8mkZGewTuDp2TNGz7necbEDQbgwydfp7vnUVVr569krWdM9zdT/8v9UwbSvGtrkvYkMK3vRABueKgLRSOKcccY9533rpOZjOs0lBJlwunxYj8cDgfGYVj21ULW/JjX6KAL58p08dmIt7j/3WE4nA4Wz5rH/k27aT/gVnat2cq675fx+6x53DGhL8Pmv0Ra8hHe7f8yAJUbXcG1vTuReTIT67J8+uSbWRW8z556i7te6oczOIjEXQf4aFDBfbzf4JHjWbJiNcnJh7m281306XU3t3Rsl9/dOo0r08XsEW/T492hGKeD5bPmc2DTHq4d0IU9a7ay4fvlLJs1ny4T+jBw/gTSk4/yUX/3Bf7Y4aP8+sYcen8xBqzlz3kr+XPeSoqWKs5dbzxKUEgwxmHYuvAPFr//vd9jWeM5rsZ6jqu3vY6rEXOeZ7TnuHr/ydfpeerxnl7H1ddT/8sDUwbSomtrEvck8JrnuPry5U/o+UJfRn7zIsbAp+Pf48ihVJbNWcQVzWrz1LcvYi2s+2klq39YdnrHfMSV6WLWiDfp++4wjNPBolnzid+0m+sH3MrONVtZ8/0yFsyaxz0T+jFy/v9xNPkIb/X/v6zlR/06icLFihAUHETdto2YcvdYkvYcpO+7w3AGOXE4HWz4bQ2/fRiYm/m8rZq3nLqtGvD8T1M4nn6cN7y23eg5LzAizv0F5ztPvs59nscQrp6/gtXz3eexu0fdS1BIMIPfc48n3rJiI+88MY20w0f59o3ZPPXFc1hrWTVvOavm+e/c5699MH7LHtb+tJKR37yIdbn4ZeYPfvsG82xW/biM6FYNeOHnV8hIP87rgyZnzRsz50WGxz0KwDvDp3H/i/0JLhzC6vl/fe63Db2LclUq4HK5SNyTwFvDXgt4DK5MFzNHvEm/d5/A4XSwcNY89m3azQ0DurJjzRbPsfQjPSb046n5L5OWfITp/V8CYN+m3Sz/ciFPzp2A66SLj0ZMz7r5PCS0EFe0qMsHw6Zle7/3h77GrSN74ghycOL4Cd5/PPAxX7ACfBNkfjMFcdyU5ybHicBVQALuivSrwMfAGNxjuo1nXmfc478HWWtv8Cw/GVhqrX07x02YvwBVrbU3GGNCPdOb4f4mYJtneg8gxlrb7wz96w4MBk7gHuZyj7V2mzGmNfAs7pswAYZba7/IYzUAPFDp1oK3AXygKM787oLPPbt0XH53wS+eirn4buw5QMF8aseFKlQgv7S8MKmczO8u+EXIRbitjln/PYoxP4UVrAee+cwr22eZ/O7D0bH35HuOU/SJd/P9c8hNgdzrrLX7cD96MDfDPD/e5nt+Ti3fz+v/3wCn3eFkrU0HThtQZa19G3j7LP17B3gnl+k/4r45VEREREQkVwUyARcRERGRfzj9Jcw8KQE/A2NMHSDnn4A7bq29Kj/6IyIiIiL/fErAz8BauwaIzu9+iIiIiPzj6CbMPF18d4mIiIiIiBRgSsBFRERERAJIQ1BERERExPf0lzDzpAq4iIiIiEgAKQEXEREREQkgDUEREREREd/TU1DypAq4iIiIiEgAqQIuIiIiIr6nv4SZJ1XARUREREQCSAm4iIiIiEgAaQiKiIiIiPiebsLMkyrgIiIiIiIBpAq4iIiIiPic1V/CzJMq4CIiIiIiAaQEXEREREQkgDQERURERER8Tzdh5kkVcBERERGRAFICLiIiIiK+57L5/3MWxpj2xpg/jTGbjTFD82jT1RjzhzFmnTHmA198NBqCIiIiIiL/OsYYJzAFaAPsBpYYY76w1v7h1aY68DjQ3Fp7yBhTxhfvrQq4iIiIiPwbNQY2W2u3WmszgI+AG3O0uQ+YYq09BGCtPeCLN1YCLiIiIiK+Z135/mOMud8Ys9Tr536vHlYAdnm93u2Z5q0GUMMY85sxZpExpr0vPhoNQRERERGRi5K1dhow7QJWEQRUB2KBisDPxpg61trkC+mXEnARERER8b2C/xjCPcAlXq8reqZ52w38bq09AWwzxmzEnZAvuZA31hAUEREREfk3WgJUN8ZUNsaEAN2AL3K0+Rx39RtjTCncQ1K2XugbqwKez1z53QE/ibDO/O6Czz0VMzy/u+AXTy0dk99d8LneMUPyuwt+Ec7Fd1xtyTyc313wiwrOovndBZ8rZi7OlOEEBb5KK35irT1pjOkHfAs4gTetteuMMaOBpdbaLzzz2hpj/gAygcHW2sQLfe+L82gSERERkXxlC/4QFKy1c4A5OaaN8Pq/BQZ6fnxGQ1BERERERAJIFXARERER8b1/QAU8v6gCLiIiIiISQErARUREREQCSENQRERERMT3XBfrs94unCrgIiIiIiIBpARcRERERCSANARFRERERHxPT0HJkyrgIiIiIiIBpAq4iIiIiPieKuB5UgVcRERERCSAlICLiIiIiASQhqCIiIiIiM9ZqyEoeVEFXEREREQkgFQBFxERERHf002YeVIFXEREREQkgJSAi4iIiIgEkIagiIiIiIjvaQhKnlQBFxEREREJIFXARURERMTnrCrgeVIFXEREREQkgJSAi4iIiIgEkIagiIiIiIjvaQhKnlQBFxEREREJIFXARURERMT3XPndgYJLFXARERERkQBSAi4iIiIiEkAagnIWxpjOwH+BK621G/K5O3Qb2ZM6rRqQkX6ctwZNYee6bae1ubR2FXq+0JeQwiGsmbecj0a9BUCREsV4YPIASlYsTeLuBF7rO4G0w0cJDStCr4n9iaxQCqfTybevf8GCj+cDcMvQO6nTqgEAX076lKVfLvBrfFVb1qXdyLsxTgcrPprPgqmzs813hgRx44TelKtTifRDR/i03yRSdh/EEeTkhmfvpVztyjiCHKz+9Fd+e+ULAK7q1Z763VphreXAhl18MXgamcdP+DUOb9Vb1uX6EffgcDpYOnMeP+cSU5cJvalQuzJpyUf4qN/LJO8+CEDZKy6h87h7KVQsFOtyMfXGJzl5/ATd33mMsDLhOJxOdizZwBdPvlVgn7c6fNwEfv5tMZER4Xz+3qv53Z2zun3kf6jTqj4Z6Rm8OWhyrsfYZdmOsRV8OOpNABrGNaXTI10pV60CY298nB1rtgBQNLwYvacOolLdqiz4ZD4fjJwe0Jiqt6xLnGcfXHaGfbC8Zx+cmWMfvNFrH3zVsw+ecufrjxJ5aRkmtXssoDGdzYOjHqRR60YcTz/OiwNfZMvaLae16T6kO9feci3FShTj5ituzode5s4f+2DNFnW55bE7cQYHkXniJB+Pm8GGhWv9GkfNlvXoOqInxungt5k/8N3U/2WbHxQSRPcJ/bi0dhWOJqfyRr+XSNqdAEC7Pp1p1rU1NtPFzFFvsf7nVQQVCubRmaMIKhSEw+lkxdeL+HLixwDc9eyDXFa3CmA4sG0f7w6awvG0436Jyx/X4RpNatJ32mMk7j4AwPJvfufLlz/JWp9xOBg+ezzJ8UlM6jXeL3H5Q0G9LhUEqoCf3e3Ar55/81Xt2PqUqVyOJ2L7M2PYa9w59r5c29015j5mPP4qT8T2p0zlctSOjQagQ+/OrF+whuGtHmL9gjV06NMZgFZ3t2Pf5t2M7jCY57s9RdcnuuMMDqJOqwZcWqsKo+MGM67zMNrd15HCxUL9Fp9xGNo/3YMPuj/H1OuGULtTU0pVr5CtTfRtsRxLOcqUlo/y+/SvuXaoe7PUvP4qgkKCea3dUF6/fjgN7mhNiYqlCCsbQaOe7XjjhuG81nYoDqeDWh2b+i2G3GLqOLon7/R4jv9rM5i6nZpRulr2mGK6umOaEDuQ36Z/TTtPTA6ng64T+/K/J6bzctshvNFtDJknTgLwUd+XmdzhcV5uO4QikcWpfX2TgMX0d3WOa8OrE8bkdzfOSR3PMTYstj/vDnuVu8ben2u7u8bcx7uPv8qwrGOsPgB7/9zJKw8+z6bF67O1P3H8BJ+/+BEfj5vh9xhyOrUPvtvjOV5uM5g6ueyDDbvGkp5ylImxA1mQYx+8dWJfvnhiOpPaDmG61z4IULNdIzLSjgU0nnPRqFUjylcuT6+re/HyYy/Tb1y/XNv9Pvd3Hu74cIB7d2b+2gdTD6Xycq/xPNX+UaY/OpleE/v7NQ7jMHQb3YvJPcYxus0AGnVqTlSO/a5Z19akpRxlZOxD/Dj9K24aeicAUdUqENOxGU+3Hcik7mO5/eleGIfh5PETvHTHKMZ2GMLYuCHUbBlN5frVAfjk6Xfc0zsMJmnvQVp2b++XuPx1HQbYvGQ9o+MGMzpucLbkG+C6nnHs27zHLzFJ/lACfgbGmGJAC6AX0M0zzWGMecUYs8EYM9cYM8cY08Uzr6Ex5idjzDJjzLfGmHK+7E9020Ys+uwnALau2ESRsKKUKB2erU2J0uEUDgtl64pNACz67Cei2zZ2L9+mEQs/mQ/Awk/mE93GPd1iKVTUnVgXLlKYo8lHcJ3MpFz1imxc/AeuTBcZ6cfZvWEntVtG+zKkbMpHV+XQ9v0k70rAdSKTdbMXcXmbhtnaXN6mIas+/RmAP+YspnLzWu4YrCW4SCGM00Fw4RAyT5zkeGo6AA6nk6DCIRing6DQQhzZf8hvMeRUMboaSTv2c2jXATJPZLJ69kKubJs9pivbxrD8018AWDfnd6o2qw1AtavrEr9hJ/HrdwKQnnwkq5pw/IgntiAnQcFBYAtulSEmug4liofldzfOSXTbRiz8bD5w6hgrkscxViTrGFv42Xzqt20EwL4te9i/de9p681IP87mpRs4cTzDr/3PTcXoaiR67YNr8tgHV3jtg1XOYR8MKVKI5vfGMX/S54EL5hw1aduEHz79AYANKzZQrHgxIspEnNZuw4oNHDoQuPPBufDXPrhr3TZSPLHu3biLkMIhBIX470vwStHVSNgRz0HPfrd09gLqefp4Sr22MSz6dD4Ay+cs4grPflevbSOWzl7AyYyTJO5OIGFHPJWiqwFkVbWdQU6cQU6s59x3zHNOBAgpHAJ+OiX66zp8JhFRkdRp3YBfP/rBd4FIvlMCfmY3At9YazcCicaYhsDNQCWgJnA30BTAGBMMTAK6WGsbAm8CY33ZmYiykSTtTcx6fSg+kfCoyGxtwqMiObTPq82+RCLKutsUL12ClIRkAFISkileugQAP77zDeWqVeD5xdMY+e2LfDTqLay17F6/ndotowkpHEKxiDAub1qLiHIlfRlSNsWjIjns1ffD+5IIi8p+0QyLiuDw3iQAbKaLY6lphEYUY/2cxZxIO86AJVN4aOH/sXDaVxxLOUrq/kMsmvYVDy98mQFLpnA8NY2tv6zxWwynxVQ2gpS92WMqUTYyzzYuT0xFIsIoVSUKay093h1K3y/HcvUDN2Rbrse7Qxm27FWOH01n7Zzf/R/Mv0B42ZI5jrEkwqOy7/PhUSVzHGNJhJf133FxoXLbB4ufZR887tkHS1aJAmvp/u5Q+nw5lhZe++C1j97Kr298xYlj/vma/0KUjCrJwb0Hs14f3HeQUlGl8rFH5y4Q+2DDDk3YsXYbJzNOnr3xeQovG8mhvdmvReE59jvvNq5MF+mpaRSNCMtl2aSsZY3DMGzOczy37A3W/7qG7Ss3Z7W7+/nePLtkGmWrlmfe21/7JS5/XYcBqjSowYivn+eht4dRvnrFrOm3jejJJ8+8h8v+Ax8p4rL5/1NAKQE/s9uBjzz//8jzugXwsbXWZa2NB+Z55l8O1AbmGmNWAsOBiuTCGHO/MWapMWbphtSt/uz/GZ2qHNS6Jppdf2xncOP7GR03mDtG96JwsVD++GU1a+atYOhnY7nv5UfYunwjLlfBPAGUj66Ky+Xipcb9mNRiAE3viyP8ktIULl6EGm0bMqnFI7zUuB8hoYWoc1Pz/O7uOXE4nVzW6HJmPTyFaV1GUbNdI6o0q5U1/+17xjO+cR+cIcHZpov4yql98OOHp/C61z4YVfMyIi8ty/pvl+Z3F+VvKl+9IrcMvYsZw17L766cF+uyjIsbwrCmD1KpXlXK17gka96MwVMZetUDxG/eQ0zHZvnYy3N36jq8c+02hjbvw+gOg/nx7a/pM20IAHVbN+BwYgo71+ZfriD+oZsw82CMiQRaA3WMMRZw4v5S6795LQKss9aedYCxtXYaMA3gvkq3nvHXs9i723HN7dcBsG3VZiLL/1XliIgqSXJ8Urb2yfFJ2arUEeVKcmi/u83hhBRKlA4nJSGZEqXDST14GIDmt7bim6nusE59ZRhVtQLbV21mzpTPmDPlMwDu/b+H2b9139nCO2+H45Mo7tX34uUiSY3P/vVwavwhipePJDU+CeN0UDisCOmHjlD7xmZsmb8a18lM0hIPs2vZRsrXrYK1luRdCaQlpQKw4ZslVGxYnTX//c1vcWSLaf8hSpTPHlPK/qRc2xyOT8LhiSntUCop8UlsX7yBtEPuvm+ct5LytSuzdcG6rGVPHj/B+rnLqNkmhi2/+veGqotVq7vbc/Xt1wKwfdWWHMdYJMnxidnaJ8cn5jjGIknen71NQZLbPnj4LPtgIc8+eDiPfTAj7RgV6lbh0V//D4fTQdGSJej10XCmd8u/sf43dL+B9re7x/1uXLWRUuX/qniXKleKg/EH81o03wVqH4yIiqTPa0N4c+AkEnbu91Hvc5e8P4mI8tmvRck59rtTbZI9+11oWBGOHkrNZdnI05ZNP5zGxoXrqNkymr0bd2VNty7L0tkLaPtAJxZ6HiZwoQJxHfYeQrN2/gqcY+6lWEQYVWOuIPq6GOq0qk9woRAKFwul18T+TB8wySex+V3BrNkVCKqA560LMMNae5m1tpK19hJgG5AE3OIZC14WiPW0/xMobYzJGpJijLngsuT8Gd9m3ZSx8rslNLm5JQBV6lcnPTUt66usU1ISkjmWmk4Vz40pTW5uycrvlgCw6vulNO3i7m7TLrGsnOuenrT3IFc0rwNAWKkSlK1SnoM792McDoqGFwOgwhWXUvGKS/njl1UXGlKe9q7aSmTlKMIvKY0j2Emtjk3YOHdZtjYbv19OvVuuAaBmXGO2e5LRw3sOUqlZTQCCQwtRoX51Dm7ZS8reRCrWr0ZQ4RAAKjWvxcHNp4+P9Jc9q7ZQslIUERVL4wx2UrdjUzbkiGn93GU0uOVqAGrFXZWVYG/6aTVRl19CcOEQHE4Hla66koRNuwkpUogwz5hDh9PB5a2jSdgSuJguNvNmfJN1jK34bjFNb44FznaMpWUdY01vjs06xgqinPtgnVz2wQ1zl1E/j32wrNc+WPmqKzmwaTeL3/ue567qy4stHub1W0eRuG1fvibfAF++8yX92vejX/t+LPx2Idfe4k5or6h/BUdTjxa4sd7eArEPhhYvwkNvDeOzZ99n87I//RFGNjtWbaFMpXKU9Ox3MR2bsXpu9m9MVs9dRpNbYgFoENeEPz373eq5S4np2IygkCBKVixNmUrl2L5yM8UiwwgtXgSA4ELBXNmiLvFb3Dcmlr6sbNZ6614XQ7wPz4mBuA4X9xpHXqleNYxxcORQKv997gOGNH2Qx1v0ZVr/ify5YO0/J/mWMzK2AN+8lZ+MMfOAZ62133hNewi4Ene1OxbY5fn/s9baucaYaOBloATubxdesta+fqb3OVsFPKc7RveiVstoMtIzeHvwFHascX8tNWLO84yOGwzAZXXcjz8KLhzC2vkr+dDzyLOi4cV4YMpAIsuXInFPAq/1nUhayhFKlImg5wt9KVEmAmPg66mf8/vnvxBUKJgnv3wOgGNH0njvidfZ9cf2c+rnpTbk74SVpVqrerQd4X4M4apZP/Hr5P/RcuAt7Fu9jY3fL8dZKJjOE3sTVesy0pOP8lm/SSTvSiC4SCE6vfAApatXAGNY9fFPLHztKwBaDriFmjc0wZWZSfy6HXz52OtknsfYx2Pm/I6VGrHRXO+Jafms+cyf8j+uHdCFPWu2suH75QQVCqbLhD6U98T0Uf9JHNrlfhRVvc7NadnnRrCWP+et5NvxH1K0VHHumT6YoJBgjMOwdeEfzHl6Bq7M8ys1PLXUv4nT4JHjWbJiNcnJhykZGU6fXndzS8d2fn3P3jFDznvZO0bfS+2W0e5HjA1+JesxbtmPsar8J+sYW5H1WMH67Rpz+1O9CIssTvrho+xcv52X7nF/vuN/fYXQYqE4g4NIO5zGxLufZt/m3X+rb1Gc33FVIzaauBF3ux9DOGs+P+WxD5bz7IMzc+yD13j2wY2efdBbeMVS3D198Hk/hnBZpn8S4z5j+hATG8Ox9GNMfHQim1a7b4ib/M1k+rV3PxXlP8P+Q6vOrYgsG0nS/iS++fAb3p/4vk/ev4Kz6Hkv64998Pp+txDX5yb2b//rW8yJdz9NauLhc+5X8N+s2dWKrc+tI7rjcDpYMGse30z5LzcM6MrONVtY/f0yggoF02NCPy6p5X785fT+L3HQs9+173sTzbq2wnXSxcdPv826+SupcMWldH+xL8bhwOEwLPtqIXNe/hRjDI9+PIrCxYpgDOxev4MPh7+Rrap8Jif/5h2b/rgOt7qnPbF3tSUzM5MTxzKY9fQ7bFm+Mdv71mhSk3b3dTrnxxC+vv1j87cC84Pk21rle5IZPnNevn8OuVECfh6MMcWstUeMMSWBxUBzz3jwv+3vJuD/FOebgBdk55uAF3T+TsDzw4Uk4AXZ+SbgBZm/EvD8diEJeEH1dxPwf4q/m4D/UxSEBPzQrbH5/uFGfDw/3z+H3GgM+Pn50hgTDoQAT59v8i0iIiIi/z5KwM+DtTY2v/sgIiIiUqDpJsw8XZzfJ4mIiIiIFFBKwEVEREREAkhDUERERETE52wB/kuU+U0VcBERERGRAFIFXERERER8Tzdh5kkVcBERERGRAFICLiIiIiISQBqCIiIiIiI+ZzUEJU+qgIuIiIiIBJAq4CIiIiLie6qA50kVcBERERGRAFICLiIiIiISQBqCIiIiIiI+p5sw86YKuIiIiIhIAKkCLiIiIiK+pwp4nlQBFxEREREJICXgIiIiIiIBpCEoIiIiIuJzugkzb6qAi4iIiIgEkBJwEREREZEA0hAUEREREfE5DUHJmyrgIiIiIiIBpAq4iIiIiPicKuB5UwVcRERERCSAlICLiIiIiASQhqCIiIiIiO9Zk989KLCUgOezIC7OnXOnycjvLsg56h0zJL+74HNTlz6X313wiz4xj+V3F3yusjMsv7vgFza/O+AHJy/KqC7e67AUbErARURERMTndBNm3jQGXEREREQkgJSAi4iIiIgEkIagiIiIiIjPWZfG1+dFFXARERERkQBSBVxEREREfE43YeZNFXARERERkQBSAi4iIiIiEkAagiIiIiIiPmf1lzDzpAq4iIiIiEgAqQIuIiIiIj6nmzDzpgq4iIiIiEgAKQEXEREREQkgDUEREREREZ/TX8LMmyrgIiIiIiIBpAq4iIiIiPictfndg4JLFXARERERkQBSAi4iIiIiEkAagiIiIiIiPqebMPOmCriIiIiISAApARcRERERCSANQRERERERn9MQlLypAi4iIiIi/0rGmPbGmD+NMZuNMUPP0O4WY4w1xsT44n1VARcRERERnyvozwE3xjiBKUAbYDewxBjzhbX2jxztwoCHgd999d6qgIuIiIjIv1FjYLO1dqu1NgP4CLgxl3ZPA88Cx3z1xkrARUREROSiZIy53xiz1Ovnfq/ZFYBdXq93e6Z5L98AuMRa+5Uv+6UhKCIiIiLicwXhJkxr7TRg2vksa4xxABOAHr7sE/wLEnBjTEngB8/LKCATSPC8buz5yqHAqtmyHl1H9MQ4Hfw28we+m/q/bPODQoLoPqEfl9auwtHkVN7o9xJJu93htevTmWZdW2MzXcwc9Rbrf151xnVe3rQWNz9xN0HBQexcu40ZQ6biynRlvddldasy+LMxTO//Eiu+9tkwKAC6jexJnVYNyEg/zluDprBz3bbT2lxauwo9X+hLSOEQ1sxbzkej3gKgSIliPDB5ACUrliZxdwKv9Z1A2uGj1GhSk77THiNx9wEAln/zO1++/Allq5TngckDstZb6pIy/G/iTH54c06Bjyk0rAi9JvYnskIpnE4n377+BQs+ng/ALUPvom7rBhiH4Y9fVmety59uH/kf6rSqT0Z6Bm8OmpxrjJdli3EFH456E4CGcU3p9EhXylWrwNgbH2fHmi0AFA0vRu+pg6hUtyoLPpnPByOn+z2O8zF83AR+/m0xkRHhfP7eq/ndnVz5Yx8sUrwoPZ7vQ+lLy3Li+AneHvIKeze6C0jP/DqFY0eOYV0uMk9mMrZTnvcznZeaLetxq+fcteAM58NLPOfD6TnOh00958NZnvNhmSrl6JXjXPDlxFnMe3MONwy8jXptYnBZy5GDKbw76BVSDhzyaTzecfn6PD/m18kcO3IMl8uF62Qm4zs9DkDHgbdRt00M1lpS/RwXBPbcDv7ZBwvCdbjN/R1p1PlqAJxOB1HVKjK4QS/SUo5ecHz/cnuAS7xeV/RMOyUMqA3MN8aAO4/8whjTyVq79ELe+KIfgmKtTbTWRltro4FXgYmnXvs6+fYM5vfd+hyGbqN7MbnHOEa3GUCjTs2JqpbtmxGadW1NWspRRsY+xI/Tv+KmoXcCEFWtAjEdm/F024FM6j6W25/uhXGYPNdpjOGeF/syvf//8XS7QSTuTqDJLS2z9eWmoXey/pdVvgwRgNqx9SlTuRxPxPZnxrDXuHPsfbm2u2vMfcx4/FWeiO1PmcrlqB0bDUCH3p1Zv2ANw1s9xPoFa+jQp3PWMpuXrGd03GBGxw3OOkHv37o3a9rTNzxGxrEMVny7+B8RU6u727Fv825GdxjM892eousT3XEGB1G1QQ2qxVzOU+0HMbLto1SqV40aTWr6NKac6nhiHBbbn3eHvcpdY+/Ptd1dY+7j3cdfZVhWjPUB2PvnTl558Hk2LV6frf2J4yf4/MWP+HjcDL/2/0J1jmvDqxPG5Hc38uSvfTCu783s+mMbozoM4s1HJ9FtZM9s63vx9qcYHTfY58m3cRhu85y7nm4zgJgznA+fyuV82LBjM8a0Hcjk7mPp5jkfHti6j2fihvBM3BDGe84Fqzzngu+nfcHYDoN5Jm4Ia35cTtzDXXwaj3dcvj7PnzLx9lGMixuSlXwDzPXENS5uCGv9GBcE/tx+ii/3wYJyHZ47bTbj4oYwLm4Inz/3IZt+/+MfkXxba/L95yyWANWNMZWNMSFAN+CLv/pvU6y1pay1lay1lYBFwAUn3/AvSMBzY4xpaIz5yRizzBjzrTGmnGf6fGPMs8aYxcaYjcaYqz3TexhjJnst/6UxJtbz/yPGmBeNMauApsaYuzzLrzTGvHYhSXml6Gok7Ijn4K4DZJ7IZOnsBdRr2yhbm3ptY1j06XwAls9ZxBXNanumN2Lp7AWczDhJ4u4EEnbEUym6Wp7rLBpRjMwTJzmwbR8AG35dTf0OV2W9T6seHVjx9e+kJh4+33DyFN22EYs++wmArSs2USSsKCVKh2drU6J0OIXDQtm6YhMAiz77iei2jd3Lt2nEwk/cn8HCT+YT3abxOb/3lc1rk7AjnqQ9By88EC/+isliKVQ0FIDCRQpzNPkIrpOZWCC4UAhBwUEEhwThDHJyOCHFpzHlFuPCz+Z7xVgkjxiLZMW48LP51Pfsw/u27GH/1r2nrTcj/Tibl27gxPEC/eUUMdF1KFE8LL+7kSd/7YPlqldkw4K1AMRv2UvJiqUJK1XC7/GcOncles5dy3I5H9b1Oh+umLOIy73Oh8tyOR96u6J5HQ56nQuOHUnPmleoSCGsnx7n4I/z/Jl4xxVSpJBfH1ORn+d2XylI1+FTGnVqzpIvfvNv4P8S1tqTQD/gW2A9MMtau84YM9oY08mf7/1vTMANMAnoYq1tCLwJjPWaH2StbQw8Aow8h/UVBX631tYDEoHbgOaeinsmcOf5djS8bCSH9iZmvT60L5HwspF5tnFlukhPTaNoRFguyyYRXjYyz3UeSUrF4XRyaZ0qANSPa0JEuVIAlCgbQb12jfn5ve/ON5QziigbSZJ3n+ITCY/KEWdUJIf2Ze93hOezKF66BCkJyQCkJCRTvPRfyUCVBjUY8fXzPPT2MMpXr3jaezfq2JzFfjiR+SumH9/5hnLVKvD84mmM/PZFPhr1FtZati7fyIaFa3lhyTSeX/w6635eRfyWPfhTeNmSOWJMIjyqZI4YS+aIMYnwstnbiH/4ax/cvX479du7k4JK9apRskJpIk5tdwuPzBjO8NnPcvXt1/k0ntzOXSXO8XxYIseyyZ7zobeGHZuzNMe5oNOgboxd8AqNbmzBlxNm+jSe3PoMvjnPgzuvfmjGEzw+ezwtbr8217ga39iC2X6KC/Lp3O7jfbCgXIdPCS4cQs2W0az4etEFxyZu1to51toa1tqq1tqxnmkjrLVf5NI21hfVb/gXjAHPRSHc43nmesbzOIF9XvM/8/y7DKh0DuvLBD71/P9aoCHu50gChAIHci7guQP3foBrIhtSM6zK343BL6Y/9BK3PtmdoJBg1v+yCpfLPf771hE9+Hz8+36rAPnaqX7uXLuNoc37cDztGLVj69Nn2hCGt3ooq50zOIh618Xw2XMf5FdXz9mpmGpdE82uP7bz4u2jKH1ZFAPfe5JRHdYTVrIE5apVZEiTBwEY8N6TVG90BZuWbMjPbstF5NQ++PXUz+k2sicj5jzP7g072bVuG9Zzrni2y5Mk708irGRxBrz3JPFb9pw2xKggcgY7qXtdQ/6X41zwxQsf8cULH9GuT2dadm/PVxM/zqce/n0vdHmSlP2HCCtZnIfeG078lr1s9mwL77hiu7fny39IXOdybv+n7oOn5HUdPqXudQ3ZsvTPf8TwEwDrOnubf6t/YwJugHXW2qZ5zD/u+TeTvz6fk2T/tqCw1/+PWWszvdb9jrX2cc7A+47c3pW65pnVJu9PIqL8X9XCiHIlSd6flGub5PgkHE4HoWFFOHooNZdlI7OWzWud25Zv4sWu7qL/lVfXpUzl8oD75stekx4GoGhEcWrH1seV6WLVd0vOFOYZxd7djms81YltqzYT6d2nKHc82eKMTyKiXPZ+H/L0+3BCCiVKh5OSkEyJ0uGkHnQPk/H+qnXt/BU4x9xLsYgwjhxKBaB2bDQ7124j9aBvhmoEIqbmt7bim6n/Bcj6CjOqagVqXFWTrSs2cjztWFa8VRrU8HkC3uru9lztqaZtX7UlR4yRJMcnZmufHJ+YI8ZIkvdnbyO+E6jj6u3Br2Qt88yvU0jYud+9Ps+yqYmHWfHtYirXq+az5Ce382HKOZ4PU3IsG+51PgSoFVufXWc4Fyz+/Bf6vvW4XxJwf53nU/a7b6xMTTzMym+XUKletawE3Duufm897tMEPL/P7b7eBwvKdfiUmI7NWfrFr+cdjxQc/8YhKMeB0saYpgDGmGBjTK2zLLMdiDbGOIwxl+B+cHtufgC6GGPKeNYdaYy57Hw7umPVFspUKkfJiqVxBjuJ6diM1XOzf/Oxeu4ymtwSC0CDuCb8uWCdZ/pSYjo2IygkiJIVS1OmUjm2r9x8xnWGlSwOuO/obvvgjfzyvnvIyZNX92N4C/fPiq8X8eGTb1xQ8g0wf8a3WTfQrPxuCU1udt9oUqV+ddJT07K+djwlJSGZY6npVKlfHYAmN7dkpacPq75fStMu7s+gaZdYVs51Ty/uNdawUr1qGOPISr4BGndqweLZvjuRBSKmpL0HuaJ5HQDCSpWgbJXyHNy5n6S9B6lxVU0cTgfOICc1rqrJvs2+H4Iyb8Y3WTGu+G4xTW+OPYcY07JibHpzbFaM4nuB2AdDixfBGeyuTVzd7Vo2/b6eY0fSCQktRKGi7tpESGghal5djz0bd+ErOc9dDc9yPqyf43zYMJfz4SkxnZqzZHb24SelK0Vl/b9em0bEbzn9fgV/xOWL83zObXHl1XXZu3FnQOLKz3O7P/bBgnIdBigcFkr1q2qyaq5PRkAEhMuafP8pqP6NFXAX0AV42RhTAvdn8BKw7gzL/AZsA/7APUh/eW6NrLV/GGOGA995nh15AugL7Divjma6+GjEm/R/9wkcTgcLZs1j36bd3DCgKzvXbGH198v4bdaP9JjQj1HzXyYt+QjT+78EwL5Nu1n25UJGzJ2A66SLj0ZMx7osFpvrOgHa3N+J2tc2wGEc/Pz+d/y58Ewfie+smbecOq3qM/anSWSkZ/D24ClZ80bMeZ7RcYMBeP/J1+n5Ql+CC4ewdv5K1s5fAcDXU//LA1MG0qJraxL3JPBa34kANOzQhNi72pKZmcmJYxm83n9i1npDQgtRs0Vd3ht2Xo8GzbeYvnz5E3q+0JeR37yIMfDp+Pc4ciiVZZ4bf5769kWshXU/rWT1D8v8Elv2GBsw7qfJ7keMeVVFvWN878k3+E9WjCtY44mxfrvG3P5UL8Iii/Pwm4+zc/12XrrH/VSR8b++QmixUJzBQUS3bczEu59m3+bdfo3n7xo8cjxLVqwmOfkw13a+iz697uaWju3yu1tZ/LUPlqtWkf+80BdrYe+mXbwzZCoAxUuVoM809zqdTie//+9X1v200mfxuDJdzBzxJv08566FXufDHWu2sOb7ZSzwnA+fyuV8uPzLhTyZ43wI7nPBFS3q8kGOc0Hnx+6kbJVyWJclac9BPnjCP+cKf5zni5cqwQPTBgHgcDpZ8r9f+eMn9xOsbvLE5fJzXBD4c7s/9sGCdB2ObteY9b+sIiP9eG5dlX8Y808Z13uxOtMQlH+yk1yUYV2U7EW4raYufS6/u+AXfWIey+8u+FwwBbdCdSEuvqPq4j2vB12k++DU7bPyPbCNV7bP952mxvpv8v1zyM2/sQIuIiIiIn52Ds/h/tf6N44BFxERERHJN6qAi4iIiIjPWZcq4HlRBVxEREREJICUgIuIiIiIBJCGoIiIiIiIz+lBe3lTBVxEREREJICUgIuIiIiIBJCGoIiIiIiIz+kpKHlTBVxEREREJIBUARcRERERn3PpL2HmSRVwEREREZEAUgIuIiIiIhJAGoIiIiIiIj5nNQQlT6qAi4iIiIgEkCrgIiIiIuJz+kuYeVMFXEREREQkgJSAi4iIiIgEkIagiIiIiIjP6TngeVMFXEREREQkgFQBFxERERGf02MI86YKuIiIiIhIACkBFxEREREJIA1BERERERGf03PA86YKuIiIiIhIAKkCLiIiIiI+p8cQ5k0VcBERERGRAFICLiIiIiISQBqCks8u1i9nnrn8QH53weee+jMqv7vgF+E487sLPtcn5rH87oJfvLL02fzugs+Flr86v7vgF/eUb5rfXfC5i7ViZy7aK3H+03PA83axHk8iIiIiIgWSKuAiIiIi4nO6CTNvqoCLiIiIiASQEnARERERkQDSEBQRERER8Tn9Icy8qQIuIiIiIhJASsBFRERERAJIQ1BERERExOf0FJS8qQIuIiIiIhJAqoCLiIiIiM/pL2HmTRVwEREREZEAUgIuIiIiIhJAGoIiIiIiIj7nyu8OFGCqgIuIiIiIBJAq4CIiIiLicxbdhJkXVcBFRERERAJICbiIiIiISABpCIqIiIiI+JzL5ncPCi5VwEVEREREAkgVcBERERHxOZduwsyTKuAiIiIiIgGkBFxEREREJIA0BEVEREREfE7PAc+bKuAiIiIiIgGkCriIiIiI+JwrvztQgKkCLiIiIiISQErARUREREQC6KIZgmKMyQTWAAbIBPpZaxecZZkj1tpigeifr9VsWY9bR/TEOB0smPkD3039X7b5QSFBdJ/Qj0tqV+FocirT+71E0u4EANr16UzTrq2xmS5mjXqL9T+vokyVcvSaPCBr+VKXlOHLibOY9+acgMblLTimMUUf7I9xOjj29Vekz/og13YhLa6h+JNPk9zvfk5u+hOcTooNGEJQtRrgdHL8+29Jn/l+gHv/lytb1qPLiB44nA4WzPyRublsq7sn9OVSz7Z6s9//kbQ7gaLhxeg1dSCX1a3Kok/m8/HIt7KWefijERQvHcGJ4xkATL57LEcSDwc0ruot6xI34h4cTgfLZs7j56mzs813hgTRZUJvyteuTFryEWb2e5nk3QcBKHvFJdw47l4KFQvFuly8euOTnDx+ImvZO19/lMhLyzCp3WMBiaXbyJ7UadWAjPTjvDVoCjvXbTutzaW1q9Dzhb6EFA5hzbzlfDTKvT2KlCjGA5MHULJiaRJ3J/Ba3wmkHT5KkeJF6fF8H0pfWpYTx0/w9pBX2LtxFwDP/DqFY0eOYV0uMk9mMrbT0IDEeS6Gj5vAz78tJjIinM/fezW/u/O3TJwwmg7tW5OWnk6vXgNYsXLtaW2+mv0eUeXKEhTk5NdfF9P/oWG4XO4vyvv26Unv3j3IzMzk669/YOjjYwMdAgB3jPwPdVrVJyM9g+mDJue6P15Wuwq9XuhLcOEQ1sxbwQej3gQgJq4pNz7SlXLVKjDmxsfZvmYLAM7gILqPu59KdapireWDUW/x56J1AY3rdq+43jxDXH8dZyv40BNXw7imdPLENfbGx9nhiatkxdI8/f1LxG/dC8DWFZt474lpfovB19degNa9rqfZba3BWvb8uYsZg1/JOh92GtSN+nFNsC4XP783l/lvf+232PxBN2Hm7WKqgKdba6OttfWAx4Fn8rtD/mIchttG92Jyj3E83WYAMZ2aE1WtQrY2zbq2Ji3lKE/FPsSP07/ipqF3AhBVrQINOzZjTNuBTO4+lm5P98I4DAe27uOZuCE8EzeE8Tc8RsaxDFZ9uzg/wnNzOCjW9xEODx/Cofu6U6jVtTgvvey0ZiY0lNDOXTix/q8LSaFrWmGCg0l+sCfJ/e6jcFxHHGWjAtn7v/rnMHQd/R9e6fEMY9oMpGEu26pp19akpxxlVOzDzJs+hxuH3gHAieMn+PLFmfx33Ixc1/3OI5MYH/cY4+MeC3jybRyGjqN78m6P53i5zWDqdGpG6RxxNewaS3rKUSbGDmTB9K9pN/R2ABxOB7dO7MsXT0xnUtshTO82hswTJ7OWq9muERlpxwIWS+3Y+pSpXI4nYvszY9hr3Dn2vlzb3TXmPmY8/ipPxPanTOVy1I6NBqBD786sX7CG4a0eYv2CNXTo0xmAuL43s+uPbYzqMIg3H51Et5E9s63vxdufYnTc4AKVfAN0jmvDqxPG5Hc3/rYO7VtTvVplrqjZgt69H2PK5NwvAd3ueJCGMW2oF92a0qUj6dLlBgBiWzajU8d2NGjonvfihPz55aNObH3KVi7H47H9eWfYq9wz9v5c29095j7efvxVHo/tT9nK5agTWx+APX/uZMqDz7Nx8fps7Vt2uw6AEe0f5YW7RnPbE/dgTOCSozqe42xYbH/eHfYqd+UR111j7uPdx19lWNZx5o5r7587eeXB59mUIy6AhB37GR03mNFxg/2afPvj2luibASxPTrwbMehjGk3CIfDQUzHZgA0uTWWiHIlGX3tAEZfN5Cls3/zW2wSeBdTAu6tOHAIwBhTzBjzgzFmuTFmjTHmxpyN82pjjKlkjFlvjHndGLPOGPOdMSbUM6+aMeZ7Y8wqz3JVPdMHG2OWGGNWG2NG+SO4StHVSNgRT+KuA2SeyGTZ7AXUa9soW5u6bWNY9Ol8AFbMWcTlzWoDUK9tI5bNXsDJjJMk7k4gYUc8laKrZVv2iuZ1OLgjnqQ9B/3R/XMSdPmVZO7dgyt+H5w8yfH5PxLStMVp7Yp070XarA8gIyNrmrUWUzgUHE5MSCE4eRKbdjSQ3c9SKboaB3fsz9pWy2cvoG4u2+r3T38Csm+rjPTjbF36Jye8KsMFRcXoaiTu2M8hT1xrZi/kyrYNs7W5sm0MKz79BYB1c36niieualfXJX7DTuLX7wQgPfkI1mUBCClSiOb3xjF/0ucBiyW6bSMWfeb+/Leu2ESRsKKUKB2erU2J0uEUDgtl64pNACz67Cei2zZ2L9+mEQs/mQ/Awk/mE93GPb1c9YpsWOCuwMZv2UvJiqUJK1UiABFdmJjoOpQoHpbf3fjbOnZsx4z3PwHg98XLKRFegqioMqe1S009AkBQUBAhISFY967HAw/cw3PPTyHDcy5JSEgMTMdzqN+2EQs+mw+c2h+L5Lo/hoYVydofF3w2n/qe88q+LXuyqsHeylevyHrP/piaeJi0w2lUqlvVf4HkEN22EQvPIa7CXnEtzBHX/lziCiR/XXudTgfBhUNwOB2EhIaQsv8QANfc2ZY5L3+C9eykgS60+IKrAPwUVBdTAh5qjFlpjNkAvAE87Zl+DLjJWtsAaAW8aE7/tf9MbaoDU6y1tYBk4BbP9Pc90+sBzYB9xpi2nvaNgWigoTHmGl8HGl42kkN7/7o4HNqXSImykXm2cWW6SE9No2hEGCVyLJu8L4nwHMs27NicpV/k72/ajpKlcCUcyHrtOpiAo1SpbG2c1arjKF2GE4sXZZue8ct87LF0Ij/8jMj3ZpH2yUxsamogun2anJ+3e1tF5NnGe1udzV3P92bonGdp3/9m33b6HBQvG0GKV1yH9yVRPMd+5N3GlenieGoaRSLCKFklCqyl+7tD6fPlWFo8cEPWMtc+eiu/vvEVJ44dD0wgQETZSJK8t1F8Iv/P3n3HR1G0ARz/PQmEDklooahURaUTEBAloLQoiogoShVFpSkISkcQEEWxIKIgCoKN1woK0gRUivQqIiAdQksCAQKBZN4/dhMuIaHl7jZ3Pl8/+Zjb2717hpnbm8w+OxMclubzFBZKzKHU9Rhilzd/4QKcOBoLwImjseQvbHWy92/dTbWmdwBQqko5CpYoTEhYQesFDLwwbRCDZr3OXW3u9VTR/lNKFA9j/76LHbQD+w9Ronj6V75m//Q5hw5sIC7uFN9++xMA5cuXoV69Wiz7Yxa/LviG8BpVvBJ3WiFFC6Zqj9FR0RfbTfI+YQVTtcfoQ9GEFE29T1r7tu6m6r01CQgMoFDJIpSqVIbQYpc/xp2C05QrJiqa4DTlCk5TrphD0QRfoVxgpUwO+XkMfb8eRvmat7ov6DQ88d174nAMCybNYsSyCby2ciLxcWfY+vtGq1w3FaXG/XV5eeZrdJvSn8KlnLmSqzzDnzrgySkoFYCmwGd2J1qAUSKyEVgAlACKpjn2cvvsMsast39fA5QSkXxACWPM9wDGmLPGmDNAY/tnHbAWqIDVIfcZgdkDqXxvDdbOXnHlnZ0kQt4u3Tg98YNLnsp2y62YpCSiH29JdPvHyPVwawLCijkQpOdMeX4co5r25e1HhlK2ZgVqtXT733keExAYyE01b+F/z49nUqth3NakJmXq3k7YbTcRemNRts5d7XSImZI8WjVnwg/kzp+HIbPH0LBDM/Zt2YWxc41fbzWYEfe/zLsdR9KgfRPK1/Jcp0FdKvL+Jyh5Y3Vy5AiiYYM7AciWLZCQkGDq1mvOy/1G8OUXvpX/fiW/z/iVmKjjDJn1Om2GdmLHmm0pue++7MSRGF6q+yzD7+vLjFen8vS7z5Mzby6nw7pqufLnoXKjmgy5qxv973iGHLlzUqvFXQBkC8rO+XPnef2B/iz9ciHt3njO4WiVO/nNTZiujDHLRaQQUBiItP9fwxhzXkR2AznTHPLEZfZxHYpLBC73yRbgNWPMR5eLT0S6AF0A6ofW4LZ8Za6qXMliD0cTUvziqEBIsYKcOByd7j6xUdEEBAaQK19uTsfEcSLNscHFQol1Ofb2iGrs27yLuGMnrikmd0s6foyAwhcvHwcUKkzSsYspMZIrN4GlSlPgjXes50NDyTdsFHFDB5Cjwb2cX70SEhMxJ2K58Ndmst1cgYSoQ94uxiX/3lZdxaS7T9q6uvzrWq9x7vRZVs9cyk1VyrLyu9/cX4AMnDwcQwGXcuUvFsrJNG0weZ+Tdrly5MvNmZg4TkZFs3vl35yxy/jPovUUr1iahDNnKVG5DC/+8S4BgQHkKViAzl8NYvJj7s9HjmjXhLvtkeddG3YQ6lpHYVZduIqNiiakWOp6jLHLe/LoCQoUDubE0VgKFA4m7ph1mfjsqXim9L34B+Jrf4zn6N7D1uvZx8YdP8m6uSspXaVcurmt6vKee7YDnTtbObarV6+n5A3FU54rUbIYBw5GZXjsuXPnmDlrHs2bN2HBwt85sP8QP/xg3eC2avV6kpKSKFQolGPHojN8DXdp2K4pd7e5B4BdG3amao+hYaHERKVOh4mJOp6qPYYWCyXm8OVTZpISk/jq1Skpjwd8O5LD/3r2nNigXVPussu1O025QsJCiU1Trtg05QopFkrsFcp1IeECFxKstKI9m//l6N7DFC1dPOUmTXfyxHdvhXqVOL7vCKeirfPh+l/+pEyNm1n5w+/ERh1n/S9/WtvnrqTdmK5uL5On+f6feJ7jTyPgKUSkAhAIHAcKAEfsjnUD4NI7+a5unxTGmDhgv4i0sN8vh4jkBuYCT4pIXnt7CRG5JAnRGDPRGBNujAm/1s43wJ4NOylSqhgFSxYmMHsgNZrXZeP81KOGG+evofbDEQBUi6zNtmVb7O2rqdG8LtmCslGwZGGKlCrG7vU7Uo4Lf+BOVmWBGz0ubPubwBIlrZsns2UjR0RDElZcjMucOU106weJ6fAYMR0e48LWv4gbOoAL27eRdPQw2atWt3bMkZNsFW4jcd8eR8qxZ8NOCpcKS6mr6unU1ab5q7nj4fqAVVf/LLv8zAQBgQEpKSoB2QKp2LA6h+zZNbzlwIadFCwVRohdrkrN6/D3/DWp9vl7/hqqPWyN5NweeQf/2uXavmQjRW+5ISXnsfQdt3Jk+35WTl/AG3d04616zzPpkWEc33XII51vgMXT5qbctLV+3ipqt7T+/ctUK0983JmUlJJkJ47GcjYunjLVrAtatVvWZ/28VQBsWLCaOq0iAKjTKoL1863tufLnJjC7NcZx12P3sP3PrZw9FU9QrhzkyGP9fR+UKwe33VWFA16uP38x4cOphNdsTHjNxsycOZd2T7QC4I5a1Tl54iRRUUdS7Z8nT+6UvPDAwEAim93Dtm3W+e/HmXOJiLBufitfvgxBQUFe6XwD/DrtF16J7MsrkX1ZN28ldVtGAFZ7PJNBe4yPO5PSHuu2jGCd3R4zEpQziKBcOQC4rV5lEi8kcnDHfreXxdWiab+kfM7WzVtJHZdyZfw5u1iuOi0jUj5nGckbmh8JsLoyhW4oQpFSYRyz/9B1N09898YcPEapauXJnjMIgFvurETUjgMAbJi3ipvrWDnk5WvfxpFdzubAK/fypxHwXCKy3v5dgA7GmEQR+RyYJSKbgNXA3+kcezX7pNUO+EhEhgPngUeMMfNE5FZguZ1CfgpoCxzJ+GWuXVJiEl8P+YTunw0kIDCA5TMWcWj7fu7v1Zo9m3ayacEals34lY5ju/PK4vc4E3uKyT3eAeDQ9v2s/Wk5g+ePJelCEl8NmXzxBrhcOahQrzJfDPDcXeRXLSmRU+PfocCoNyEggLPzZpO4Zze52z/JhX/+JmFFxjNMxs/8gXwv9iN44hRAODdvDom7/vVa6K6SEpOYMeQTun02AAkMYMWMxURt3899vR5h76Z/7bpaRPux3Rm6+F1Ox57i0x7vphw/7I9x5Mybm2zZs1G5cU3GtxtJ9IFjdPtsAIHZAgkIDODvpZtY+uVCr5frpyFT6PBZP2sawhmLObL9APf0asWBTf/y94K1rJmxmFZju9Jr8VjiY0/zdY9xAJw9eZqlH8/m2ZkjwBj+WbSefxat92r8rjYtWkulBtUYuWQcCfEJTOk7PuW5IbPHMDyyLwCfD55EJ3vat82L17N58ToA5kz4nmfG96Ze64YcP3CUj7q9DUCxciV58s1uGAMHt+9j6ksTAMhfqABdJ1qvGRgYyJ8//sGWJeu9WOLL6zt0NKvWbSQ29iT3tGhL187teLh5E6fDuqLZcxbStGlDtm1dypn4eJ56qnfKc6tXzSO8ZmPy5MnN9999So4cQQQEBLB48TI+mmjNMvTplK/4eNJbrF+3kISE8zzZ+QVHyrFx0VoqN6jO6CXvkxB/jk9crqK8MnsMr9jtcfrgj3kyebq+xevYZLfH6k1q8fgrnckXmp/nP+nPvq27Gdt+BPkKFeDFqYNIMobYqGg+7v2eV8tlfc6qM8ou16cu5XL9nCWXy/qcXSxXtSa1aONSrr1bd/NO+xHcXOtWHuz9GIkXLmCSDNMHTuT0iVMeKYMnvnt3r9/Bujkr6P/z6yRdSGTflt388eUCAOZN+IFO7/SkYef7OHfmLNP7XfbiuvIxkpyvqJzRtVRrv6yA4bd4ZgTCSa9s888bYIIJdDoEtztM1ps5xh0+WP260yG4Xa7idzkdgke0L17H6RDczi8vmQNBflqyD3bPcHwS7p+LtnG8j3Pf4S8d/3dIj3+2OqWUUkoppbIof0pBUUoppZRSWURSlhx7zhp0BFwppZRSSikv0g64UkoppZRSXqQpKEoppZRSyu2S0ByUjOgIuFJKKaWUUl6kI+BKKaWUUsrtHJ+DMAvTEXCllFJKKaW8SDvgSimllFJKeZGmoCillFJKKbdLcjqALExHwJVSSimllPIiHQFXSimllFJulyQ6DWFGdARcKaWUUkopL9IOuFJKKaWUUl6kKShKKaWUUsrtdB7wjOkIuFJKKaWUUl6kI+BKKaWUUsrtdBrCjOkIuFJKKaWU+k8SkaYisk1EdohIv3Se7y0if4nIRhFZKCI3ueN9tQOulFJKKaX+c0QkEBgPNANuA9qIyG1pdlsHhBtjKgPfAG+44701BUUppZRSSrldUtafBrwWsMMY8y+AiHwFPAj8lbyDMWaRy/4rgLbueGMdAVdKKaWUUn5JRLqIyGqXny4uT5cA9rk83m9vy0hnYI474tIRcKWUUkop5XZJOD8EboyZCEzM7OuISFsgHKif6aDQDrhSSimllPpvOgDc4PK4pL0tFRG5FxgI1DfGnHPHG2sKilJKKaWU+i9aBZQXkdIiEgQ8Bsx03UFEqgEfAQ8YY4646411BFwppZRSSrldVl8J0xhzQUS6A3OBQOATY8wWERkOrDbGzATGAHmB/4kIwF5jzAOZfW/tgCullFJKqf8kY8xsYHaabUNcfr/XE++rKShKKaWUUkp5kY6AK6WUUkopt/OBecAdox1whwVkgSl6PKHj1rxOh+B2BQMuOB2CR+xMPOl0CG5XOjCf0yF4RK7idzkdgtvFH/zd6RA8omf4JSta+7w8BDodgkfE4Z/ndpW1aQdcKaWUUkq5XZLTAWRhmgOulFJKKaWUF2kHXCmllFJKKS/SFBSllFJKKeV2WX0ecCfpCLhSSimllFJepCPgSimllFLK7XQawozpCLhSSimllFJepB1wpZRSSimlvEhTUJRSSimllNvpPOAZ0xFwpZRSSimlvEhHwJVSSimllNvpCHjGdARcKaWUUkopL9IOuFJKKaWUUl6kKShKKaWUUsrtjM4DniEdAVdKKaWUUsqLdARcKaWUUkq5nd6EmTEdAVdKKaWUUsqLtAOulFJKKaWUF2kKilJKKaWUcjtNQcmYjoArpZRSSinlRdoBV0oppZRSyos0BUUppZRSSrmdcTqALExHwJVSSimllPIiHQFXSimllFJul6QrYWZIR8CVUkoppZTyIu2AK6WUUkop5UWagqKUUkoppdxO5wHP2DV3wEXEAGONMS/aj/sAeY0xr7gjIBHpAvS2H54Eehtj/rCfuwv4EDgPtAHWAtuAIOA3oKsx5rrqW0R2A+HGmGPXeFwpoK4x5ovred/rdWv9KrQa0pGAwACWff0r8yf8mOr5bEHZaDe2GzdWLMPp2Dg+6f4u0fuPkic4L50n9OamymVZ8c1i/jf005Rjmvd5lFot7yZ3gby8eHsHbxYnlS7DniG8QTjn4s/xzotvs3Pzzkv2KVupHL3e6kVQziBWL1rNxKEfAVD61tJ0G9WNnHlycWT/Ycb0HEP8qXjyBeej/4cDKF+lPAv/t4APh3zo1TI9MfRJqjSoTkJ8ApP6jGPPll2X7FOqYhmeerM7QTmD2LBoLZ8P+wSAR/u3p+q94SQmXODI3ig+7vs+Z06eAeCGCjfRcdQz5Mqbm6SkJIY9+DLnz533atnS8+ywZ6nZsCbn4s/xVu+30q3DDi914J6H7yFvgby0rNDSgSgtt9WvwiNDOiGBASz7eiHz0vksdRjbnRvsz9Lk7u8Qvf8oAE26tqBO64aYxCRmDPuUrb9toEiZYnR+v1fK8YVuKMJPb89g0Sezub/3o1RpFE6SMZw6doLP+nzAiSMxXi0vwNtjh9OsaUPOxMfTuXMv1q3ffMk+P8+aTlixomTLFsgff6ykR88BJCVZp9duXTvx3HMdSUxMZM6chfTrP9LbRbgmg0aN5belKwkNCeaH6d797F+N2+pXobXdBpdepg0mn88/TtMG69pt8Gu7DQKM+ON9zp46S1JSEkkXEhn9QH8A7nvhEeo9dg9x0ScB+PGNL9myeJ0XSwu31K/Cg0PaExAYwJ9fL2LRhJmpng8MykabsV0pWbE0Z2JPMa37u8Tsv/jVHFy8IH3nv8m8d75hyaSfvRo7wKNDO1GxQXUS4s8xpc949qVzPr+xYhk6vtmN7DmD2LxoLV8Ps75rcxfIy9Pv96JgycIc33+USd3Gcubk6ZTjbqpclpe/G8nHPd5h7ZwVhJYoxHMf9UUCAgjMFsiiqXP47fP5Xiur8pzrSUE5B7QUkULuDkZE7geeAeoZYyoAzwJfiEiYvcsTwGvGmKpAPLDT/r0ycBvQIs3reWOEvxTwuBfeJ4UECK2HP8kHHV9jRKPe1HjgTsLKlUi1T53WDYk/cZphEc+zaPJsHuxnhXj+3Hl+eutrvh817ZLX3bRwLWMeHOiVMmQkvEE4xUsVp8vdT/N+v3F0Hdkt3f26jezKuJffo8vdT1O8VHFqRNQAoMcbPZkyegrdG3dj+S/LefiZhwFIOJfA9Lem8cnIyV4rS7LKEdUJK12MlyK68+mACXQY2SXd/TqM6MKn/SfwUkR3wkoXo3JENQC2/LGBgY1fYFCz3kTtOsj9Xa3OakBgAM+8/TxTBn7EgMYv8NpjQ7hwPtFr5cpIzQY1KV66OJ3v6sx7L79H91Hd093vz/l/8nzz570cXWoSIDw6vDPvdxzFq416EZ7OZ6lu64acOXGaVyJ68uvkn3mo3xMAhJUrQY3mdRnRuDfvdxjJY692RgKEI/8e4rXIl3gt8iVG3/8yCWcT2DB3JQALJs5kZLO+vBb5Ept+XUvk8628XuZmTRtSvlxpKtxWj+eee5nx77+W7n6PPf4sNcIbUaVqQwoXDqVVq/sBiKhflweaN6F6Deu5t8ZmvQ5tWi0iG/Hh2BFOh5EuCRAes9vg8Ea9qHmZNjg0nTYY3rwurzbuzbgOI2ljt8Fkb7cZxqjIl1I638kWTv6ZUZEvMSryJa93viVAeGh4Jz7u+DpjGvWh2gN1KZqmvHe0bkD8idOMjujFb5Nnc1+/1F+xDwxqx9+L13sx6osqRlSjSOliDI7owfQBH/HEyKfT3e/xEU8zrf+HDI7oQZHSxbg9oioATZ9rwd/LNjGkQU/+XraJpl1bpBwjAQG07NeWv37fkLLtxJFYXm85kBGRfRndYgBNnmtBgSIhniyiWyVlgZ+s6no64BeAiUCvtE+IyBQRaeXy+JT9/wgRWSIiP4rIvyIyWkSeEJGVIrJJRMrah7wM9E0ehTbGrAWmAt1E5CmgNfCqiHzu+r7GmAvAMqCciHQUkZki8iuwUERCReQHEdkoIitEpLIdU0ERmSciW0TkY0Ds7aVEJGU4SET6iMgr9u/lRGSBiGwQkbV23KOBu0RkvYj0EpHb7XKtt9+z/HX8G19WqarlOLbnMMf3HSHxfCJrZy2jcuOaqfap3DicP79dAsC62Su4pW5FABLiz/Hv6m3pjpLuXredk0dj3R3uNbmjcW1+/fZXALat20ae/HkISXOyCSkSQq68udm2bhsAv377K7Wb1AGgROkSbP7Tqr51v6+jbuSdAJyLP8dfq/4i4az3R4erN67J0u+suti5bju58+WhQOHgVPsUKBxMzny52bluOwBLv1tC9ca1ANj8+waSEpPs4/8hJKwgABXvqsq+v3ezb+seAE7HnsIkOX+6qd24Ngu/XQjA3+v+Jm/+vJfUYfJzMQ6M/roqVbUcR/dEpXyW1sxaRpV0Pksrvl0MpP4sVWlckzWzlnEh4QLH9x/l6J4oSlUtl+rYCndW4tieKKIPWKN3Z0/FpzyXI3cOjPH+LLnNmzdh2uffAPDnyrUUCC5AWFiRS/aLizsFQLZs2QgKCiI51Geeac8bY8aTkJAAwNGjx70TeCaEV61Egfz5nA4jXclt8JjdBlen0waruLTBtbNXUMGlDa6+QhvMam6sWo7je6KItsu7ftZybm8cnmqf2xvXYPW3vwGwcfaflLfLaz0XTvS+Ixzevt+rcSer0rgmK+zz+a5128mVLw/505zP8xcOJle+XOyyz+crvltCVft8XqVRTZZ/sxiA5d8spkqjWinHNezYlHVzVhB3/GTKtsTzF7iQcAGwroQEiN665y+utybHA0+ISIFrOKYK1oj2rUA74GZjTC3gY6CHvc/twJo0x60GbjfGfAzMxOqgP+G6g4jkBu4BNtmbqgOtjDH1gWHAOmNMZWAA8Jm9z1DgD2PM7cD3wI1XUYbPgfHGmCpAXeAQ0A/43RhT1Rjztl3Gd+2R+XDA7WeJAkVDiTl48Usv5tBxChQNyXCfpMQk4uPOkCcka34BuSoYVpBjh46mPD4edYyCdofTdZ/jUcfT3WfvP3up3bg2APXuq0ehYm6/UHPNQoqGcvzgxcun0VHHUzrRKfuEFSTm0MUyRR86TkjR0Ete665H7mGTPWIVVqYYxkCfzwYz7KcxRD7zoIdKcG0KhhXkmEt5jx06RqEw5+shPcHpfpZCM9zH9bOU9nMYeyia4DTH1mh+J6tnLk217YE+jzFy2QfUfLAeP4392t1FuqISxcPYv+9gyuMD+w9RonhYuvvO/ulzDh3YQFzcKb799icAypcvQ716tVj2xyx+XfAN4TWqeCVuf5VeG0zbjjJqg5cee7ENGgM9pw2k/6zR1GtzT6rXi+jQhIFzxtDujefInT+Pp4qWrgJFQ4hN9blJ//srNk15c4fkIyh3Dho825x5737r1ZhdBRcNJdo1/qjjhISlrq+QsNBU53PXOs1fuEDKQNfJo7HkL1wg5XWrNrmDJdPnXfKeIcUKMnjOm4xe/iFzP/zBkbQ15X7X1QE3xpzE6sj2vIbDVhljDhljzgE7geRWtgkrjeN6lBWR9cBS4GdjzBx7+3xjTLT9ez1gmh33r0BBEckP3A1Mt7f/DFy2RYtIPqCEMeZ7+5izxpgz6ey6HBggIi8DNxlj4tPZR3nIu33fIbL9fbzz87vkypuLC+cvOB2S2zTv9jBJiYks+8EaGQoMDOTmmhX48Pl3GNlqIDWa3MFtdSs5HKVKFpg9kMr31mDt7BWpts988ysG1u3Kqh//oH6Hpg5Fd3Ui73+CkjdWJ0eOIBo2sK4mZcsWSEhIMHXrNeflfiP48ousn4LyX/Rmq8G8dn8/3u84ivrtm1Cu1q0A/DZ9HoPv7sGoyJc4cSSGhwe1dzjSq9f4hVb8PnkOCWfOOR2K2yRfBWs9pCPfjZ6e7lWxmEPHebVZHwbV70HthyPIV+haxj6dZbLAT1aVmRzpd7BugvzUZdsF7E69iARg3RyZzPUTk+TyOMkljr+AGsCvLvvWALZkEENyDnhap9PZdrVSymDLeS0HG2O+EJE/gfuA2SLyjN3xT2HfaNoFICK0BrfnK5vOK2XsxOFoQopfHEENKVaQE4dj0t0nNiqagMAAcuXLzemYuGt6H2+5r/19NGljdUS2b/yHQsUKpzxXMKxQqtFugONRx1ONirvus3/nfoa0HQxA8dLFqdkw9aVcb7mnXVPqt7kXgF0bdlCweCG228+FhhUkJk2ZYqKOE1LsYplCixUk5nB0yuN6rRpQ9Z4avP74KynboqOOs23lX5yy63XDorXcVLEMfy3bhLfd3+F+mtp1+M+GfyhU/OKId6FihTgWdU33NntNbLqfpeh090n7WUr7OQwuFkqsy7G3R1Rj3+ZdxB07ke57r/zhd7p92p+f3/6fm0t1qeee7UDnztaFw9Wr11PyhuIpz5UoWYwDB6MyPPbcuXPMnDWP5s2bsGDh7xzYf4gffrDGOlatXk9SUhKFCoVy7Fh0hq+hMpZeG4y9yjZ46bEX22Dyd0Lc8ZOsn7uKUlXKsWPl1lTt8Y+vFtJt8sueLN4lThyOITjV5yb976/g4gU54VLeMzFx3Fi1HJUj7+C+/o+TK39uTJLhwrnzLP3s0lFjd4po14R69vl894YdhBYvSPJt5cFhBYmJSl1fMVHRqc7nrnV68ugJ8hcOtke/g4k7ZqWb3FS5LE+NewGAvCH5qRhRjcTERDbMW5XyOieOxHDwn72Ur3kra+ek/sNe+Z7rTiayR5hnAJ1dNu/G6jADPABkv8aXfQN4XUQKAohIVaAj8MH1xgn8jnXzJiISARyzR/B/w755UkSaAcnXwA4DRewc8RzA/QDGmDhgv4i0sI/JYae+xAEpuR0iUgb41xjzHvAj1g2iqRhjJhpjwo0x4dfa+QbYs2EnhUuFUbBkYQKzB1K9eV02zl+dap9N81dzx8P1AagWWZt/lmX0N4zzfv7sZ3o260HPZj1YPncFDR9uCMAt1W7hTNzpS/KEY47EEH/qDLdUuwWAhg835M951smoQEFrZEBEeKznY8yZPgcnLJz2C0Mi+zAksg9r563kzpZWXZStVp74uDOcSJNrf+JoLGfjzlC2mnXLwJ0t67PWPvFWql+VyGce5J2nRpNwNiHlmE1L1lPylpsIyhlEQGAAFe64nYPb93mngGn8NPUnujftTvem3Vk+dzn3PGxd8q5QrQKn06nDrGLPhp0UKVUs5bNUI53P0sb5a6j9cARgfZa22Z+ljfNXU6N5XbIFZaNgycIUKVWM3et3pBwX/sCdrJqVOv2kcKmLqR5VGtUkaudBvGHCh1MJr9mY8JqNmTlzLu2esG7VuaNWdU6eOElU1JFU++fJkzslLzwwMJDIZvewbZtVth9nziUioi5gpaMEBQVp5zsT0rbB8Cu0wepp2mB4Om0wKFcOcuSxxo6CcuXg1rsqc/CfvQCp8pWrNqnFwX+8e87Yt2EnhUqFEWqXt2rzOmyZnzrzdMv8NYQ/fDcAlSPvYIdd3g9aD2NUvZ6MqteT3z+Zw8LxP3i88w2weNpcRkT2ZURkX9bPW0Vt+3xe2j6fp7136uTRWOLj4iltn89rt6yf0pHeuGA1dVpFAFCnVQQb5lvbB97VjYH1rJ+1c1bw5eCP2TBvFcFhoWTPYY1l5s6fh3LhFYj61zvnDXdIEud/sqrMzhLyFuA6xcEk4EcR2QD8wjWORBtjZopICWCZPd1hHNDWGHMoEzG+AnwiIhuBM0Dy/HrDgC9FZAvWDZx77RjOi8hwYCVwAPjb5bXaAR/Zz58HHgE2Aol2macAOYB2InIeiAJGZSL2dCUlJjFjyCd0+2wAEhjAihmLidq+n/t6PcLeTf+yacEals1YRPux3Rm6+F1Ox57i0x7vphw/7I9x5Mybm2zZs1G5cU3GtxtJ1I4DPNjvCcIfvJPsuYJ4dfkHLP/6V2a/8427w7+s1b+uIrxBOJN+/9iahrDP2ynPvTdnHD2bWbcLfDDoA3sawhysWbSa1YusL6z6D9bnvvbWbA3LflnG/BkXp2uavPQTcuezyl27SR0Gtx3EPi90WDcsWkvlBtUZs2Q85+LP8XHf8SnPDZ/9JkMi+wAwdfAknranIdy4eB0bF68FoN2wp8gWlJ2+04cA1o2YUwdO5MzJ08z9eBavzHwDYwwbFq1lw6K1Hi/Plaz6dRU1G9bkkz8+4Wz8Wd5+8WIdvv/L+3Rvap0ynhzwJA1aNCBHrhxMWzmNX778hc/f/jyjl/WIpMQkvh7yCd0/G0hAYADLZyzi0Pb93N+rNXs27bQ/S7/ScWx3Xln8HmdiTzG5xzsAHNq+n7U/LWfw/LEkXUjiqyGTMUnWBc+gXDmoUK8yXwyYmOr9Wrz8BEXLFMMkGaIPHOOLgRPThuRxs+cspGnThmzbupQz8fE89VTvlOdWr5pHeM3G5MmTm++/+5QcOYIICAhg8eJlfDTRmjnp0ylf8fGkt1i/biEJCed5svMLXi/Dteo7dDSr1m0kNvYk97RoS9fO7Xi4eROnwwKsNvjVkE/oYbfBZS5tcO+mnWxcsIaldhsclk4bXPPTcoakaYP5CxXgmYnWeSUgMJBVP/7BX0usmTVa9m9LydtKYYwhev9RPh/g3TaYlJjE90Om8PRn/ZHAAFbNWMzh7ftp0qsV+zbt4q8Fa1g5YzFtxnal3+K3ORN7iuk9xnk1xsvZvGgtlRpUY8SScSTEJzDV5Xw+aPYYRkT2BeDLwZPo8GY3gnIGsXnxejbb9+78MuF7uozvzZ2tGxJ94CgTu72d7vskK1auJK0GtsdgEIT5k2ZxcNtezxVQeY04cRe+uqh7qUf9sgJ2J51yOgS3KxhwTdlIPuNIYnq3Mvi20oFZ/4bj6zHx4NIr7+Rj4g/+7nQIHtEzvJ/TIbhdHgKdDsEj4vCfe4VcfbT7f46P/75xU1vH+zgv7Znu+L9DenQlTKWUUkop5XbOT4ybdemEkkoppZRSSnmRjoArpZRSSim3czz/JAvTEXCllFJKKaW8SDvgSimllFJKeZGmoCillFJKKbdL0iSUDOkIuFJKKaWUUl6kI+BKKaWUUsrtdBrCjOkIuFJKKaWUUl6kHXCllFJKKaW8SFNQlFJKKaWU2+ktmBnTEXCllFJKKaW8SDvgSimllFJKeZGmoCillFJKKbfTWVAypiPgSimllFJKeZGOgCullFJKKbdLEqcjyLp0BFwppZRSSikv0g64UkoppZRSXqQpKEoppZRSyu2SdCbwDOkIuFJKKaWUUl6kI+BKKaWUUsrtdPw7YzoCrpRSSimllBdpB1wppZRSSikv0hQUpZRSSinldroSZsZ0BFwppZRSSikv0hFwpZRSSinldjoNYcZ0BFwppZRSSikv0g64UkoppZRSXqQpKA4776e3KIQF5HI6BLcTxOkQPKJEYB6nQ3A7f73o2b54HadDcLue4f2cDsEj3ls92ukQ3K5LeF+nQ/CInAQ6HYLf8tdzsTvoCLhSSimllFJepCPgSimllFLK7fzzGr976Ai4UkoppZRSXqQdcKWUUkoppbxIU1CUUkoppZTb6TzgGdMRcKWUUkoppbxIR8CVUkoppZTb6fh3xnQEXCmllFJKKS/SDrhSSimllFJepCkoSimllFLK7XQe8IzpCLhSSimllFJepB1wpZRSSimlvEhTUJRSSimllNsZnQclQzoCrpRSSimllBfpCLhSSimllHI7vQkzYzoCrpRSSimllBdpB1wppZRSSikv0hQUpZRSSinldkl6E2aGdARcKaWUUkr9J4lIUxHZJiI7RKRfOs/nEJGv7ef/FJFS7nhf7YArpZRSSim3M1ng53JEJBAYDzQDbgPaiMhtaXbrDMQYY8oBbwOvX/M/RDq0A66UUkoppf6LagE7jDH/GmMSgK+AB9Ps8yAw1f79G+AeEZHMvrF2wJVSSiml1H9RCWCfy+P99rZ09zHGXABOAAUz+8Z6E6ZSSimllHK7rHATpoh0Abq4bJpojJnoVDzJtAOulFJKKaX8kt3ZzqjDfQC4weVxSXtbevvsF5FsQAHgeGbj0hQUpZRSSinldklZ4OcKVgHlRaS0iAQBjwEz0+wzE+hg/94K+NUYk+mhfR0BV0oppZRS/znGmAsi0h2YCwQCnxhjtojIcGC1MWYmMBmYJiI7gGisTnqmaQdcKaWUUkr9JxljZgOz02wb4vL7WeARd79vluyAi8gpY0xel8cdgXBjTPfreK2bgXeA8kAcsAPoYYw5nJl9r/K9pwA/GWO+uZ7j0/Po0E5UbFCdhPhzTOkznn1bdl2yz40Vy9DxzW5kzxnE5kVr+XrYpwDkLpCXp9/vRcGShTm+/yiTuo3lzMnT1HqwHk2ebYGIcPZ0PF8MmsT+rXsAuKfzfdR79B6MMRzYtpepfT/gwrnz7ipOutoMfZJKDaqREJ/AJ33eZ286ZbypYhk6vdmNoJxBbFq0ji+HfQJAjcg6PPBCa4qVK8HIB/uzZ9NOAG6rV5mHX36CwOzZSDx/gf+Nmsbfyzd7tByPDe1EJbuuPu0zPt1y3JiqHGv5yqWunnGpq4/sugK4ufZtPDakE4HZAomLiePNR4emvJ4EBDBo1mhio6IZ13m0R8sH/lFXt9WvQushnZDAAJZ+vZB5E35M9Xy2oGx0GNudGyuW4XRsHB93f4fo/UcBaNK1BXVbN8QkJvH1sE/Z+tsGAEb88T5nT50lKSmJpAuJjH6gPwDNez9K5UbhGGOIO3aCz/p8wIkjMR4rm6vHXepq8mXqqrN97ti0aB1f2HUVHlmHB+26GvFgf3bbdRWYPRsdRnWhVKWyGGP4YtinbFuxxWNl8GZd3ffCI9R77B7iok8C8OMbX7Jl8TqPle16DBo1lt+WriQ0JJgfpn/odDhX9PjQJ6ncoLrdBsexJ4M2+NSb3cmeM4iNi9amtMHW/dtT9d5wLiRc4MjeKCb3fZ/4k2fIE5yXbhP6UrpyWZZ+s5jpQz/2aBk80QYBJEDob5+7P+iceprp1kM7Uad1A3rd3t6jZfMEkwVuwsyq/DoHXERyAj8DE4wx5Y0x1YEPgMJp9st2tfte5r08/sdMxYhqFCldjMERPZg+4COeGPl0uvs9PuJppvX/kMERPShSuhi3R1QFoOlzLfh72SaGNOjJ38s20bRrCwCO7TvCW48OZXjTF/l53De0fe0ZAIKLhtKwYySjmvdjeJMXCQgIoGbzOz1axkp2GQdE9OCzAR/SdmSXdPdrO+JpPuv/IQPsMlaMqAbAwW17+eDZMWxfuTXV/nExcbzXeTSvNH2RyS++T+e3e3i0HMl1NTCiB9MuU1dt7boamFKOqgA0e64FW5dtYlCDnmxdtolmdl3lyp+bJ159mvefep2hjXvzUde3Ur3evZ0iObQj7f0jnuEPdSUBwmPDO/N+x1EMb9SLmg/cSVi51DNQ1W3dkDMnTjM0oie/Tv6Zh/o9AUBYuRKEN6/Lq417M67DSNq82hkJuDg17NtthjEq8qWUDh3A/IkzGdmsL6MiX2Lzr2uJfL6Vx8rmqlJENYqWLkb/iB5MHfAh7TOoq3YjnmZK/w/pH9GDoqWLUcmuqwPb9jL+2TH8k6au6j92LwBDmr7Im22H8+jA9rhhetx0ebuuABZO/plRkS8xKvKlLNf5BmgR2YgPx45wOoyrUjmiOkVLF6NfRHemDJhAuwzaYPsRXfi0/wT6RXRP1Qa3/LGBQY1fYEiz3hzedZD7u7YE4Py583z/1pd8Peozj5fBk22wYadIotI5d99YqQy5C+TxbMGUI3yuAy4ize2lQNeJyAIRKWpvry8i6+2fdSKSD3gcWG6MmZV8vDFmsTFms4h0FJGZIvIrsPAK+5YSkd9FZK39U9d+zwh7+0zgL7G8by9pugAo4s6yV2lckxXfLQFg17rt5MqXh/yFg1Ptk79wMLny5WLXuu0ArPhuCVUb17KOb1ST5d8sBmD5N4up0sja/u/af1JGV3et3U5w2MXpLQMCA8ieM4iAwACCcuUg9nC0O4t0iaqNa7L8OyvGf9dtJ3e+3BRIU8YChYPJmS83/9plXP7dYqo1rgnAoZ0HOPzvwUted9+WXSkjjQf/2UdQziCyBXnub6aqLnVllSNPBuXIlVIO17qqmqauqtp1dccD9Vj3y59EHzwGQNzxkymvFxIWSqWG1fnjq4UeK5crf6irUlXLcXRPFMf2HSHxfCKrZy2jih1fsiqNw1nx7WIA1s5eQYW6Fe3tNVk9axkXEi5wfP9Rju6JolTVcpd9v7On4lN+D8qdAzJ/H89Vqda4Jsuuoq5yudTVsjR1FZVOXRUvX5Kty6yrE3HHT3Lm5BlKVS7rkTJ4u658QXjVShTIn8/pMK6K1QavfE5M3QaXUN0+J275fQNJidYtdTvX/UOI/T2VEH+O7av/5ryHr8yC59pgcFgoFRtWZ2mac7cECC0HtOW716Z7vGye4vQNmFdxE6ZjsmoHPJdLZ3o9MNzluT+A2saYalgrFr1kb+8DdDPGVAXuAuKBisCay7xPdaCVMab+FfY9AjSyR8UfBd5L8xrPG2NuBh4CbsFazrQ9UPfqint1gouGEn3w4sw3sVHHCQkLTbVPSFgoMYcu7hNz6DjBRa198hcuwMmjsQCcPBpL/sIFLnmPOx9tmDLSE3s4mvmTZvHasgm8sXIS8XFn2Pr7RncW6RLBRQumKmNMVHSqPwgAgsMKpiljNMFFr35O/BrNarNn8y4uJFzIfMAZCElTVzFRxwlOU1fB6dRViEtdnbDr6oRLXRUtU5zcBfLQ56tXGDTrdeq0vDvl+EeHdOKb16aTZLxzyvGHugouGkrMwfQ/L+ntk5SYRHzcGfKE5Evn2OiUY42BntMG0n/WaOq1uSfV6z3Q5zFGLvuAWg/WY9bYrz1SrrRC0tRVdFR0SgcmZZ80dRV9KJqQK9TVvq27qXpvTQICAyhUsgilKpUhtFim16dIlxN1FdGhCQPnjKHdG8+RO7+OQmaG9f11LOVxTNTxdNtgdKo2eGkdA9z1yD1scuCKhKfa4CNDOvL9a9NJSvMHeUSHpmxcsCble1v5lyyZAw7E2x1p4GIOuP2wJPC1iBQDgoDkJLKlwFgR+Rz4zhiz/youhc43xlzNkG524H0RqQokAje7PLfSGJMcw93Al8aYROCgPbqeZaWdRefmOrdz56MNGdNqMAC58+ehSqOaDLyrG2dOnuaZD3pzR4u7+POH350I1y2Kly/Jw/3a8na7V50O5Zok11VAYCA3VSrDW48PJyhnEP2+G8m/67ZTtHQxTh4/wd7N/3Jz7dscjtY9fLWuAN5sNZgTh2PIVzA/PacPImrnQXbY6Rsz3/yKmW9+RZOuLYjo0JSf3v6fw9Fev99n/EqxciUZMut1jh84xo4120hKyspjTpfKqK5+mz6P2e99Awaav/goDw9qz7SXJjgd7n/e/d0eJjExkeU//OZ0KG5RsWF14o6fYO/mXZR3OXcXKBJC9cg6vP3YK84Fpzwqq3bAL2ccMNYYM1NEIoBXAIwxo0XkZyASWCoiTYAtQP3LvNZpl98vt28v4DBQBeuqwdkMXuOquK7KdFdodW7NVybDfSPaNaFeGyvPcveGHYQWL8hO+7ngsILERKX++yEmKpoQlxGokGIFU9JGTh49Qf7CwfbodzBxxy6mL5SocCPtRz/Lex1HcTr2FAAV6lXi2L4jnLJvQlr3y5+UqXGL2zvgDdo15S575Gn3hp2EFneJPyyU2KjU893HRh1PU8ZQYg9feU78kLBQun70Ep/0HsfRvdd1X+1lRbRrwt12Xe2y6+riexckNk1dxaZTVzEudVWgcDAnjsZSwKWuYqKOczo2joT4c9al15VbKXnrTdxYsQxV7w2nUoNqZM8RRM68uej8dg8m9xrn1jL6S12lxHc4mpDi6X9e0u4TGxVNQGAAufLl5nRMXDrHhqYce+KwlUITd/wk6+euolSVcikd8GQrf/id7p/291gHvGG7ptxt19WuNHUVGhZKTJq6iklTV6HFQom5Ql0lJSbx1atTUh4P+HYkh/895IboL+Xtuoo7diJl/z++Wki3yS97pFz+rGG7ptRPdU4slPJcSFjBdNtgaKo2mLqO72zVgCr31GDM4694NvAMeKINVr43nMr3hlOxQTWy5QgiV95cdHy7B6tn/kHhUmEMX2JdcA/KFcSwxe8xNKKndwrrJnoTZsayagrK5RTg4ipFyROjIyJljTGbjDGvY02sXgH4AqgrIve57He3iFRM53Uvt28B4JAxJglohzVXZHp+Ax4VkUB7hL5BejsZYyYaY8KNMeGX63wDLJ42lxGRfRkR2Zf181ZRu6X1N0LpauWJjztzyaWpk0djiY+Lp3S18gDUblmfDfNWAbBxwWrqtIoAoE6rCDbMt7aHFC/Esx/25ZNe4ziy6+KXZ/TBY5SpVp7sOYMAqHBnJaJ27L9svNdj0bRfGB7Zl+GRfVk3byV1WloxlrHLeCJNGU8cjeVs3BnK2GWs0zKC9XYZM5Irf256fjqA717/nB1rtrm9DGDVVXI5XOvq8uWITylH7Zb1U8qxIU1drbfrav28VZQLr2Dl5OcMonTVchzacYDv3/iCl+o8S/963ZjY4222Ldvs9s43+E9dJduzYSdFShWjYMnCBGYPJLx5XTbOX51qn43z11D74QgAqkfWZtuyLfb21YQ3r0u2oGwULFmYIqWKsXv9DoJy5SBHnpwABOXKwa13VebgP3sBKFwqLOV1qzSqSdTOS/Oq3eXXab/wSmRfXrHrqq5LXZ3JoK7iXeqqbssI1l2hroJyBhGUKwdgzV6TeCGRgx44R4D368r1/pqqTWpx8J99HimXP/t12i8MjezD0Mg+rJ23krpXcU5M3Qbrp7TBivWr0uyZB3nvqdEknE3wajmSeaIN/vjGlwyo8xyD6nVnco932LZsM1N6jWPzonX0q9mFQfW6M6hedxLiE3yu860uzxdHwF8B/iciMcCvQGl7+wsi0gAr534LMMcYc05E7gfeEZF3gPPARuD5tC9qjIm/zL4fAN+KSHvgFzIe9f4eaAj8BewFlme6tC42L1pLpQbVGLFkHAnxCUztOz7luUGzxzAisi8AXw6eRAd72rfNi9ez2c6V+2XC93QZ35s7Wzck+sBRJnZ7G4D7e7YiT0heHh9hzdSRdCGRUQ/0Y/f6Hayds4JBP79B4oVE9m3Zze9fLnBnkS6xadFaKjWozqgl71vT9/X9IOW5IbPHMNwu4/TBH/Nk8lSLi9el5ANWa1KLNq90Jl9ofp7/pD97t+7mnfYjaNi+GUVuCuP+51txvz3zxNvtXk11E6P7y1GNkXZdTXGpK9dyfD54Ep1SynGxruZM+J5nxvemXuuGHD9wlI/suoraeYDNS9Yz9Je3MElJ/P71Qsc6Bv5QV0mJSXw15BN6fDaQgMAAls1YxKHt+7m/V2v2btrJxgVrWDrjVzqO7c6wxe9xJvYUk3u8A8Ch7ftZ89NyhswfS9KFJL4aMhmTZMhfqADPTOwDWClDq378g7+WWNONPfTyExQtU4ykJEP0gWN8MTCj1ZHda+OitVRuUJ3Rdl194lJXr8wewytp6iooZxCbXOqqepNaPO5SV/u27mZs+xHkK1SAF6cOIskYYqOi+bj3e+m+vzt4u65a9m9LydtKYYwhev9RPh/gnbq6Fn2HjmbVuo3Exp7knhZt6dq5HQ83b+J0WOlKboOvLxlPQvw5JrucE4fNfpOhkVY9TBs8ic5vdk9pgxsXrwWg7bCnyB6UnT7TremZd677h8/sz8+YPyaQM28usmXPRrXGtXir3XCP/CHoiTao/rvEDatpqkx4ptQjflkBiX542UnwzPRqTvPHS4TZffLi3pWdy9L39F+fHH5aV++t9vw8/N7WJbyv0yF4RM4ML2r7tgm7Zzj+pdWh1MOOf8FM3f2t4/8O6fHPM59SSimllFJZlC+moCillFJKqSwu7dSK6iIdAVdKKaWUUsqLtAOulFJKKaWUF2kKilJKKaWUcjtNQMmYjoArpZRSSinlRToCrpRSSiml3C5Jx8AzpCPgSimllFJKeZF2wJVSSimllPIiTUFRSimllFJu548rLbuLjoArpZRSSinlRToCrpRSSiml3C7J6QCyMB0BV0oppZRSyou0A66UUkoppZQXaQqKUkoppZRyO50HPGM6Aq6UUkoppZQX6Qi4UkoppZRyO52GMGM6Aq6UUkoppZQXaQdcKaWUUkopL9IUFKWUUkop5XY6D3jGdARcKaWUUkopL9IRcKWUUkop5XbG6E2YGdERcKWUUkoppbxIO+BKKaWUUkp5kaagKKWUUkopt9OVMDOmI+BKKaWUUkp5kXbAlVJKKaWU8iJNQVFKKaWUUm6n84BnTEfAlVJKKaWU8iIdAXdYdj/9G+gsF5wOwe2SjH/+LZ9X/O80cMFPb/zxx7NFHgKdDsEjuoT3dToEt5u4eozTIXhE1/CXnQ7Bbxk/PRe7gz+ez5VSSimllMqytAOulFJKKaWUF/nftWellFJKKeU4nQc8YzoCrpRSSimllBfpCLhSSimllHI7Y3QEPCM6Aq6UUkoppZQXaQdcKaWUUkopL9IUFKWUUkop5Xb+uXqGe+gIuFJKKaWUUl6kI+BKKaWUUsrtdCXMjOkIuFJKKaWUUl6kHXCllFJKKaW8SFNQlFJKKaWU2+lKmBnTEXCllFJKKaW8SEfAlVJKKaWU2+lKmBnTEXCllFJKKaW8SDvgSimllFJKeZGmoCillFJKKbfTmzAzpiPgSimllFJKeZGOgCullFJKKbfTlTAzpiPgSimllFJKeZF2wJVSSimllPIiTUFRSimllFJul6TzgGdIR8CVUkoppZTyIu2AK6WUUkop5UWagqKUUkoppdxOE1AypiPgSimllFJKedFVj4CLyCljTN4r7FMVWAc0M8b8coV9OwLzjDEH7ccfA2ONMX9dbUwur7Ub2GeMuctl23ogmzGm4rW+XjqvPwX4yRjzTWZfy11urV+FVkM6EhAYwLKvf2X+hB9TPZ8tKBvtxnbjxoplOB0bxyfd3yV6/1HyBOel84Te3FS5LCu+Wcz/hn6acszzXw0hf+EQzp9LAOD9diM5dfykV8sF8MTQJ6nSoDoJ8QlM6jOOPVt2XbJPqYpleOrN7gTlDGLDorV8PuwTAB7t356q94aTmHCBI3uj+Ljv+5w5eYbA7NnoNOoZSlUqizGGz4d9wt8rtnitTO1e6UyVBtU5F3+OiX3eZ8/mf9MtU5e3eqSUadorkwF4+MU2VG9UE5NkOHn8BBNfHEfskZiU40pXLsfQ719jfI+xrJq93KPluK1+FVoP6YQEBrD064XMS6fddRjbPaXdfdz9HaL3HwWgSdcW1G3dEJOYxNfDPmXrbxvIliM7L349jGw5shEQGMi6OSv46e3/AdD29We5qXIZQDiy6xCf9RnPuTPnPFKux4Z2olKD6iTEn+PTPuPZm06bu7FiGTq92Y2gnEFsWrSWr4ZZn53cBfLyzPu9KFiyMMf3H+WjbmM5c/I0N9e+jW4TX+b4/iMArP3lT356zzqFvPbHeM6eOotJSiLxQiIjH+jnkXK5ajP0SSo1qEZCfAKf9Hk/3TLelKqM6/jS/lzViKzDAy+0pli5Eox8sD97Nu0EoGDJwry64B2i/j0IwL/rtjN94ESPlyU9t9SvwoND2hMQGMCfXy9i0YSZqZ4PDMpGm7FdKVmxNGdiTzGt+7vE7D+W8nxw8YL0nf8m8975hiWTfvZ2+Kk8PvRJKtvnwMkZnANvss+B2XMGsXHRWr6w66q1fQ68YJ8DJ/d9n/iTZ8gTnJduE/pSunJZln6zmOlDP/Z2sa7KoFFj+W3pSkJDgvlh+odOh5MuT5wvcuXLTee3exBaohCBgYHMnTSTZf9bDMDzUwdSplp5dqz6m3GdR3uzqJmmK2FmzN0j4G2AP+z/X0lHoHjyA2PMU9fT+XaRT0RuABCRWzPxOm4lIm5P85EAofXwJ/mg42uMaNSbGg/cSVi5Eqn2qdO6IfEnTjMs4nkWTZ7Ng/0eB+D8ufP89NbXfD9qWrqvPfWFcYyOfJnRkS870vmuHFGdsNLFeCmiO58OmECHkV3S3a/DiC582n8CL0V0J6x0MSpHVANgyx8bGNj4BQY1603UroPc37UlABGP3QvAoKa9eaPtMNoM7ICIeKVMVRpUp2jpYvSp341P+n9IpxHpl6njyGeY3G8Cfep3o6hLmX7+6AcGNu3NoMgXWb9wNS2eb51yjAQE8Fj/dmz+fb3HyyEBwmPDO/N+x1EMb9SLmum0u7qtG3LmxGmGRvTk18k/81C/JwAIK1eC8OZ1ebVxb8Z1GEmbVzsjAcKFc+d55/FhjGz2EiMjX+K2+lUpXa08AN+8OtXa3qwv0QePUb9DU4+Uq2JENYqULsbAiB5MG/ART4x8Ot392o54mmn9P2RgRA+KlC5GxYiqADR7rgVbl21iUIOebF22iWZdW6Qcs2PVVoZH9mV4ZN+Uzneyt9q8wvDIvl7pfFeyyzggogefDfiQthl8rtqOeJrP+n/IgJQyWm3w4La9fPDsGLav3HrJMUf3HE4po1OdbwkQHhreiY87vs6YRn2o9kBdiqZpm3e0bkD8idOMjujFb5Nnc599Tkz2wKB2/L14vRejTl/lCOt80S+iO1MGTKBdBnXV3j4H9ovoTtHSxajkcg4c1PgFhjTrzWGXc+D5c+f5/q0v+XrUZ14ry/VoEdmID8eOcDqMDHnqfNGgXRMO7djP8GZ9GfPYK7Qe2IHA7Fb3Ye5HPzK51zhvFE950TV3wEWkmIj8JiLrRWSziNxlbxfgEayOdSMRyelyzMsisklENojIaBFpBYQDn9uvk0tEFotIuIg8KyJjXI7tKCLv27+3FZGV9jEfiUigS2gzgEft39sAX7q8RqCIjBGRVSKyUUSesbdHiMgSEflRRP61Y3vCfo9NIlLW5fXvFZHVIvKPiNx/Fa/7u4jMBDLzR0W6SlUtx7E9hzm+7wiJ5xNZO2sZlRvXTLVP5cbh/PntEgDWzV7BLXWtCwEJ8ef4d/U2zp877+6w3KJ645os/c6Ke+e67eTOl4cChYNT7VOgcDA58+Vm57rtACz9bgnVG9cCYPPvG0hKTLKP/4eQsIIAFC9fkr+WbQYg7vhJTp88TenKZfGG6o1q8ce3i1Niyp0/DwWKhKTap0CREHLlzcXOdf8A8Me3i6nR+A4Azp6KT9kvR+6c4DKtU+OOkayas5yTx054uBRWuzu6J4pjdrtbPWsZVdK0uyqNw1lhl3Xt7BVUsNtdlcY1WT1rGRcSLnB8/1GO7omiVNVyACmj2oHZAgnMFoixy+da7qCcQR5LJqzauCYr7Db372XbXC7+tdvciu+WUNVuc1Ub1WT5N1aZl3+zmKqNankm0Eyo2rgmy79bDCSXMXeGn6vkMi7/bjHV7Po9tPMAh+1R7qzoxqrlOL4nimi7ba6ftZzbG4en2uf2xjVY/e1vAGyc/Sfl61Z0eS6c6H1HOLx9v1fjTk+1xjVZdhXtMZdLXS1zOQduyeAcmBB/ju2r/86y5/5k4VUrUSB/PqfDyJCnzhcGQ448uQDImTsnp2NPkXQhEYC/l23m7Ol4lH+5nhHwx4G5xpiqQBVgvb29LrDLGLMTWAzcByAizYAHgTuMMVWAN+xUjtXAE8aYqsYY15b1LfCQy+NHga/sUe1HgTvt904EnkhzXEv79+bALJfnOgMnjDE1gZrA0yJS2n6uCvAscCvQDrjZGFML+Bjo4fIapYBadrk+tP/AuNzrVgeeN8bcnP4/4/UrUDSUmIPHUx7HHDpOgaIhGe6TlJhEfNwZ8oRc+aTWdsxz9Jv9Ok17tLzivp4QUjSU4wcvXhaOjjqe8gWSsk9YQWIOXSx/9KHjhBQNveS17nrkHjYtXgfAvq17qHZvOAGBARQqWYRSlcoSWqyQh0qRWkhYKNFpyhSaJt7QoqFER6UpU9jFfVr1fZx3lk+kbou7+XbsV9brFg0lvMkdLJw218MlsASn0+6C05QjOIN2d+mx0SnHSoAwYPYbvLHmY7b+sYnd63ek7NduzHO8vmoiRcsWZ9GUOR4pV0jRUKJdY4s6TnBYmnKFhaZqczEubS5/4QKcOBoLwImjseQvXCBlvzLVb2bInDH0nDKA4uVLXnxBAy9MG8SgWa9zV5t7PVCq1IKLFkxTxmiC03yugtN8rqw6Sr1PegrdUIQhP4+h79fDKF/TmYuPBYqGEOtSvtgMzomxadpm7pB8BOXOQYNnmzPv3W+9GnNGgoumPl/EZHAOjE5zDkz7WYTU50DlHp46X/w69ReKlSvBmJUTGTr3Lb4a9mnKYIQvS8I4/pNVXU96xCrgExHJDvxgjFlvb28DfGX//hXQHqtTfC/wqTHmDIAxJvpyL26MOWqPRtcGtgMVgKVAN6AGsMpOHcgFHHE59DgQIyKPAVuBMy7PNQYq2yPvAAWA8kACsMoYcwhARHYC8+x9NgENXF5jhjEmCdguIv/acV3udVcaYy5NDLPepwvQBSAitAa35/POSOyVTHl+HCcOx5AjT06emtCbWi3vZuV3vzkd1nVp3u1hkhITWfaDFf9vMxZSvFwJXpn1BscPHGXHmm0kJSU5HOXV+2bMF3wz5guad21Jow7N+O7tr2k79Em+Gj3N50/SJskwKvIlcuXPzTMf9aH4zTdw8J99AEzrOwEJEB4d9iThzeuy3M6JzMqS62Pv5l30u7Mr586cpWJENbpOfIlBDXoC8HqrwcQejiZfwfz0mj6YqJ0H0k3vyOpOHInhpbrPcjr2FDdVLEO3iS8xpHGvVFcvsrrGL7Ti98lzSPDQ/QVOub/bwyQmJrL8B988h/9XJJ8vbr+7Kvv+2s1bbYZR+KYwek8fzLBmW33qs6SuzTV3wI0xv4nI3VgjwVNEZCzwOfAw8KCIDAQEKCgi13sd6SugNfA38L0xxtgpLlONMf0vc9zXwHisNBhXAvQwxqQaKhSRCMD1rJvk8jiJ1P8+aXs55gqvezqjII0xE4GJAN1LPXrNvacTh6MJKX5xRCSkWEFOHI5Jd5/YqGgCAgPIlS83p2PirvC61mucO32W1TOXclOVsl7pgN/Trin17VHAXRt2ULB4Ibbbz4WGFSTGZWQY7BGhYhfLH1qsIDGHL/5dV69VA6reU4PXH38lZVtSYhJfvDol5fGgb0em3DjmCfe2b0rEY40A+HfjDkKLXxxtDw0rSPTh1H+HRh+OJjQsTZmiLv1bddkPv9FnyiC+e/trSlcuS7dxvQHIF5qPKg1qkHQhkTXzVnqiSMSm0+5i05QjNoN2d+mxoZccG3/yDP8s38Jt9aumdMDB6qCvnrWMxs884LYOeES7Jtzt0uZCXWMLs+JPVa6o6FRtLsSlzZ08eoIChYM5cTSWAoWDiTtm3Tvh+sW5efE6Akc8Rd6QfJyy/z3ASodaN3clpauUc3sHvEG7ptzV5h4Adm/YmaaMocSm+VzFpvlcWXWUep+0LiRc4ELCKQD2bP6Xo3sPU7R08ZSbNL3lxOEYgl3KF5zBOTG4eEFOuLTNMzFx3Fi1HJUj7+C+/o+TK39uTJLhwrnzLP1sXtq38ZiGac6BrueLkAzOgaFpzoGun6c7WzWgyj01GONyDlTXzxvnizsfacAvE74HSEn1Cytbgt0bduDLfH2AyJOuJwf8JuCwMWYSVppGdeAeYKMx5gZjTCljzE1cTCWZD3QSkdz28cnXauKAjDro32OlrbiOqi8EWolIkeTXsWNJe9wbQNpr8nOB5+xRe0TkZhHJc41Ff0REAuy88DLANje97jXbs2EnhUuFUbBkYQKzB1K9eV02zl+dap9N81dzx8P1AagWWZt/ll1+xo+AwICUFJWAbIFUbFidQy6dIE9aOO0XhkT2YUhkH9bOW8mdLa24y1YrT3zcmZTLdclOHI3lbNwZyto3693Zsj5r560CoFL9qkQ+8yDvPDWahLMJKccE5QwiKFcOAG6vV5mkC0kc3OG5fM8Fn/3CoMgXGRT5ImvmraTewxF2mW7mTNwZThxJ0zk4EkP8qXjKVrMyluo9HMHa+VZHumipYin7VW9ci4M7DwDQu95z9K73LL3rPcuq2cuZMniixzrfYLW7IqWKpbS78HTa3cb5a6htl7V6ZG222e1u4/zVhDevS7agbBQsWZgipYqxe/0O8obmI1f+3ABkz5GdW+tVJsouX+Gbiqa8buV7w4na6b4/mBZPm5ty4+D6eauobbe5Mpdtc/GUsdtc7Zb1WW+3uQ0LVlOnlVXmOq0iWD/f2p7fJS+0VJVyiARwKiaOoFw5yJHHukUmKFcObrurCgc88FlbNO2XlDKum7eSOi0jrqKMZ1LKWKdlREoZM5I3ND8SYH2NFLqhCEVKhXFs72G3l+VK9m3YSaFSYYTabbNq8zpsmb8m1T5b5q8h/OG7AagceQc77Lb5QethjKrXk1H1evL7J3NYOP4Hr3a+AX6d9gtDI/sw1D4H1r2K9hjvUld1W9ZnnV1XFetXpdkzD/JemnOgun7eOF9EHzxGhTsrAZCvUAGKlinuyGdJec/1pKBEAH1F5DxwCivVZAhW59fVt8Bzxphm9vSEq0UkAZgNDACmYOVSxwN1XA80xsSIyFbgNmPMSnvbXyIyCJgnIgHAeay0lD0ux8UBrwNpZ7j4GCuHe609kn4UaHGN5d4LrATyA88aY87aUydm9nWvWVJiEjOGfEK3zwYggQGsmLGYqO37ua/XI+zd9C+bFqxh2YxFtB/bnaGL3+V07Ck+7fFuyvHD/hhHzry5yZY9G5Ub12R8u5FEHzhGt88GEJgtkIDAAP5euomlXy70dFEusWHRWio3qM6YJeM5F3+Oj/uOT3lu+Ow3GRLZB4CpgyfxtD0N4cbF69i4eC0A7YY9Rbag7PSdPgSwbkKaOnAi+QsVoM/UwRhjiImK5qPe73mvTL+uoWqD6rz52wckxJ9jUp/3U54bMfstBkW+aJVp0ES6vNXDmlZs8Vo2LLLK9Gi/thQrU4KkpCSOHzjKpwM+8lrsrpISk/hqyCf0+GygNf3ljEUc2r6f+3u1Zu+mnWxcsIalM36l49juDFv8HmdiTzG5xzsAHNq+nzU/LWfI/LEkXUjiqyGTMUmGAkVC6PBWNyQggIAAYc3Py9n861pEhA5vdSNn3tyIwP6te/hykGemTdu0aC2VGlRj5JJxJMQnMMWlzQ2ZPYbhkX0B+HzwJDq92Y3sOYPYvHg9m+3c2jkTvueZ8b2p17ohxw8c5aNubwNQo1ltIto2JjExkfNnE5jUw9qev1ABuk60XjMwMJA/f/yDLUvWe6RsqctYnVFL3remTuv7QbplnD74Y55MKeO6lPzhak1q0eaVzuQLzc/zn/Rn79bdvNN+BDfXupUHez9G4oULmCTD9IETOX3ilEfLkp6kxCS+HzKFpz/rjwQGsGrGYg5v30+TXq3Yt2kXfy1Yw8oZi2kztiv9Fr/NmdhTTO+RNWeV2GifA19fMp6E+HNMdmmPw2a/yVD7HDht8CQ62+fATS7nwLbDniJ7UHb6uJwDP7NnpxnzxwRy5s1FtuzZqNa4Fm+1G+7RgYjr0XfoaFat20hs7EnuadGWrp3b8XDzJk6HlcJT54uf3vuGTm92Y+gvbyEC346ezin7qvVLM4YTVrYEOfLk5I3lHzL15Qls+W2Dl0uu3E308oCzricFxRfEccHpENwuyU8/K3ndP1Om4y5k4RtvMsP4YbmCye50CB5xHP8bfZ64esyVd/JBXcNfdjoEj5i0+3/emWv3MmoVr+/4SWvlwSWO/zukR1fCVEoppZRSyov8b+hLKaWUUko5zh+v2rmLjoArpZRSSinlRdoBV0oppZRSyos0BUUppZRSSrmdTvSRMR0BV0oppZRSyot0BFwppZRSSrldkt6EmSEdAVdKKaWUUsqLtAOulFJKKaWUF2kKilJKKaWUcju9CTNjOgKulFJKKaWUF2kHXCmllFJKKS/SDrhSSimllHK7JIzjP5khIqEiMl9Ettv/D0lnn6oislxEtojIRhF59GpeWzvgSimllFJKXaofsNAYUx5YaD9O6wzQ3hhzO9AUeEdEgq/0wnoTplJKKaWUcjvj+/OAPwhE2L9PBRYDL7vuYIz5x+X3gyJyBCgMxF7uhXUEXCmllFJKqUsVNcYcsn+PAopebmcRqQUEATuv9MI6Aq6UUkoppfySiHQBurhsmmiMmejy/AIgLJ1DB7o+MMYYEclwSF9EigHTgA7GmKQrxaUdcKWUUkop5XZJWWAecLuzPfEyz9+b0XMiclhEihljDtkd7CMZ7Jcf+BkYaIxZcTVxaQqKUkoppZRSl5oJdLB/7wD8mHYHEQkCvgc+M8Z8c7UvrB1wpZRSSinldiYL/JdJo4FGIrIduNd+jIiEi8jH9j6tgbuBjiKy3v6peqUX1hQUpZRSSiml0jDGHAfuSWf7auAp+/fpwPRrfW0dAVdKKaWUUsqLdARcKaWUUkq5XVa4CTOr0hFwpZRSSimlvEhHwJVSSimllNv5wUqYHqMj4EoppZRSSnmRdsCVUkoppZTyIk1BUUoppZRSbqc3YWZMO+AOO0+S0yF4RB4CnQ7B/cTpADzjvB/m6GXz08oSPyxXHBecDsEjcvrhObBr+MtOh+ARH6x+3ekQ1H+QdsCVUkoppZTb6U2YGdMccKWUUkoppbxIO+BKKaWUUkp5kaagKKWUUkopt9ObMDOmI+BKKaWUUkp5kY6AK6WUUkopt9ObMDOmI+BKKaWUUkp5kXbAlVJKKaWU8iJNQVFKKaWUUm5njH8uNugOOgKulFJKKaWUF2kHXCmllFJKKS/SFBSllFJKKeV2SToLSoZ0BFwppZRSSikv0hFwpZRSSinldkZXwsyQjoArpZRSSinlRdoBV0oppZRSyos0BUUppZRSSrmd3oSZMR0BV0oppZRSyot0BFwppZRSSrmd3oSZMR0BV0oppZRSyou0A66UUkoppZQXaQqKUkoppZRyuyRNQcmQjoArpZRSSinlRToCrpRSSiml3M7oNIQZ0hFwpZRSSimlvEg74EoppZRSSnmRpqAopZRSSim303nAM3bFDriIJAKbXDZ9ZYwZncG+LYB/jDF/2Y+HA78ZYxZkJkgRCQYeN8Z8cI3HvQKcMsa8KSK1gXeBHPbP18aYVy5zbATQxxhz//VF7RmPDu1ExQbVSYg/x5Q+49m3Zdcl+9xYsQwd3+xG9pxBbF60lq+HfQpA7gJ5efr9XhQsWZjj+48yqdtYzpw8TdGyxek4phs33F6aH9/8kvmTZqW81j2d76Peo/dgjOHAtr1M7fsBF86d91j5bqtfhUeGdEICA1j29ULmTfgx1fPZgrLRYWx3bqhYhtOxcUzu/g7R+48C0KRrC+q0bohJTGLGsE/Z+tsGABp2vo+6jzYEYziwbR/TPFwGT5SjSJlidH6/V8rxhW4owk9vz2DRJ7MpedtNtBn5NNlyBJF0IZGvBn/Mng07PVa2x4Z2opLdBj/tM569GbTBTm92IyhnEJsWreUrlzb4jEsb/MhugzfXvo1uE1/m+P4jAKz95U9+eu+blNeTgAAGzRpNbFQ04zqne/q5JrfVr0Jru36WXqZ+brTr5+M09VPXrp+vXdpZRq95S53baTmwHdmyZ2Pv5l1Me2kCSYlJNOrSnJot7gIgMDCAsHIl6Vu9M2dOnM50+ZLj8eZn6YE+j1EtsjYmKYnfps9n8ZQ5bilHejxxHkx2U+WyvPzdSD7u8Q5r56wgtEQhnvuoLxIQQGC2QBZNncNvn893a3k80R4BJEDob39uPuj8eqrXbD20E3VaN6DX7e3dWpa0PHG+yJUvN53f7kFoiUIEBgYyd9JMlv1vMQDPTx1ImWrl2bHqb7ecK9xl0Kix/LZ0JaEhwfww/UOnw1FZwNWkoMQbY6q6/FyuRbcAbkt+YIwZktnOty0Y6JrJ15gKdDHGVAUqAjMy+XqpiIjHryZUjKhGkdLFGBzRg+kDPuKJkU+nu9/jI55mWv8PGRzRgyKli3F7RFUAmj7Xgr+XbWJIg578vWwTTbu2AOBM7Cm+euWTVB1vgOCioTTsGMmo5v0Y3uRFAgICqNn8To+VTwKER4d35v2Oo3i1US/CH7iTsHIlUu1Tt3VDzpw4zSsRPfl18s881O8JAMLKlaBG87qMaNyb9zuM5LFXOyMBQoGiIUR0bMbrzfsxokkfAgICCG9e12Nl8FQ5jvx7iNciX+K1yJcYff/LJJxNYMPclQA81K8tP7/7Da9FvsRPY2fwUP+2HitbchscGNGDaZdpg23tNjjQboMV7TbY7LkWbF22iUENerJ12Saa2W0QYMeqrQyP7MvwyL6pOt8A93aK5NCOA24pgwQIj9n1M7xRL2pepn6GplM/4c3r8mrj3ozrMJI2dv1k9JoiQvu3ujG5x7u82qQPx/cfpfbD9QGYP3EWoyJfYlTkS/zwxpds//Mvt3W+vf1Zqv1IBCHFCjL8nl4Mv7c3q2ctdUs50uOp8yBYf+i17NeWv36/2Ik9cSSW11sOZERkX0a3GECT51pQoEiI28rjifaYrGGnSKLS+dzcWKkMuQvkcVsZMuKp80WDdk04tGM/w5v1Zcxjr9B6YAcCs1tfwXM/+pHJvcZ5vGzXqkVkIz4cO8LpMLwuCeP4T1Z13TngIjJaRP4SkY0i8qaI1AUeAMaIyHoRKSsiU0Sklb3/bhF5zX5utYhUF5G5IrJTRJ6198krIgtFZK2IbBKRB+23Gw2UtY8dY+/bV0RW2e8/zCWugSLyj4j8AdziEnIR4BCAMSbRZZS+logsF5F1IrJMRFyP4XL7iEhHEZkpIr8CC0XkM/sqQPJxn7uUIdOqNK7Jiu+WALBr3XZy5ctD/sLBqfbJXziYXPlysWvddgBWfLeEqo1rWcc3qsnybxYDsPybxVRpZG2PO36SPRt3knjhwiXvGRAYQPacQQQEBhCUKwexh6PdVZxLlKpajqN7oji+7wiJ5xNZM2sZVRrXTLVP5cbhrPjWKsO62Su4pW5Fq2yNa7Jm1jIuJFzg+P6jHN0TRamq5QBrdPFiGYI4cTjGY2XwZDmSVbizEsf2RBF94Bhg3WWeK28uAHLlz+3R8lV1aYP/rttO7nx5KJCmDRYoHEzOfLn4N502WDVNG6xqt8HLCQkLpVLD6vzx1UK3lCG5fo7Z9bM6nfqp4lI/a2evoIJL/axOp34yes08IXlJPH+BI7sOAfD3Hxup1uyOS2Kq+cCdrJrpvk6rtz9Ldz/RmNnvfZNyufnU8ZNuK0tanjoPAjTs2JR1c1YQ5xJ/4vkLXEiwzo3ZgrIRIO69dcoT7REgOCyUig2rszTN50YChJYD2vLda9PdWo70eOp8YTDkyGOd83Lmzsnp2FMkXUgE4O9lmzl7Ot7TRbtm4VUrUSB/PqfDUFnI1ZxJctkd3+SfR0WkIPAQcLsxpjIwwhizDJgJ9LVHytO7Br7XHoH+HZgCtAJqA8kd6LPAQ8aY6kAD4C0REaAfsNN+3b4i0hgoD9QCqgI1RORuEakBPGZviwRcz2JvA9tE5HsReUZEctrb/wbuMsZUA4YAo9KJ+3L7VAdaGWPqA5OBjgAiUgCoC/yc8T/ttQkuGkr0weMpj2OjjhMSFppqn5CwUGIOXdwn5tBxgota++QvXICTR2MBOHk0lvyFC1z2/WIPRzN/0ixeWzaBN1ZOIj7uDFt/3+im0lwquGgoMQdTx16gaGiG+yQlJhEfd4Y8IfkokObY2EPRBBcN5cThGBZMmsWIZRN4beVEj5fBU+VwVaP5nax26ax9M2wqD/Vvx8hlH9ByQDt+fOMLTxQLgJA0bTAm6jjBadpgcDptMMSlDZ6w2+CJNG2wTPWbGTJnDD2nDKB4+ZIp2x8d0olvXptOkklySxnSq5+0/8YZ1c+lx1r1k9FrnoqOIyAwkBsrlQGgWmRtQooVSvVe2XMGcVv9qqybs8It5cuojJ78LBW6qSg17q/LyzNfo9uU/hQuFea2sqRXNk+cB4OLhlK1yR0smT7vkvcMKVaQwXPeZPTyD5n74Q+cOOK+P3I90R4BHhnSke9fm37JQigRHZqyccGalH8DT/LU+eLXqb9QrFwJxqycyNC5b/HVsE8111j5nOtJQfkaOIHVWZ4sIi2BM1f5fjPt/28C/jTGxBljjgLn7DxvAUaJyEZgAVACKJrO6zS2f9YBa4EKWB3yu4DvjTFnjDEnXd4PY8xwIByYBzwO/GI/VQD4n4hsxuqk357O+11un/nGmGj7PZYA5UWkMNAG+NYYc8mwsoh0sa8CrN4a92/G/1oedqUTVu78eajSqCYD7+rGS3d0IUfuHNxh56z6ilz581C5UU2G3NWN/nc8Q47cOanlY2VwFZg9kMr31mDt7IudtbvaNuabV6cysG5Xvnl1Km1ff9bBCK9Nchvcu3kX/e7syvBmffl1yhy6TnwJgMoNq3Py+An2bnbuc5JZk3u+wyODO/DyD6M4dyqepKTUf0hUvrcGO1dvc1v6iadc7rOULSg758+d5/UH+rP0y4W0e+M5h6O9esltsPWQjnw3enq658WYQ8d5tVkfBtXvQe2HI8hX6PKDF06r2LA6ccdPsHdz6nzrAkVCqB5Zx6P5+Z6UXDe3312VfX/tpm+tLgyP7MvjwzuT074KqLIWY4zjP1nVdeUtG2MuiEgt4B6sUezuQMOrOPSc/f8kl9+TH2cDngAKAzWMMedFZDeQk0sJ8Jox5qNUG0VeuELcO4EJIjIJOGqP5L8KLDLGPCQipYDF6Rx6uX3Sfmt+BrTFGonvlEEcE4GJAM+UeuSyrSOiXRPqtbkXgN0bdhBavCDJlxaCwwoSE5U6JSQmKpqQYgVTHocUK5iSNnLy6AnyFw62R32CiTt2+cvEFepV4ti+I5yKtvZb98uflKlxC3/+8Ptlj7tesYejCSmeOvYTaVJekveJjYomIDCAXPlyczomjhNpjg0uFkrs4Wgq1KvE8X1HOBUdB8D6X/6kTI2bWemhMniqHMluj6jGvs27iDt2ImVb7Yfr8z/7pqW1Py/nidHPuLU8Ee2acLfdBnfZbTClbGFWGVKVLZ02GOPSBgsUDubE0VgKuLTBs6cuXjLevHgdgSOeIm9IPsqGV6DqveFUalCN7DmCyJk3F53f7pGpHM/06idtalVG9XPpsRfrJ6PX3LV2O2+1HgrArXdVpkjp4qneK7z5naye+cd1l+dqy+jJz1Js1HHW//KntX3uStqNyewtO6l54zx4U+WyPDXuBQDyhuSnYkQ1EhMT2TBvVcrrnDgSw8F/9lK+5q2sddMVC0+0x8r3hlP53nAqNqhGthxB5Mqbi45v92D1zD8oXCqM4UveAyAoVxDDFr/H0IiebikLeOd8cecjDfhlwvcAKek7YWVLsHvDDreVQylPu65kNhHJCxQwxswGegFV7KfigMwkORUAjtid7wbATRm87lzgSTsORKSEiBQBfgNaiEguEckHNHeJ+T47nQWs0fJEINZ+z+S7VDpeJq4r7ZNsCvACQHKeeWYsnjaXEZF9GRHZl/XzVlG7pXUDV+lq5YmPO3PJZcSTR2OJj4undLXyANRuWT/lC2TjgtXUaRUBQJ1WEWyYv4rLiT54jDLVypM9ZxBg5R5H7dif2SJlaM+GnRQpVYyCJQsTmD2QGs3rsnH+6lT7bJy/htoPRwDW5fxty7bY21dTo3ldsgVlo2DJwhQpVYzd63cQc/AYpVzKcMudldK9KSmrlyNZ+AN3sirNDW4njkRTvrZ17/MtdStydHeUW8uzeNrclJsjXdtgGbsNnkjTBk8cjeVsXDxlXNrgersNbkjTBtfbbdA1h7dUlXKIBHAqJo7v3/iCl+o8S/963ZjY4222Lduc6Rus0tZP+BXqp3qa+glPp34u95r5CuYHrPzhxs8+yO+fX0xxyJkvF+XvuI0Nad4/s7z9WdowbxU317HyksvXvo0juw66tTzeOA8OvKsbA+tZP2vnrODLwR+zYd4qgsNCyZ7DKnPu/HkoF16BqH/dVz5PtMcf3/iSAXWeY1C97kzu8Q7blm1mSq9xbF60jn41uzCoXncG1etOQnyCWzvf4J3zRfTBY1S4sxIA+QoVoGiZ4hzbe9it5VDukWSM4z9Z1dWMgOcSkfUuj3/Bms7vRzuPWoDe9nNfAZNEpCfWyPi1+hyYJSKbgNVYudcYY46LyFI7BWSOnQd+K7Dc7lOfAtoaY9aKyNfABuAI4NrDbAe8LSJngAvAE8aYRBF5A5gqIoPIOF/7avbBjvWwiGwFfriO8l/W5kVrqdSgGiOWjCMhPoGpfcenPDdo9hhGRPYF4MvBk+hgT+m0efF6Ni9eB8AvE76ny/je3Nm6IdEHjjKx29uA1fkZMHM0OfPmwhjDPU/exyuNerF7/Q7WzlnBoJ/fIPFCIvu27Ob3L90xqU36khKT+HrIJ3T/bCABgQEsn7GIQ9v3c3+v1uzZtJNNC9awbMavdBzbnVcWv8eZ2FNM7vEOAIe272ftT8sZPH8sSReS+GrIZEySYff6Haybs4L+P79Okl2GPzxYBk+VAyAoVw4q1KvMFwMmpnq/z/t9xCNDOxGQLYDz587zef+P0obkNpvsNjjSboNTXNrgkNljGG63wc8HT6JT8hRwLm1wzoTveWZ8b+q1bsjxA0f5yG6DNZrVJqJtYxITEzl/NoFJPd72WBmSEpP4asgn9LDrZ5lL/ezdtJONC9aw1K6fYenUz5qfljMkTf0YTLqvCdCoywNUvKc6ARLAb5/PY9vyLSmxVG1Si62/byAh/lx6oWaqjN78LM2b8AOd3ulJw873ce7MWab381wb9NR5MCPFypWk1cD2GAyCMH/SLA5u2+u28niiPWYVnjpf/PTeN3R6sxtDf3kLEfh29HROxVhXZl6aMZywsiXIkScnbyz/kKkvT2CLy9SMTuk7dDSr1m0kNvYk97RoS9fO7Xi4eROnw1IOkqycH+OLRCQ3Vo57dWPMiSvtf6UUFF8ViFx5J5UlnM/C0zRdr2x+2v78sVSJftj+AAL8sLYu+GldfbD69Svv5IOyFyrjeCMMzVfe8UYTHbfd8X+H9OhKmG4kIvdizYTy9tV0vpVSSiml/JUO8mZMO+BuZC86dNMVd1RKKaWUUv9Z7l1RQCmllFJKKXVZOgKulFJKKaXcLisvBe80HQFXSimllFLKi3QEXCmllFJKuZ3ehJkxHQFXSimllFLKi7QDrpRSSimllBdpCopSSimllHK7rLwUvNN0BFwppZRSSikv0hFwpZRSSinldkanIcyQjoArpZRSSinlRdoBV0oppZRSyos0BUUppZRSSrmd3oSZMR0BV0oppZRSyot0BFwppZRSSrmdroSZMR0BV0oppZRSyou0A66UUkoppZQXaQqKUkoppZRyO50HPGM6Aq6UUkoppZQX6Qi4UkoppZRyO70JM2M6Aq6UUkoppZQXaQdcKaWUUkopL9IUFKWUUkop5XaagpIxHQFXSimllFLKi7QDrpRSSimllBdpCopSSimllHI7TUDJmI6AK6WUUkop5UWiCfL/HSLSxRgz0ek43MkfywT+WS5/LBNouXyJP5YJ/LNc/lgm8N9yqWunI+D/LV2cDsAD/LFM4J/l8scygZbLl/hjmcA/y+WPZQL/LZe6RtoBV0oppZRSyou0A66UUkoppZQXaQf8v8Uf8878sUzgn+XyxzKBlsuX+GOZwD/L5Y9lAv8tl7pGehOmUkoppZRSXqQj4EoppZRSSnmRdsCVUkoppZTyIu2AK6WUUkop5UXaAfdzIpJLRG5xOg6l/IVY2orIEPvxjSJSy+m4lFJZk4g0FxHtb6lUtEH4MRFpDqwHfrEfVxWRmY4G5QYiUlREJovIHPvxbSLS2em4MktEcovIYBGZZD8uLyL3Ox1XZvhpXX0A1AHa2I/jgPHOheNeIlJPRDrZvxcWkdJOx5QZIlJWRHLYv0eISE8RCXY4rOsmIi0v9+N0fNdLRAJF5G+n4/CQR4HtIvKGiFRwOhiVNWgH3L+9AtQCYgGMMesBn/4ytU0B5gLF7cf/AC84FYwbfQqcw+rcARwARjgXjltMwf/q6g5jTDfgLIAxJgYIcjYk9xCRocDLQH97U3ZgunMRucW3QKKIlMOaAu4G4AtnQ8qU5vZPZ2Ay8IT98zHwpINxZYoxJhHYJiI3Oh2Luxlj2gLVgJ3AFBFZLiJdRCSfw6EpB2kH3L+dN8acSLPNH+adLGSMmQEkARhjLgCJzobkFmWNMW8A5wGMMWcAcTakTPPHujovIoHYnyURKYxdPj/wEPAAcBrAGHMQ8PVOQpLd7h4Cxhlj+gLFHI7puhljOhljOmH9cXSbMeZhY8zDwO32Nl8WAmwRkYUiMjP5x+mg3MEYcxL4BvgKq/09BKwVkR6OBqYck83pAJRHbRGRx4FAESkP9ASWORyTO5wWkYJc7ADVBtL+oeGLEkQkFxfLVRZrRNyX+WNdvQd8DxQRkZFAK2CQsyG5TYIxxohIcn3lcTogNzgvIm2ADlgjx+D7HVWAG4wxh1weHwZ8ffR4sNMBeIKIPAh0BMoBnwG1jDFHRCQ38BcwzsHwlEO0A+7fegADsTpxX2ClAvh6SgNAb2AmUFZElgKFsTpBvm4oVr7+DSLyOXAn1knbl/lVXdk3Uu0CXgLuwbpC0cIYs9XRwNxnhoh8BASLyNNYKQ2THI4pszoBzwIjjTG77Jz2aQ7H5A4LRWQu8KX9+FFggYPxZJoxZomI3ASUN8YssDuogU7H5QYPAW8bY35z3WiMOeMH98So66QrYfop+xL5AmNMA6dj8QQRyQbcgtUB2maMOe9wSG5hjxbXxirXCmPMMYdDyjR/qysRWWeMqeZ0HJ4iIo2Axlj1NdcYM9/hkDJFRJ43xrx7pW2+SEQeAu62H/5mjPneyXgyy/6jrwsQaowpa1+5/dAYc4/DoV03f/8uVtdPO+B+TEQWAi3TyQP3aSLyCPCLMSZORAYB1YERxpi1DoeWKSJyJ7DeGHNaRNpiletdY8weh0O7bhnMynAC2GSMOeLteNxBRN4ElgPfGT87gdqjw4eMMWftx7mAosaY3Y4GlgkistYYUz3NNp/+I8ru1G0xxvjVjBoish5r4oA/k+tHRDYZYyo5Glgm+et3scocTUHxb6eATSIyH/umKgBjTE/nQnKLwcaY/4lIPaw0gDeBCcAdzoaVaROAKiJSBSt1YzJWvmB9R6PKnM5Ys7ossh9HAGuA0iIy3Bjji6kAz2DVzwUROYs1UmyMMfmdDcst/gfUdXmcaG+r6Uw418/O+34cq6253siXD4h2Jir3MMYkisg2EbnRGLPX6Xjc6JwxJkHEuvfcvnrmD3/k+ut3scoE7YD7t+/sH3+TPIvGfcAkY8zPIuIPue0X7BvgHgTGG2Mm+0F+YDbgVmPMYbDmBcf6o+IO4Dd8MBfXGOPrs4JcTjZjTELyA7sz5KtTLC4DDgGFgLdctscBGx2JyL2SZwxZSepO3QPOhZRpS0RkAJDLToXqCsxyOCZ38NfvYpUJ2gH3Y8aYqfaX5832Jp/Pv7UdsG8UawS8bi+y4Q9TasaJSH+gLXC3fcOfr8/WcENy59t2xN4WLSI+2RZF5O70tqe9wcpHHRWRB4wxMyFl9gafvA/BTt3aIyJPAAfTpNWUBHY7GJ47+OOMIf2wrpptwrrSNBtrfnOfZoyZ6nQMKuvRHHA/JiIRwFSsLxrBWoCig693FOw745ti5RFvF5FiQCVjzDz7+RB7cRSfIiJhWJfMVxljfrcXpIgwxnzmcGjXTUQ+wJoa7X/2poeB/UBf4CdfvDFJRFxH5HJi5ayuMcY0dCgkt7Gnvvwca+EkAfYB7Y0xOxwNLBNEZDVQN3lk3x6UWGqM8bm0mv8Cu34qYKWebHO9IuOr7JtJXwNuwzpnAGCMKeNYUMpx2gH3YyKyBnjcGLPNfnwz8KUxpoazkXlWejdd+QMRWW6MqXPlPbMOsZI5WwL17E0xWDf1dXMuKvcSkRuAd+zFUPyCiOQFMMaccjqWzBKR9caYqmm2bTDGVHEoJLew59QfB9yKtRJrIHDal+9FEJH7gA+xVowUrJWbnzHGzHE0sEwSkT+wppl9G2su+k5AgDFmiKOBKUdpCop/y57c+QYwxvwjIr6e0nA1fH31yIzkvPIuWYud0/4v1tSKj2DNof2ts1G53X6sTpDPs9O5HgZKAdmSb4Yzxgx3MKzM8pu0mjTeBx7DuroUDrTnYrqhr3oLaJB8xcW+IvMz4NMdcCCXMWahiIidGvWKPUCmHfD/MO2A+7fVIvIxMN1+/ASw2sF4vMVfL+v4TLnsqy1t7J9jwNdYV9x8LuUkLREZx8W6CACqAj49BaaLH7GmiVyD76/CmuxZ4HMReR+XtBpnQ3IPY8wOEQk0xiQCn4rIOqC/03FlQlyadKd/sW6a9XXn7Ht6totId+AAkNfhmJTDtAPu354DumEtQQ/wO/CBc+Go/5C/sdrb/S6jWb2cDcltXP+IvYCV1rXUqWDcrKQxpqnTQbiTMWYnUNuf0mpsZ+x86fUi8gbWjC8+eTO6y3oBq0VkNjAD64/cR4BVjgXmPs8DubG+i18FGgIdHI1IOU5zwP2YiOQBztqjI8mLN+QwxpxxNjLP8vVFNjLiS+USkRZYl8fvBH4BvgI+NsaUdjIudXkiMhEYZ4zZ5HQs7iIi6V7m9/G0Guwl2w9j5X/3AgoAH/jiDbMi8unlnjfGdPJWLEp5i3bA/ZiIrADuTR7xsUeA5hlj6l7+yKxNRN4CPjHGbMng+VBjjE8ttHE1yxWLSEVjzGYvhpVp9h+BD2KlojTEmgP8++QZa3yRvWLpK8BNWFcRkxfi8fkZDUTkL6AcVq7+OS6WrbKjgWWCiLzo8jAncD+w1RjzpEMhZYqIFAYKG2P+SrP9duCIMeaoM5GptOwZkzLsZPn4nO0qk7QD7scyuPv/km2+RkSewrqLPBvwKVYKgM8v8evvyxWLSAjWJeVHjTH3OB3P9RKRv7FGHNdwcVEojDHHHQvKTexR1UvYN475BftG07nGmAinY7keIvIV1kj3b2m23wU8Z4x53JnIMk9ESgM9sG8CTt7uqx1VEbnsKsbGmCXeikVlPdoB92MishToYYxZaz+uAbzva1PZZUREbsHqiLcBlmKtirno8kdlXSLyI1AN0OWKszAR+dMYc4fTcXiSiBQh9XzFfrPcuf2H4CpjTDmnY7keIrLaGBOewXObjTEVvR2Tu4jIBmAy1kI8ScnbtaOq/JHehOnfXgD+JyIHsS4lhwGPOhqRm9gpGxXsn2PABqC3iDxjjHnM0eCuny5X7BsWicgYrLpKmSkk+Q9dXyYiD2BNBVcca9XSm4CtwO1OxpUZIrKJi2kAgUBhwJfzv/Nd5jlfn2b2rDHmPaeDcDddiEelR0fA/Zw97/ct9kO/WIpeRJIXM1gITDbGrHR5bpsx5pYMD87i7GWyb3Sdv11lLSKS3lUW4ycrYW7AytVfYIypJiINgLbGmM4Oh3bd0qTVXAAOG2MuOBVPZonIz8B4Y8zsNNubAT2NMc2ciSzzRORxoDwwDz/641YX4lHp0Q64HxKRmsA+Y0yU/bg91uIae4BXfO0GxbREpBMwwxhzOp3nCvhqDrWINAfeBIKMMaVFpCow3FfzH5XvSU5vsDvi1YwxSb66aqSIhF7ueV89D9qjqT8Dy7DuQwBrIZ46WNN+/uNUbJklIq8B7bBWwkxOQfH5P25FZI0xpoaIbDLGVHLd5nRsyjmaguKfPgLuBRCRu4HRWDe2VAUmAq0ci8wNjDGfikgJEalC6ht1fvPVzrftFaAWsBjAGLNeRPQSZRYjIkWBUUBxY0wzEbkNqGOMmexwaO4Qa8+W9BvW4jVHcLkfwceswUo9EeBGIMb+PRjYi7XMuc8xxmwXkUrA40ByvvcSrCXbzzoXmVs8ApQxxiQ4HYib6UI86hLaAfdPgS6jO48CE40x3wLfish658JyDxEZjTXH9F9cnIXCYHUafNl5Y8yJ5OW/bUkZ7awcMwVr9p2B9uN/sFb69IcO+IPAWaxZXp7AmlvaJ/Olk+ecF5FJWFNfzrYfNwNaOBiaO1wA2vvDyrJpbMb6A+mIw3G4my7Eoy6hHXD/FCgi2ew8x3uALi7P+UOdPwTcYozxl6Wyk22xcyAD7cvMPbEuM6sswOUzVcgYM0NE+gMYYy6ISOIVDvcJadK6pjoWiHvVNsY8nfzAGDPHXjnSZxljEkUkyZdT7jIQDPwtIqtInQPu02l4xpjk1TxPiUhvINZo/u9/nj90xtSlvgSWiMgxIB5rSXBEpBzgDyfrf7Hu9ve3DngPrFHVc1h1OBdrtERlDSuB6sBpESmIPbOGiNTGxz9XIhJH+guGJC/Ek9/LIbnTQREZBEy3Hz8BHHQwHnc5BWwSEX+atnSo0wG4k70K6wxjzN/2/PO/AFWACyLyuDFmgbMRKifpTZh+yu4UFMNa+fK0ve1mII8xZp2jwV0nERmH1UkogXUSW0jqURJf/uJRWZyIrLNnBqkOjMPKv92MNa1dK2PMRkcDVOmyb8YcCtxtb/oNGOarN2EmE5F0UxiMMT595cKetaa8MWaBiOTGSqmMczqu6yEiW4CKxhgjIl2w1qy4F7gZmGqMqeVogMpR2gH3YyIyzRjT7krbfEVGXzjJfPWLR5cr9g0ish8Yaz8MAHJgjRCfAxKNMWMzOtbX+ONCPCKSD2s0/5TTsWSGPy9FLyJPY6VMhhpjytqpeB/66sq5yX+0279/izUg9pH9eK0xprqjASpHaQqKf0u1eIa9eI3PTnvk2sEWkSCsRXgM1vzmvnzX/Jv2/1tiLZaUfKm8DXDYkYhUegKxZi6QNNtzOxCLR/jpQjyVgM+AUPvxMaCDMWazo4Fdv3HAB+lsD8VKYfPZpeiBblgzQf0JKTO+FHE2pEw5JyIVsc7jDYA+Ls/5zXlDXR/tgPsh++awAUAuETmZvBlIwJqG0KeJSCTWVIs7scpV2l4Bc46zkV2f5GWWReStNEtMzxKR1Q6FpS51yBjjkzOCXINXgdqkWYjH4Zgy6yOgtzFmEYCIRGCdB+s6GFNmlDPGXDLjkzHmdxGZ4ERAbnTOGJOQPBOUiGTjMlcHfcALwDdYaWpvG2N2Qcp3mE+mgir30Q64HzLGvAa8JiKvGWP6Ox2PB4wFGhhjdgCISFmshSl8sgPuIo+IlDHG/AsgIqWBPA7HpC5KO/Ltj84bY46LSICIBBhjFonIO04HlUl5kjvfAMaYxSLiy58rf16KfomIJA8eNQK6ArMcjum6GWNWYF2pTbt9NjD70iPUf4l2wP2QiFQwxvwN/M++YSwVX1/WF4hL7nzb/gV88iadNHoBi0XkX6zO3k3AM86GpFz4ZB7qNfKnhXiS/Ssig4Fp9uO2WOcMX7VDRCIzWIrel8sF0A/oDGzCOvfNBj52NKJMsKcczJA/3Teirp3ehOmHRGSSMeZpEVmUztP+sKzvBKzO6Qysy5OPYK1stwDAGPOdc9Fljj1VVfKIyd9+ONe5ysLskeF4rJtMkxfi+dwYc9zRwDJBREKAYUA9rPPF71izoMQ4Gth18uel6P2NiCRPq3gLUBOYaT9uDqw0xvh6epfKBO2AK58jIp9e5mljjHnSa8G4mYjUBUrhcnXKGPOZYwGp/ywRKQQc9+UFQ+wbzxf424qR9h/qrkvRbwG+8NWl6EXkslN4GmMqeysWTxCR34D7kqdTtGfk+dkYc/flj1T+TFNQ/JCItLzc8748QgxgjOnkdAyeICLTgLLAeiB5ZUWDNYODUh5jrxswGojGuhFzGlAICBCR9saYX5yM73r564qRxphzIjID+Mwu481AYxGZY4w573R81yEJ61z3BVbOd7yz4bhdUaxJEJIl2NvUf5h2wP1Tc/v/RbDu9P/VftwA67KlT3fARSQnVp7g7aSeq9hnR75t4cBtvjziqHzW+1gzJxXAOl80M8asEJEKWKuy+mQH3OaPK0aClad/l51iMw9YBTyKlTrkU4wxVe221garE/6X/f95xpgLjgbnHp8BK0Xke/txC8An161Q7qMpKH5MROZhzXd7yH5cDJhijGnibGSZIyL/A/7GugQ7HOsLZ6sx5nlHA8sku1w9k+tLKW8RkfXGmKr271uNMbe6PJeymIgv8uMVI9caY6qLSA8glzHmDdd69GUi8igwHnjdGDPG6XjcwZ4Q4S774W++uiK1ch8dAfdvN6TpzB0GbnQqGDcqZ4x5REQeNMZMFZEvsG6s8nWFgL9EZCXW6oqAroSpvCLJ5fe0l/99dpRGRFpgzcG8yRgz1+Fw3E1EpA7WAERne1ugg/FkioiUAB4DHgJisGaF+v6yB/mW3MBJY8ynIlJYREonzwuu/pu0A+7fForIXKxLyGBdnlzgYDzukpzjGGuvMhaFlW7j615xOgD1n1XFXrRLuHQBr5wZH5Z1icgHWGlqy4BXRaSWMeZVh8Nyp+eB/sD3xpgtIlIGSG/mqyxPRJZgzW8+A+gEJM+6EyQiocaYaMeCcwN7NpRwrNlQPsWar306cKeTcSlnaQqKnxORh4DkO61/M8b4/IiCiDwFfAtUAqZgLQ8+2BjzkZNxuYOI3ASUN8YsEJHcQGDynfNKqasnIpuBKvZNirmB340xNZyOS11KRHZz8UqLa6dEsGa2KuP1oNxIRNYD1YC1yelcIrLR12d3UZmjI+D+by3WwjULRCS3iOTz5Q6diARgXcaLwboJyadPzK5E5GmgCxCKNRtKCeBD/hsLwCjlbgnGmEQAY8wZSV7f3E+ISGHgJS69Gd3n1nkwxpRyOgYPSzDGGBExkDLfvvqPC3A6AOU5dofuGyB5ZLgE8INjAbmBMSYJ60vHH3XDuiR5EsAYsx3/SK1RygkVRGSj/bPJ5fGmK8077SM+x7oZvTTWQkO7sWZC8VliaWuvXIqI3CgitZyOyw1miMhHQLD9vbwAH17hU7mHpqD4MfuyVy3gT5fLXpuMMZUcDSyTRGQ0cAz4mtTTivl6nuCfxpg7kmedEJFsWJcs9TKlUtfIntYuw/mkjTF7vBiO24nIGmNMDddUBhFZZYyp6XRs18te5TgJaGiMuTV5ikVfLlMyEWkENMZKq5lrjJnvcEjKYZqC4t/OGWMSkq+82h06f/iL61H7/91cthl8Px1liYgMwLoJrhHQFWtRCqXUtfvCnqZvmjGmndPBeEDyzeiHROQ+4CBW+povu8Ous3UAxpgYEQlyOqjMEpHXjTEvA/PT2ab+o7QD7t/8skNnjCntdAwe0g9rOrFNWLngPxtj9DKlUtcnSEQeB+qmtzqwr68IDIwQkQLAi8A4ID/W1H2+7LyIBGIPFNl57kmXP8QnNALSdrabpbNN/YdoCoofs286egqXy17Ax76+0mJ6X6bACay5fo94O57MEpEHgZLGmPH245VYcxcb4CVjzDdOxqeULxKRelhzZLcGZqZ52vjByrl+R0SewLrCWR1rpchWwCBjzP8cDew6ichzWANfZYCdLk/lA5YaY9o6EpjKErQD7qfsUYQtxpgKTsfibiLyM1CHi3PeRgBrsG5GGm6MmeZQaNdFRJYCjxlj9tmP1wMNsaZX/NQYo7OgKHWdRKSzMWay03G4i4iM4zKphMaYnl4Mx+3s3P17sAaNFhpjtjoc0nWzr1CEAK9hXeFMFufr9yypzNMUFD9lz327TURuNMbsdToeN8sG3GqMOQwgIkWBz4A7sKYm9KkOOBCU3Pm2/WGfnKN1uiqlrp+IFAFuEpHkq0hbgPG+eKXMxWqX34cBQ50KxN1E5D3gq+Srgb7OGHMC6+psG0hpjzmBvCKS1w+/m9U10A64fwsBttgpDa6zhfj60uY3JHe+bUfsbdEicj6jg7KwENcHxpjuLg8LezkWpfyCiNwJfIG1WNdn9uYawEoRecIYs9Sp2DLDGDM1+XcRecH1sR9YAwwSkVuwlqH/yhiz+grHZHki0hwYCxTH+r66CdiKNYe7+o/SDrgfEpFyQFFgcJqn7gIOeT8it1ssIj8ByXmBrexteYBYx6K6fn+KyNPGmEmuG0XkGWClQzEp5eveAloYY9a5bJspIt9jrY1whzNhuZVf5ZDaf0xMFZFQ4GHgdfsqbnmHQ8usEUBtYIE9xWwDQPO//+O0A+6f3gH6G2M2uW4UkWhgFODr+ZDdgJZAPfvxVOBb++bSBo5Fdf16AT/YMzastbfVAHIALZwKSikflz9N5xsAY8x6EcnnREDqqpUDKnBxpNjXnTfGHBeRABEJMMYsEpF3nA5KOUs74P6paNrON4AxZpOIlHIgHreyl/T9A0jAGgFa6cszu9j5qHVFpCEXL0n+bIz51cGwlPJ1IiIhxpiYNBtD8eFVoEUkjosj37lF5GTyU1inx/zORJZ5IvIG8BDWjCFfA68aY2IdDco9YkUkL9Y9Sp+LyBFc0kLVf5POguKHRGR7RpfsRGSHMaact2NyJxFpDYwBFmN96dwF9NXp+pRSyUSkC/A00IfUV5ZeBz4xxnzkVGwqfXba3bfGmGNOx+JOdnrkWazvqyeAAsDnxpjjjgamHKUdcD8kIl8Cv6aTU/wU0MgY82j6R/oGEdmAVY4j9uPCWLl1VZyNTCmVlYjI/cBLXLyytAUYY4zx+QXJ/ImIVDDG/C0i1dN73hizNr3tvkZE8uOSeaBTEf63aQfcD9nT8n2PlaKxxt4cDgQBDxljopyKzR1EZJMxppLL4wBgg+s2pZRSvkFEJhpjuojIonSeNsaYhl4Pyo3skf1hWKPgSVxMFyrjaGDKUdoB92P2ndYV7Ydb/CWnWETGAJWBL+1Nj2KtgvmSc1EppbIiESkN9ABKkXr00denY/U7IpLTGHP2Stt8jYhsB+r4W2qNyhztgCufZC9HnzwLyu/GmO+djEcplTXZKWuTgU1Yo48AGGOWOBaUSpeIrDXGVL/SNl8jIr8ALY0xZ5yORWUdOguK8lVrgJPGmAUikltE8hlj4pwOSimV5Zw1xrzndBAqYyISBpQAcolINawUDYD8QG7HAnOf/sAyEfkTOJe80RjT07mQlNO0hu6NbgAABTtJREFUA658jog8DXQBQoGyWCfuD4F7nIxLKZUlvSsiQ4F5pO78+MWNfX6iCdARKIm1gFJyB/wkMMChmNzpI+BX0lyFUf9tmoKifI6IrAdqAX8aY6rZ2zbpTZhKqbRE5DWgHdbc0smdH5+/sc8fyf/bu99Qvcc4juPvD8YWm1HKA9E8oYRl/lO0IYz8WbSNJyM8EY3yL23EAxG1QjIai5LlTyEkE0v+zJ8R5REikSfoNDOZjwfX73DvOLPZfbqv3+8+n1edzn397k59HpzO/T3X9b2uS1pg+5naOSaapI9HP6siRmUGPLpos+3fpTJJImk3huxK5oiYMBcBB9v+vXaQ2K45kl4fvXxH0j7A9bZvrRurby8359K/wNarMDmGcBLr7G1gMam9KekWSr/g6cAayh+2iIixPgNm1g4RO+Ss3psvm1tMz64XZ8IsoukDp+xf+hD4oGqiqC4z4NFFNwGXU/rprqRc2/5I3UgR0VIzgS8krWfr2cccQ9g+u0raw/ZmAEnTgD0qZ+qb7Vm1M0T7pACPzpB0HnCA7QeAlc1mzP0oy5Y/5yr6iBjH8toBYoc9CbwuaVUzXgKsrpinL5Lm2l7bHJv7L7afHXSmaI9swozOkPQ2sND2t814AzAX2AtYZTunoEREdJikM4HTmuFrtl+tmacfkm63vbznH4petn3ZwENFa6QAj86QtN72MT3j+21f3bx+1/bx9dJFRBtJGuGfTdq7A1OAjbZn1EsV2yNpT+BCyqTL/Np5+iFplu2vtvcsJpdswowu2ad3MFp8N/YbcJaI6ADb023PaAruacAC4MHKsWIcknaXdIGkNcD3lBXOhyrHmgjjHa2YlslJLj3g0SXvSbrC9sreh5KuAt6vlCkiOsJlyff55mKem2rniULSGZSTQs4A3qD0fR9je0nVYH2SdChwGLD3mD7wGcDUOqmiLVKAR5cspXx4LgZGb7GbQ9klf36tUBHRXmMKn12Ao4HfKsWJ8b0CrANOHm3LkLSibqQJcQhwDuUknnN7no8AV9QIFO2RHvDoHElzKbMKAJ/bXlszT0S015gNcH8AXwMrbf9YJ1GMJWk2sJByadKXwFPAMtsH1cw1USSdYPud2jmiXVKAR0RERCtIOpHSjrIA+AR4zvbDdVP1R9LdwJ3AJsps/xHAUttPVA0WVaUAj4iIoSNp2X+8bdt3DCxM/G+SdgHmAYu6flyfpA22Z0u6gNKSch3wlu0jK0eLinIKSkREDKON43xBuUX3xlqhYtskndQcPwiwGDgLuL1ipIkypfk+H1hj+5eaYaIdMgMeERFDTdJ04FpK8f00cG96wNtH0qfAkZQWjceAR4CLbZ9SM1e/JN1FOShgE3AsZVPmi7aPqxgrKksBHhERQ0nSvpTl/kuAx4EVtn+qmyq2RdJHto9q2oe+s/3o6LPa2frV/C7+YntLM8s/3fYPtXNFPWlBiYiIoSPpHmA95ci3w23fluK79UYk3QxcCrzU9IFP2c7PtJakG3qG82xvAbC9EbimTqpoi8yAR0TE0JH0J7CZcvRg7wedKJswcxV9y0jan9L7vd72OkkHAqfaXl052k7pnb0fO5M/LDP7sfNyEU9ERAwd21nh7ZimJeO+nvE3lFsxu0rbeD3eOCaZFOARERFRjaQRtl6l+Pstur1a4W28Hm8ck0xaUCIiIiImmKQtlOMvBUwDfh19C5hqu7P97dG/FOAREREREQOUHrmIiIiIiAFKAR4RERERMUApwCMiIiIiBigFeERERETEAKUAj4iIiIgYoL8ADWlsH/7V/gUAAAAASUVORK5CYII=\n",
       "datasetInfos": [],
       "metadata": {},
       "removedWidgets": [],
       "type": "image"
      }
     },
     "output_type": "display_data"
    }
   ],
   "source": [
    "plt.figure(figsize=(12, 12))\n",
    "plt.title('Heatmap of correlation')\n",
    "dfCorr = df.select(*['CreditScore', 'Geography_se', 'Gender_se', 'Age', 'Tenure', 'Balance', 'NumOfProducts', 'HasCrCard', 'IsActiveMember', 'EstimatedSalary']) \n",
    "sns.heatmap(dfCorr.toPandas().corr(), annot=True)\n",
    "plt.show()"
   ]
  },
  {
   "cell_type": "code",
   "execution_count": null,
   "metadata": {
    "application/vnd.databricks.v1+cell": {
     "cellMetadata": {
      "byteLimit": 2048000,
      "rowLimit": 10000
     },
     "inputWidgets": {},
     "nuid": "b74280e0-a0a3-41cb-8f08-4d7ab56489f8",
     "showTitle": false,
     "title": ""
    }
   },
   "outputs": [],
   "source": [
    "# Balance and geography have a high correlation of 0.48. We will can perform an ablation study of training model with and without one of these two variables and with both of them and see the test metrics accordingly."
   ]
  },
  {
   "cell_type": "code",
   "execution_count": null,
   "metadata": {
    "application/vnd.databricks.v1+cell": {
     "cellMetadata": {
      "byteLimit": 2048000,
      "rowLimit": 10000
     },
     "inputWidgets": {},
     "nuid": "9f347d3e-da88-4138-b6c9-7a8a2a7ab3e0",
     "showTitle": false,
     "title": ""
    }
   },
   "outputs": [],
   "source": [
    "# lets select our features and target to create our final df\n",
    "df_final = df.select('IndependentFeatures','Churned')"
   ]
  },
  {
   "cell_type": "code",
   "execution_count": null,
   "metadata": {
    "application/vnd.databricks.v1+cell": {
     "cellMetadata": {
      "byteLimit": 2048000,
      "rowLimit": 10000
     },
     "inputWidgets": {},
     "nuid": "e15f236c-aa3e-40b5-ac3f-7022d975484f",
     "showTitle": false,
     "title": ""
    }
   },
   "outputs": [
    {
     "name": "stdout",
     "output_type": "stream",
     "text": [
      "+--------------------+-------+\n",
      "| IndependentFeatures|Churned|\n",
      "+--------------------+-------+\n",
      "|[668.0,1.0,0.0,1....|      0|\n",
      "|[627.0,1.0,0.0,1....|      0|\n",
      "|[678.0,1.0,0.0,1....|      0|\n",
      "|[581.0,1.0,0.0,1....|      0|\n",
      "|[716.0,0.0,1.0,1....|      0|\n",
      "+--------------------+-------+\n",
      "only showing top 5 rows\n",
      "\n"
     ]
    }
   ],
   "source": [
    "df_final.show(5)"
   ]
  },
  {
   "cell_type": "code",
   "execution_count": null,
   "metadata": {
    "application/vnd.databricks.v1+cell": {
     "cellMetadata": {
      "byteLimit": 2048000,
      "rowLimit": 10000
     },
     "inputWidgets": {},
     "nuid": "5e2ecda8-f0a9-4a5e-a827-cf7163acce22",
     "showTitle": false,
     "title": ""
    }
   },
   "outputs": [
    {
     "name": "stdout",
     "output_type": "stream",
     "text": [
      "Out[34]: 165034"
     ]
    }
   ],
   "source": [
    "df_final.count()"
   ]
  }
 ],
 "metadata": {
  "application/vnd.databricks.v1+notebook": {
   "dashboards": [],
   "environmentMetadata": null,
   "language": "python",
   "notebookMetadata": {
    "pythonIndentUnit": 4
   },
   "notebookName": "ChurnPrediction",
   "widgets": {}
  },
  "language_info": {
   "name": "python"
  }
 },
 "nbformat": 4,
 "nbformat_minor": 0
}
